{
 "cells": [
  {
   "cell_type": "code",
   "execution_count": 2,
   "metadata": {
    "tags": []
   },
   "outputs": [],
   "source": [
    "import pandas as pd\n",
    "import numpy as np\n",
    "import matplotlib.pyplot as plt\n",
    "from matplotlib.ticker import ScalarFormatter\n",
    "import os\n",
    "import tabulate as tb"
   ]
  },
  {
   "cell_type": "code",
   "execution_count": 3,
   "metadata": {},
   "outputs": [],
   "source": [
    "%matplotlib inline"
   ]
  },
  {
   "cell_type": "code",
   "execution_count": 4,
   "metadata": {
    "tags": []
   },
   "outputs": [],
   "source": [
    "# !pip install tabulate\n",
    "# !pip install igraph\n",
    "# !pip install -U seaborn\n",
    "# !pip install community\n",
    "# !pip install python-louvain"
   ]
  },
  {
   "cell_type": "code",
   "execution_count": 5,
   "metadata": {},
   "outputs": [],
   "source": [
    "import seaborn as sns"
   ]
  },
  {
   "cell_type": "code",
   "execution_count": 6,
   "metadata": {},
   "outputs": [],
   "source": [
    "def count_comments(df):\n",
    "    print(f\"Dataframe contains: {len(df):,} comments\")"
   ]
  },
  {
   "cell_type": "code",
   "execution_count": 7,
   "metadata": {},
   "outputs": [],
   "source": [
    "sns.set_style(\"darkgrid\")"
   ]
  },
  {
   "cell_type": "code",
   "execution_count": 8,
   "metadata": {},
   "outputs": [],
   "source": [
    "def estimate_size_of_graph(df):\n",
    "    authors_videos_group = df.drop(columns=['likes', 'replies'])\n",
    "    # number of connections\n",
    "    print(\"Number of vertices is: {:,}\".format(int(authors_videos_group.groupby('author').count().apply(lambda x: comb(x, 2)).sum().values[0])))\n",
    "    print(f\"Number of nodes: {len(df):,}\")"
   ]
  },
  {
   "cell_type": "code",
   "execution_count": 9,
   "metadata": {},
   "outputs": [],
   "source": [
    "from itertools import product\n",
    "import itertools as it\n",
    "import igraph\n",
    "from scipy.special import comb\n",
    "from community import community_louvain"
   ]
  },
  {
   "cell_type": "markdown",
   "metadata": {},
   "source": [
    "# Read all comments under videos from News & Poltiics category"
   ]
  },
  {
   "cell_type": "markdown",
   "metadata": {},
   "source": [
    "#### all files take 12.8 GB RAM"
   ]
  },
  {
   "cell_type": "code",
   "execution_count": 12,
   "metadata": {},
   "outputs": [
    {
     "name": "stdout",
     "output_type": "stream",
     "text": [
      "Read 12% files\n",
      "Read 25% files\n",
      "Read 37% files\n",
      "Read 50% files\n",
      "Read 62% files\n",
      "Read 75% files\n",
      "Read 87% files\n",
      "Read 100% files\n"
     ]
    }
   ],
   "source": [
    "COMMENTS_YT_VIDEOS_DIR = \"../../comments_analysis\"\n",
    "\n",
    "df = None\n",
    "files_to_read = os.listdir(COMMENTS_YT_VIDEOS_DIR)\n",
    "files_read = 0\n",
    "for file in [file for file in files_to_read if file[-3:] == \"csv\"]:\n",
    "    filepath = os.path.join(COMMENTS_YT_VIDEOS_DIR, file)\n",
    "    if df is None:\n",
    "        df = pd.read_csv(filepath)\n",
    "    else:\n",
    "        df = pd.concat([df, pd.read_csv(filepath)])\n",
    "    \n",
    "    files_read += 1\n",
    "    percentage_read = 100*(files_read+1)/len(files_to_read)\n",
    "    if percentage_read % 2.5 == 0:\n",
    "        print(f\"Read {int(percentage_read)}% files\")"
   ]
  },
  {
   "cell_type": "markdown",
   "metadata": {},
   "source": [
    "### Read data"
   ]
  },
  {
   "cell_type": "code",
   "execution_count": 14,
   "metadata": {},
   "outputs": [
    {
     "data": {
      "text/plain": [
       "author        int64\n",
       "video_id     object\n",
       "likes       float64\n",
       "replies     float64\n",
       "dtype: object"
      ]
     },
     "execution_count": 14,
     "metadata": {},
     "output_type": "execute_result"
    }
   ],
   "source": [
    "df.dtypes"
   ]
  },
  {
   "cell_type": "code",
   "execution_count": 15,
   "metadata": {},
   "outputs": [
    {
     "name": "stdout",
     "output_type": "stream",
     "text": [
      "Dataframe contains: 156,271,825 comments\n"
     ]
    }
   ],
   "source": [
    "count_comments(df)"
   ]
  },
  {
   "cell_type": "code",
   "execution_count": 16,
   "metadata": {},
   "outputs": [],
   "source": [
    "df.dropna(inplace=True)"
   ]
  },
  {
   "cell_type": "code",
   "execution_count": 17,
   "metadata": {},
   "outputs": [
    {
     "name": "stdout",
     "output_type": "stream",
     "text": [
      "Dataframe contains: 156,271,606 comments\n"
     ]
    }
   ],
   "source": [
    "count_comments(df)"
   ]
  },
  {
   "cell_type": "markdown",
   "metadata": {},
   "source": [
    "## Filter out videos with no engagement"
   ]
  },
  {
   "cell_type": "code",
   "execution_count": 18,
   "metadata": {},
   "outputs": [
    {
     "name": "stdout",
     "output_type": "stream",
     "text": [
      "Dropped 149,578,506 comments with 0 engagement\n"
     ]
    }
   ],
   "source": [
    "size1 = df.shape[0]\n",
    "df = df[(df.replies>1) & (df.likes>1)]\n",
    "size2 = df.shape[0]\n",
    "print(f\"Dropped {(size1 - size2):,} comments with 0 engagement\")"
   ]
  },
  {
   "cell_type": "code",
   "execution_count": 19,
   "metadata": {},
   "outputs": [
    {
     "name": "stdout",
     "output_type": "stream",
     "text": [
      "Dataframe contains: 6,693,100 comments\n"
     ]
    }
   ],
   "source": [
    "count_comments(df)"
   ]
  },
  {
   "cell_type": "code",
   "execution_count": 20,
   "metadata": {},
   "outputs": [],
   "source": [
    "# save comments with engagement\n",
    "df.to_csv(\"comments_with_engagement.csv\", index=False)"
   ]
  },
  {
   "cell_type": "code",
   "execution_count": 11,
   "metadata": {},
   "outputs": [],
   "source": [
    "df = pd.read_csv(\"comments_with_engagement.csv\")"
   ]
  },
  {
   "cell_type": "markdown",
   "metadata": {},
   "source": [
    "# Check Stats of videos"
   ]
  },
  {
   "cell_type": "code",
   "execution_count": 21,
   "metadata": {},
   "outputs": [
    {
     "data": {
      "image/png": "[encoded data removed]",
      "text/plain": [
       "<Figure size 1200x500 with 2 Axes>"
      ]
     },
     "metadata": {},
     "output_type": "display_data"
    }
   ],
   "source": [
    "def plot_distributions_stats_video(data):\n",
    "    fig, axes = plt.subplots(1, 2, figsize=(12, 5), sharey=False)\n",
    "\n",
    "    # Commentors per video\n",
    "    sns.histplot(\n",
    "        ax=axes[0],\n",
    "        x=data.likes.values,\n",
    "        binwidth=0.05,\n",
    "        log_scale=True)\n",
    "    axes[0].set_title(\"Distribution of likes of comments\");\n",
    "    axes[0].set_xlabel(\"Number of comments\")\n",
    "    axes[0].set_ylabel(\"Number of likes\")\n",
    "    # axes[0].set_xticks([1, 10, 100, 1000, 10000])\n",
    "    axes[0].get_xaxis().set_major_formatter(ScalarFormatter())\n",
    "    \n",
    "    # comments per author\n",
    "    sns.histplot(\n",
    "        ax=axes[1],\n",
    "        x=data.replies.values,\n",
    "        binwidth=0.05,\n",
    "        log_scale=True)\n",
    "\n",
    "    axes[1].set_title(\"Distribution of replies to comments\");\n",
    "    axes[1].set_xlabel(\"Number of comments\")\n",
    "    axes[1].set_ylabel(\"Number of replies\")\n",
    "    # axes[1].set_xticks([1, 10, 100, 1000])\n",
    "    axes[1].get_xaxis().set_major_formatter(ScalarFormatter())\n",
    "    plt.show()\n",
    "    \n",
    "plot_distributions_stats_video(df)"
   ]
  },
  {
   "cell_type": "code",
   "execution_count": 22,
   "metadata": {},
   "outputs": [
    {
     "name": "stdout",
     "output_type": "stream",
     "text": [
      "Comments stats      Median      mean    min    max\n",
      "----------------  --------  --------  -----  -----\n",
      "Likes                   16  84.3347       2  67850\n",
      "Replies                  4   8.91973      2    533\n"
     ]
    }
   ],
   "source": [
    "def print_comments_stats(df):\n",
    "    print(\n",
    "        tb.tabulate(\n",
    "            [\n",
    "                [\"Comments stats\",'Median', 'mean', 'min', 'max'],\n",
    "                [\"Likes\", df.likes.median(), df.likes.mean(), df.likes.min(), df.likes.max()],\n",
    "                [\"Replies\", df.replies.median(), df.replies.mean(), df.replies.min(), df.replies.max()],\n",
    "            ]\n",
    "        , headers=\"firstrow\"))\n",
    "\n",
    "print_comments_stats(df)"
   ]
  },
  {
   "cell_type": "code",
   "execution_count": 23,
   "metadata": {},
   "outputs": [
    {
     "name": "stdout",
     "output_type": "stream",
     "text": [
      "Dataframe contains: 6,693,100 comments\n"
     ]
    }
   ],
   "source": [
    "count_comments(df)"
   ]
  },
  {
   "cell_type": "code",
   "execution_count": 24,
   "metadata": {},
   "outputs": [],
   "source": [
    "comments_per_video = df.groupby(\"video_id\").author.count()  # this would be weights of the links between nodes"
   ]
  },
  {
   "cell_type": "code",
   "execution_count": 25,
   "metadata": {},
   "outputs": [
    {
     "data": {
      "text/plain": [
       "video_id\n",
       "----meyKR48     7\n",
       "---OX3cNabE    45\n",
       "--0AS6UJDg8     4\n",
       "--0FoLoWxMo    18\n",
       "--0t5lElcQQ     3\n",
       "Name: author, dtype: int64"
      ]
     },
     "execution_count": 25,
     "metadata": {},
     "output_type": "execute_result"
    }
   ],
   "source": [
    "comments_per_video.head()"
   ]
  },
  {
   "cell_type": "code",
   "execution_count": 26,
   "metadata": {},
   "outputs": [
    {
     "name": "stdout",
     "output_type": "stream",
     "text": [
      "Dropped 175,529 comments from user left more that 2 comments from users\n"
     ]
    }
   ],
   "source": [
    "# drop comments from users that commented the same video\n",
    "size = df.shape[0]\n",
    "df = df.drop_duplicates([\"author\", \"video_id\"], keep='first')\n",
    "size2 = df.shape[0]\n",
    "print(f\"Dropped {(size - size2):,} comments from user left more that 2 comments from users\")"
   ]
  },
  {
   "cell_type": "code",
   "execution_count": 27,
   "metadata": {},
   "outputs": [
    {
     "name": "stdout",
     "output_type": "stream",
     "text": [
      "Dataframe contains: 6,517,571 comments\n"
     ]
    }
   ],
   "source": [
    "count_comments(df)"
   ]
  },
  {
   "cell_type": "code",
   "execution_count": 28,
   "metadata": {},
   "outputs": [
    {
     "name": "stdout",
     "output_type": "stream",
     "text": [
      "Number of vertices is: 202,533,868\n",
      "Number of nodes: 6,517,571\n",
      "Comments stats      Median      mean    min    max\n",
      "----------------  --------  --------  -----  -----\n",
      "Likes                   16  84.8483       2  67850\n",
      "Replies                  4   8.90919      2    533\n"
     ]
    }
   ],
   "source": [
    "estimate_size_of_graph(df)\n",
    "print_comments_stats(df)"
   ]
  },
  {
   "cell_type": "markdown",
   "metadata": {},
   "source": [
    "## Encode labels"
   ]
  },
  {
   "cell_type": "code",
   "execution_count": 29,
   "metadata": {},
   "outputs": [],
   "source": [
    "from sklearn import preprocessing"
   ]
  },
  {
   "cell_type": "code",
   "execution_count": 30,
   "metadata": {},
   "outputs": [
    {
     "data": {
      "text/plain": [
       "LabelEncoder()"
      ]
     },
     "execution_count": 30,
     "metadata": {},
     "output_type": "execute_result"
    }
   ],
   "source": [
    "video_id_encoder = preprocessing.LabelEncoder()\n",
    "video_id_encoder.fit(df.video_id.tolist())"
   ]
  },
  {
   "cell_type": "code",
   "execution_count": 31,
   "metadata": {},
   "outputs": [],
   "source": [
    "df[\"video_label\"] = video_id_encoder.transform(df.video_id.tolist())"
   ]
  },
  {
   "cell_type": "code",
   "execution_count": 32,
   "metadata": {},
   "outputs": [
    {
     "data": {
      "text/plain": [
       "(6517571, 5)"
      ]
     },
     "execution_count": 32,
     "metadata": {},
     "output_type": "execute_result"
    }
   ],
   "source": [
    "df.shape"
   ]
  },
  {
   "cell_type": "code",
   "execution_count": 33,
   "metadata": {},
   "outputs": [],
   "source": [
    "df = df.drop(columns=[\"video_id\"])"
   ]
  },
  {
   "cell_type": "code",
   "execution_count": 34,
   "metadata": {},
   "outputs": [],
   "source": [
    "df.reset_index(drop=True, inplace=True)"
   ]
  },
  {
   "cell_type": "code",
   "execution_count": 35,
   "metadata": {
    "tags": []
   },
   "outputs": [
    {
     "data": {
      "text/html": [
       "<div>\n",
       "<style scoped>\n",
       "    .dataframe tbody tr th:only-of-type {\n",
       "        vertical-align: middle;\n",
       "    }\n",
       "\n",
       "    .dataframe tbody tr th {\n",
       "        vertical-align: top;\n",
       "    }\n",
       "\n",
       "    .dataframe thead th {\n",
       "        text-align: right;\n",
       "    }\n",
       "</style>\n",
       "<table border=\"1\" class=\"dataframe\">\n",
       "  <thead>\n",
       "    <tr style=\"text-align: right;\">\n",
       "      <th></th>\n",
       "      <th>author</th>\n",
       "      <th>likes</th>\n",
       "      <th>replies</th>\n",
       "      <th>video_label</th>\n",
       "    </tr>\n",
       "  </thead>\n",
       "  <tbody>\n",
       "    <tr>\n",
       "      <th>0</th>\n",
       "      <td>291407159</td>\n",
       "      <td>267.0</td>\n",
       "      <td>8.0</td>\n",
       "      <td>242817</td>\n",
       "    </tr>\n",
       "    <tr>\n",
       "      <th>1</th>\n",
       "      <td>291407159</td>\n",
       "      <td>10.0</td>\n",
       "      <td>2.0</td>\n",
       "      <td>120153</td>\n",
       "    </tr>\n",
       "    <tr>\n",
       "      <th>2</th>\n",
       "      <td>291407540</td>\n",
       "      <td>59.0</td>\n",
       "      <td>3.0</td>\n",
       "      <td>288695</td>\n",
       "    </tr>\n",
       "    <tr>\n",
       "      <th>3</th>\n",
       "      <td>291407792</td>\n",
       "      <td>7.0</td>\n",
       "      <td>2.0</td>\n",
       "      <td>292043</td>\n",
       "    </tr>\n",
       "    <tr>\n",
       "      <th>4</th>\n",
       "      <td>291407792</td>\n",
       "      <td>125.0</td>\n",
       "      <td>17.0</td>\n",
       "      <td>136823</td>\n",
       "    </tr>\n",
       "  </tbody>\n",
       "</table>\n",
       "</div>"
      ],
      "text/plain": [
       "      author  likes  replies  video_label\n",
       "0  291407159  267.0      8.0       242817\n",
       "1  291407159   10.0      2.0       120153\n",
       "2  291407540   59.0      3.0       288695\n",
       "3  291407792    7.0      2.0       292043\n",
       "4  291407792  125.0     17.0       136823"
      ]
     },
     "execution_count": 35,
     "metadata": {},
     "output_type": "execute_result"
    }
   ],
   "source": [
    "df.head()"
   ]
  },
  {
   "cell_type": "markdown",
   "metadata": {},
   "source": [
    "## Plot data"
   ]
  },
  {
   "cell_type": "code",
   "execution_count": 36,
   "metadata": {},
   "outputs": [
    {
     "data": {
      "image/png": "[encoded data removed]",
      "text/plain": [
       "<Figure size 1200x500 with 2 Axes>"
      ]
     },
     "metadata": {},
     "output_type": "display_data"
    }
   ],
   "source": [
    "def plot_distributions_commentors(data):\n",
    "    fig, axes = plt.subplots(1, 2, figsize=(12, 5), sharey=False)\n",
    "\n",
    "    # Commentors per video\n",
    "    commentors_per_video = data.groupby('video_label')['author'].count().reset_index()\n",
    "    sns.histplot(\n",
    "        ax=axes[0],\n",
    "        x=commentors_per_video.author,\n",
    "        binwidth=0.05,\n",
    "        linewidth=1,\n",
    "        log_scale=True)\n",
    "    axes[0].set_title(\"Distribution of number of commentors per video\");\n",
    "    axes[0].set_xlabel(\"Number of authors\")\n",
    "    axes[0].set_ylabel(\"Number of videos\")\n",
    "\n",
    "    # comments per author\n",
    "    comments_per_author = data.groupby(\"author\")['video_label'].transform('count').reset_index()\n",
    "    sns.histplot(\n",
    "        ax=axes[1],\n",
    "        x=comments_per_author.video_label,\n",
    "        binwidth=0.05,\n",
    "        linewidth=1,\n",
    "        log_scale=True)\n",
    "\n",
    "    axes[1].set_title(\"Distribution of number of comments per author\");\n",
    "    axes[1].set_xlabel(\"Number of comments\")\n",
    "    axes[1].set_ylabel(\"Number of authors\")\n",
    "    plt.show()\n",
    "    \n",
    "plot_distributions_commentors(df)"
   ]
  },
  {
   "cell_type": "markdown",
   "metadata": {},
   "source": [
    "# Data wrangling"
   ]
  },
  {
   "cell_type": "markdown",
   "metadata": {
    "tags": []
   },
   "source": [
    "# Filter out comments from video that got less than 2 comments"
   ]
  },
  {
   "cell_type": "code",
   "execution_count": 37,
   "metadata": {},
   "outputs": [
    {
     "name": "stdout",
     "output_type": "stream",
     "text": [
      "Dropped 37,873 vidoes that have less than 2 comments\n"
     ]
    }
   ],
   "source": [
    "# Filter out comments from video that got less than 2 comments\n",
    "size1 = df.shape[0]\n",
    "df = df.loc[df.groupby(\"video_label\")['author'].transform('count')>=2, :]\n",
    "size2 = df.shape[0]\n",
    "print(f\"Dropped {(size1 - size2):,} vidoes that have less than 2 comments\")\n",
    "#\n",
    "# Paper said that they scrapped videos that has more than 10 comments\n",
    "#"
   ]
  },
  {
   "cell_type": "code",
   "execution_count": 38,
   "metadata": {},
   "outputs": [
    {
     "name": "stdout",
     "output_type": "stream",
     "text": [
      "Dropped 1,148,363 authors that commented less than 2 videos\n"
     ]
    }
   ],
   "source": [
    "# Filter out authors that commented less than 2 comments\n",
    "size1 = df.shape[0]\n",
    "df = df.loc[df.groupby(\"author\")['video_label'].transform('count')>=2, :]\n",
    "size2 = df.shape[0]\n",
    "print(f\"Dropped {(size1 - size2):,} authors that commented less than 2 videos\")"
   ]
  },
  {
   "cell_type": "code",
   "execution_count": 39,
   "metadata": {},
   "outputs": [
    {
     "name": "stdout",
     "output_type": "stream",
     "text": [
      "Dataframe contains: 5,331,335 comments\n"
     ]
    }
   ],
   "source": [
    "count_comments(df)"
   ]
  },
  {
   "cell_type": "code",
   "execution_count": 40,
   "metadata": {},
   "outputs": [
    {
     "data": {
      "image/png": "[encoded data removed]",
      "text/plain": [
       "<Figure size 1200x500 with 2 Axes>"
      ]
     },
     "metadata": {},
     "output_type": "display_data"
    }
   ],
   "source": [
    "plot_distributions_commentors(df)"
   ]
  },
  {
   "cell_type": "code",
   "execution_count": 41,
   "metadata": {},
   "outputs": [
    {
     "name": "stdout",
     "output_type": "stream",
     "text": [
      "Number of vertices is: 200,253,072\n",
      "Number of nodes: 5,331,335\n"
     ]
    }
   ],
   "source": [
    "estimate_size_of_graph(df)"
   ]
  },
  {
   "cell_type": "code",
   "execution_count": 42,
   "metadata": {},
   "outputs": [
    {
     "name": "stdout",
     "output_type": "stream",
     "text": [
      "Comments stats      Median    mean    min    max\n",
      "----------------  --------  ------  -----  -----\n",
      "Likes                   15  78.727      2  67850\n",
      "Replies                  4   8.966      2    533\n"
     ]
    }
   ],
   "source": [
    "print_comments_stats(df)"
   ]
  },
  {
   "cell_type": "code",
   "execution_count": 43,
   "metadata": {},
   "outputs": [
    {
     "name": "stdout",
     "output_type": "stream",
     "text": [
      "Maximum number of videos that single user commented under: 2891\n",
      "Minimum number of videos that single user commented under: 2\n",
      "Mean number of videos that single user commented under: 7.750373974568276\n",
      "Median number of videos that single user commented under: 3.0\n"
     ]
    }
   ],
   "source": [
    "author_count = df.groupby('author')['video_label'].count()\n",
    "print(\"Maximum number of videos that single user commented under: {}\".format(author_count.max()))\n",
    "print(\"Minimum number of videos that single user commented under: {}\".format(author_count.min()))\n",
    "print(\"Mean number of videos that single user commented under: {}\".format(author_count.mean()))\n",
    "print(\"Median number of videos that single user commented under: {}\".format(author_count.median()))"
   ]
  },
  {
   "cell_type": "code",
   "execution_count": 44,
   "metadata": {},
   "outputs": [
    {
     "name": "stdout",
     "output_type": "stream",
     "text": [
      "Dropped 3,592,550 comments that got less replies than the median, and likes then the median\n"
     ]
    }
   ],
   "source": [
    "size1 = df.shape[0]\n",
    "df_2 = df[(df.replies>df.replies.median()) & (df.likes>df.likes.median())]\n",
    "size2 = df_2.shape[0]\n",
    "print(f\"Dropped {(size1 - size2):,} comments that got less replies than the median, and likes then the median\")"
   ]
  },
  {
   "cell_type": "code",
   "execution_count": 45,
   "metadata": {},
   "outputs": [
    {
     "name": "stdout",
     "output_type": "stream",
     "text": [
      "Number of vertices is: 31,651,303\n",
      "Number of nodes: 1,738,785\n",
      "Comments stats      Median      mean    min    max\n",
      "----------------  --------  --------  -----  -----\n",
      "Likes                   81  200.68       16  67850\n",
      "Replies                 11   18.3113      5    533\n"
     ]
    }
   ],
   "source": [
    "estimate_size_of_graph(df_2)\n",
    "print_comments_stats(df_2)"
   ]
  },
  {
   "cell_type": "code",
   "execution_count": 46,
   "metadata": {},
   "outputs": [
    {
     "data": {
      "image/png": "[encoded data removed]",
      "text/plain": [
       "<Figure size 1200x500 with 2 Axes>"
      ]
     },
     "metadata": {},
     "output_type": "display_data"
    }
   ],
   "source": [
    "plot_distributions_commentors(df_2)"
   ]
  },
  {
   "cell_type": "code",
   "execution_count": 47,
   "metadata": {},
   "outputs": [
    {
     "name": "stdout",
     "output_type": "stream",
     "text": [
      "Dropped 214,935 authors that commented less than 2 videos\n",
      "Dropped 57,657 vidoes that have less than 2 comments\n"
     ]
    }
   ],
   "source": [
    "# Filter out authors that commented less than 2 comments\n",
    "size1 = df_2.shape[0]\n",
    "df_2 = df_2.loc[df_2.groupby(\"author\")['video_label'].transform('count')>=2, :]\n",
    "size2 = df_2.shape[0]\n",
    "print(f\"Dropped {(size1 - size2):,} authors that commented less than 2 videos\")\n",
    "\n",
    "# Filter out comments from video that got less than 2 comments\n",
    "size1 = df_2.shape[0]\n",
    "df_2 = df_2.loc[df_2.groupby(\"video_label\")['author'].transform('count')>=2, :]\n",
    "size2 = df_2.shape[0]\n",
    "print(f\"Dropped {(size1 - size2):,} vidoes that have less than 2 comments\")"
   ]
  },
  {
   "cell_type": "code",
   "execution_count": 48,
   "metadata": {},
   "outputs": [
    {
     "data": {
      "image/png": "[encoded data removed]",
      "text/plain": [
       "<Figure size 1200x500 with 2 Axes>"
      ]
     },
     "metadata": {},
     "output_type": "display_data"
    }
   ],
   "source": [
    "plot_distributions_commentors(df_2)"
   ]
  },
  {
   "cell_type": "code",
   "execution_count": 89,
   "metadata": {},
   "outputs": [
    {
     "name": "stdout",
     "output_type": "stream",
     "text": [
      "Dropped 19,335 authors that commented less than 2 videos\n"
     ]
    }
   ],
   "source": [
    "size1 = df_2.shape[0]\n",
    "df_2 = df_2.loc[df_2.groupby(\"author\")['video_label'].transform('count')>=2, :]\n",
    "size2 = df_2.shape[0]\n",
    "print(f\"Dropped {(size1 - size2):,} authors that commented less than 2 videos\")"
   ]
  },
  {
   "cell_type": "code",
   "execution_count": 49,
   "metadata": {},
   "outputs": [
    {
     "name": "stdout",
     "output_type": "stream",
     "text": [
      "Number of vertices is: 29,066,132\n",
      "Number of nodes: 1,466,193\n",
      "Comments stats      Median      mean    min    max\n",
      "----------------  --------  --------  -----  -----\n",
      "Likes                   86  206.082      16  67850\n",
      "Replies                 11   18.7602      5    533\n"
     ]
    }
   ],
   "source": [
    "estimate_size_of_graph(df_2)\n",
    "print_comments_stats(df_2)"
   ]
  },
  {
   "cell_type": "code",
   "execution_count": 90,
   "metadata": {},
   "outputs": [
    {
     "data": {
      "text/plain": [
       "(346289,)"
      ]
     },
     "execution_count": 90,
     "metadata": {},
     "output_type": "execute_result"
    }
   ],
   "source": [
    "df_2.video_label.unique().shape"
   ]
  },
  {
   "cell_type": "code",
   "execution_count": 51,
   "metadata": {},
   "outputs": [],
   "source": [
    "df_2.to_csv(\"comments_with_engagement_filtered.csv\", index=False)"
   ]
  },
  {
   "cell_type": "markdown",
   "metadata": {},
   "source": [
    "## Decode labels and save the mapping"
   ]
  },
  {
   "cell_type": "code",
   "execution_count": 72,
   "metadata": {},
   "outputs": [],
   "source": [
    "df_2['video_id'] = video_id_encoder.inverse_transform(df_2.video_label)\n",
    "df_2[['video_id', 'video_label']].to_csv('videos_mapping.csv', index=False)"
   ]
  },
  {
   "cell_type": "markdown",
   "metadata": {
    "tags": []
   },
   "source": [
    "# Do a graph!"
   ]
  },
  {
   "cell_type": "code",
   "execution_count": 77,
   "metadata": {},
   "outputs": [],
   "source": [
    "authors_videos_group = df_2.drop(columns=['likes', 'replies', 'video_id'])"
   ]
  },
  {
   "cell_type": "code",
   "execution_count": 78,
   "metadata": {},
   "outputs": [
    {
     "data": {
      "text/plain": [
       "(1466193, 2)"
      ]
     },
     "execution_count": 78,
     "metadata": {},
     "output_type": "execute_result"
    }
   ],
   "source": [
    "authors_videos_group.shape"
   ]
  },
  {
   "cell_type": "code",
   "execution_count": 79,
   "metadata": {},
   "outputs": [
    {
     "name": "stdout",
     "output_type": "stream",
     "text": [
      "Number of vertices is: 29,066,132\n",
      "Number of nodes: 1,466,193\n"
     ]
    }
   ],
   "source": [
    "estimate_size_of_graph(df_2)"
   ]
  },
  {
   "cell_type": "markdown",
   "metadata": {},
   "source": [
    "### Create source-target link dataframe"
   ]
  },
  {
   "cell_type": "code",
   "execution_count": 55,
   "metadata": {},
   "outputs": [],
   "source": [
    "import time"
   ]
  },
  {
   "cell_type": "code",
   "execution_count": 56,
   "metadata": {},
   "outputs": [
    {
     "name": "stdout",
     "output_type": "stream",
     "text": [
      "Finished after: 39.2456s\n"
     ]
    }
   ],
   "source": [
    "start_time = time.time()\n",
    "\n",
    "combinations = list()\n",
    "for _, g_data in authors_videos_group.groupby('author'):\n",
    "    # create combinations of two pairs\n",
    "    combinations.extend(list(it.combinations(g_data.video_label.values, 2)))\n",
    "\n",
    "links = pd.DataFrame(combinations, dtype='int64')\n",
    "links.rename(columns={0: \"source\", 1:\"target\"}, inplace=True)\n",
    "\n",
    "print(f\"Finished after: {(time.time()-start_time):.4f}s\")"
   ]
  },
  {
   "cell_type": "code",
   "execution_count": 81,
   "metadata": {},
   "outputs": [],
   "source": [
    "links = pd.DataFrame(combinations, dtype='int64')"
   ]
  },
  {
   "cell_type": "code",
   "execution_count": null,
   "metadata": {},
   "outputs": [],
   "source": [
    "# add weights \n",
    "start_time = time.time()\n",
    "links['weight'] = links.apply(lambda x: comments_per_video.iloc[x.source]+comments_per_video.iloc[x.target], axis=1)\n",
    "print(f\"Finished after: {(time.time()-start_time):.4f}s\")"
   ]
  },
  {
   "cell_type": "code",
   "execution_count": 82,
   "metadata": {},
   "outputs": [
    {
     "data": {
      "text/html": [
       "<div>\n",
       "<style scoped>\n",
       "    .dataframe tbody tr th:only-of-type {\n",
       "        vertical-align: middle;\n",
       "    }\n",
       "\n",
       "    .dataframe tbody tr th {\n",
       "        vertical-align: top;\n",
       "    }\n",
       "\n",
       "    .dataframe thead th {\n",
       "        text-align: right;\n",
       "    }\n",
       "</style>\n",
       "<table border=\"1\" class=\"dataframe\">\n",
       "  <thead>\n",
       "    <tr style=\"text-align: right;\">\n",
       "      <th></th>\n",
       "      <th>0</th>\n",
       "      <th>1</th>\n",
       "    </tr>\n",
       "  </thead>\n",
       "  <tbody>\n",
       "    <tr>\n",
       "      <th>0</th>\n",
       "      <td>33645</td>\n",
       "      <td>178718</td>\n",
       "    </tr>\n",
       "    <tr>\n",
       "      <th>1</th>\n",
       "      <td>33645</td>\n",
       "      <td>261586</td>\n",
       "    </tr>\n",
       "    <tr>\n",
       "      <th>2</th>\n",
       "      <td>178718</td>\n",
       "      <td>261586</td>\n",
       "    </tr>\n",
       "    <tr>\n",
       "      <th>3</th>\n",
       "      <td>146450</td>\n",
       "      <td>107483</td>\n",
       "    </tr>\n",
       "    <tr>\n",
       "      <th>4</th>\n",
       "      <td>146450</td>\n",
       "      <td>58361</td>\n",
       "    </tr>\n",
       "    <tr>\n",
       "      <th>...</th>\n",
       "      <td>...</td>\n",
       "      <td>...</td>\n",
       "    </tr>\n",
       "    <tr>\n",
       "      <th>29066127</th>\n",
       "      <td>241312</td>\n",
       "      <td>142207</td>\n",
       "    </tr>\n",
       "    <tr>\n",
       "      <th>29066128</th>\n",
       "      <td>241312</td>\n",
       "      <td>180107</td>\n",
       "    </tr>\n",
       "    <tr>\n",
       "      <th>29066129</th>\n",
       "      <td>311310</td>\n",
       "      <td>142207</td>\n",
       "    </tr>\n",
       "    <tr>\n",
       "      <th>29066130</th>\n",
       "      <td>311310</td>\n",
       "      <td>180107</td>\n",
       "    </tr>\n",
       "    <tr>\n",
       "      <th>29066131</th>\n",
       "      <td>142207</td>\n",
       "      <td>180107</td>\n",
       "    </tr>\n",
       "  </tbody>\n",
       "</table>\n",
       "<p>29066132 rows × 2 columns</p>\n",
       "</div>"
      ],
      "text/plain": [
       "               0       1\n",
       "0          33645  178718\n",
       "1          33645  261586\n",
       "2         178718  261586\n",
       "3         146450  107483\n",
       "4         146450   58361\n",
       "...          ...     ...\n",
       "29066127  241312  142207\n",
       "29066128  241312  180107\n",
       "29066129  311310  142207\n",
       "29066130  311310  180107\n",
       "29066131  142207  180107\n",
       "\n",
       "[29066132 rows x 2 columns]"
      ]
     },
     "execution_count": 82,
     "metadata": {},
     "output_type": "execute_result"
    }
   ],
   "source": [
    "links"
   ]
  },
  {
   "cell_type": "code",
   "execution_count": 64,
   "metadata": {},
   "outputs": [
    {
     "name": "stdout",
     "output_type": "stream",
     "text": [
      "done\n"
     ]
    }
   ],
   "source": [
    "print('done')"
   ]
  },
  {
   "cell_type": "code",
   "execution_count": 65,
   "metadata": {},
   "outputs": [],
   "source": [
    "links.to_csv(\"links_weightend.csv\", index=False)"
   ]
  },
  {
   "cell_type": "code",
   "execution_count": 89,
   "metadata": {},
   "outputs": [
    {
     "data": {
      "text/plain": [
       "'29,066,132'"
      ]
     },
     "execution_count": 89,
     "metadata": {},
     "output_type": "execute_result"
    }
   ],
   "source": [
    "f\"{links.shape[0]:,}\""
   ]
  },
  {
   "cell_type": "code",
   "execution_count": 90,
   "metadata": {},
   "outputs": [
    {
     "name": "stdout",
     "output_type": "stream",
     "text": [
      "Number of vertices is: 29,066,132\n",
      "Number of nodes: 1,466,193\n"
     ]
    }
   ],
   "source": [
    "estimate_size_of_graph(df_2)"
   ]
  },
  {
   "cell_type": "code",
   "execution_count": 68,
   "metadata": {},
   "outputs": [],
   "source": [
    "import networkx as nx"
   ]
  },
  {
   "cell_type": "code",
   "execution_count": 69,
   "metadata": {},
   "outputs": [
    {
     "name": "stdout",
     "output_type": "stream",
     "text": [
      "Finished after: 96.7452s\n"
     ]
    }
   ],
   "source": [
    "start_time = time.time()\n",
    "graph = nx.from_pandas_edgelist(links,\n",
    "                                edge_attr='weight')\n",
    "print(f\"Finished after: {(time.time()-start_time):.4f}s\")"
   ]
  },
  {
   "cell_type": "code",
   "execution_count": 83,
   "metadata": {},
   "outputs": [
    {
     "name": "stdout",
     "output_type": "stream",
     "text": [
      "Finished after: 1953.5137s\n"
     ]
    }
   ],
   "source": [
    "start_time = time.time()\n",
    "communities = community_louvain.best_partition(graph, weight='weight')\n",
    "print(f\"Finished after: {(time.time()-start_time):.4f}s\")"
   ]
  },
  {
   "cell_type": "code",
   "execution_count": 84,
   "metadata": {},
   "outputs": [
    {
     "name": "stdout",
     "output_type": "stream",
     "text": [
      "done\n"
     ]
    }
   ],
   "source": [
    "print('done')"
   ]
  },
  {
   "cell_type": "markdown",
   "metadata": {},
   "source": [
    "During computation it went up to 46% RAM on 128GB AWS Sagemaker notebook"
   ]
  },
  {
   "cell_type": "code",
   "execution_count": 85,
   "metadata": {},
   "outputs": [],
   "source": [
    "labels = pd.DataFrame.from_dict(communities, orient='index').reset_index().rename(columns={\"index\":\"video_label\", 0: \"cluster\"})"
   ]
  },
  {
   "cell_type": "code",
   "execution_count": 93,
   "metadata": {},
   "outputs": [
    {
     "data": {
      "text/plain": [
       "(163316,)"
      ]
     },
     "execution_count": 93,
     "metadata": {},
     "output_type": "execute_result"
    }
   ],
   "source": [
    "labels.video_label.unique().shape"
   ]
  },
  {
   "cell_type": "markdown",
   "metadata": {},
   "source": [
    "## Decode labels"
   ]
  },
  {
   "cell_type": "code",
   "execution_count": 94,
   "metadata": {},
   "outputs": [],
   "source": [
    "df_2['video_id'] = video_id_encoder.inverse_transform(df_2.video_label)"
   ]
  },
  {
   "cell_type": "code",
   "execution_count": 95,
   "metadata": {},
   "outputs": [],
   "source": [
    "labels['video_id'] = video_id_encoder.inverse_transform(labels.video_label)"
   ]
  },
  {
   "cell_type": "code",
   "execution_count": 96,
   "metadata": {},
   "outputs": [],
   "source": [
    "links['source_id'] = video_id_encoder.inverse_transform(links.source)\n",
    "links['target_id'] = video_id_encoder.inverse_transform(links.target)"
   ]
  },
  {
   "cell_type": "code",
   "execution_count": 97,
   "metadata": {},
   "outputs": [
    {
     "data": {
      "text/plain": [
       "((1466193, 5), (29066132, 4), (163316, 3))"
      ]
     },
     "execution_count": 97,
     "metadata": {},
     "output_type": "execute_result"
    }
   ],
   "source": [
    "df_2.shape, links.shape, labels.shape"
   ]
  },
  {
   "cell_type": "markdown",
   "metadata": {},
   "source": [
    "### Save files"
   ]
  },
  {
   "cell_type": "code",
   "execution_count": 98,
   "metadata": {},
   "outputs": [],
   "source": [
    "df_2.to_csv(\"df_filtered_weighted.csv\", index=False)"
   ]
  },
  {
   "cell_type": "code",
   "execution_count": 99,
   "metadata": {},
   "outputs": [],
   "source": [
    "labels.to_csv(\"labeled_communities_weighted.csv\", index=False)"
   ]
  },
  {
   "cell_type": "code",
   "execution_count": 100,
   "metadata": {},
   "outputs": [],
   "source": [
    "links.to_csv(\"links_weighted.csv\", index=False)"
   ]
  }
 ],
 "metadata": {
  "instance_type": "ml.r5.4xlarge",
  "kernelspec": {
   "display_name": "Python 3 (Data Science)",
   "language": "python",
   "name": "python3__SAGEMAKER_INTERNAL__arn:aws:sagemaker:us-east-1:081325390199:image/datascience-1.0"
  },
  "language_info": {
   "codemirror_mode": {
    "name": "ipython",
    "version": 3
   },
   "file_extension": ".py",
   "mimetype": "text/x-python",
   "name": "python",
   "nbconvert_exporter": "python",
   "pygments_lexer": "ipython3",
   "version": "3.7.10"
  }
 },
 "nbformat": 4,
 "nbformat_minor": 4
}
