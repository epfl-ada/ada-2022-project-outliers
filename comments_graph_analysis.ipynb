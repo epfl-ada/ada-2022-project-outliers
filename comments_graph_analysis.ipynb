{
 "cells": [
  {
   "cell_type": "code",
   "execution_count": 2,
   "metadata": {
    "tags": []
   },
   "outputs": [],
   "source": [
    "import pandas as pd\n",
    "import numpy as np\n",
    "import matplotlib.pyplot as plt\n",
    "from matplotlib.ticker import ScalarFormatter\n",
    "import os\n",
    "import tabulate as tb"
   ]
  },
  {
   "cell_type": "code",
   "execution_count": 3,
   "metadata": {},
   "outputs": [],
   "source": [
    "%matplotlib inline"
   ]
  },
  {
   "cell_type": "code",
   "execution_count": 4,
   "metadata": {
    "tags": []
   },
   "outputs": [],
   "source": [
    "# !pip install tabulate\n",
    "# !python -m spacy download en\n",
    "# !pip install spacy\n",
    "# !pip install igraph\n",
    "# !pip install -U seaborn\n",
    "# !pip install community\n",
    "# !pip install python-louvain"
   ]
  },
  {
   "cell_type": "code",
   "execution_count": 5,
   "metadata": {},
   "outputs": [],
   "source": [
    "import seaborn as sns"
   ]
  },
  {
   "cell_type": "code",
   "execution_count": 6,
   "metadata": {},
   "outputs": [],
   "source": [
    "sns.set_style(\"darkgrid\")"
   ]
  },
  {
   "cell_type": "markdown",
   "metadata": {},
   "source": [
    "# Analyze"
   ]
  },
  {
   "cell_type": "code",
   "execution_count": 7,
   "metadata": {},
   "outputs": [],
   "source": [
    "import pandas as pd\n",
    "import numpy as np\n",
    "import matplotlib.pyplot as plt\n",
    "from matplotlib.ticker import ScalarFormatter\n",
    "import os\n",
    "import tabulate as tb\n",
    "\n",
    "%matplotlib inline"
   ]
  },
  {
   "cell_type": "code",
   "execution_count": 8,
   "metadata": {},
   "outputs": [],
   "source": [
    "df = pd.read_csv(\"weighted_graph_2_news_politics/df_filtered_weighted.csv\")\n",
    "cluster_labels = pd.read_csv(\"weighted_graph_2_news_politics/labeled_communities_weighted.csv\")\n",
    "videos_links = pd.read_csv(\"weighted_graph_2_news_politics/links_weighted.csv\")"
   ]
  },
  {
   "cell_type": "code",
   "execution_count": 9,
   "metadata": {},
   "outputs": [
    {
     "data": {
      "text/html": [
       "<div>\n",
       "<style scoped>\n",
       "    .dataframe tbody tr th:only-of-type {\n",
       "        vertical-align: middle;\n",
       "    }\n",
       "\n",
       "    .dataframe tbody tr th {\n",
       "        vertical-align: top;\n",
       "    }\n",
       "\n",
       "    .dataframe thead th {\n",
       "        text-align: right;\n",
       "    }\n",
       "</style>\n",
       "<table border=\"1\" class=\"dataframe\">\n",
       "  <thead>\n",
       "    <tr style=\"text-align: right;\">\n",
       "      <th></th>\n",
       "      <th>video_label</th>\n",
       "      <th>cluster</th>\n",
       "      <th>video_id</th>\n",
       "    </tr>\n",
       "  </thead>\n",
       "  <tbody>\n",
       "    <tr>\n",
       "      <th>0</th>\n",
       "      <td>33645</td>\n",
       "      <td>0</td>\n",
       "      <td>4_uxu7w2eq0</td>\n",
       "    </tr>\n",
       "    <tr>\n",
       "      <th>1</th>\n",
       "      <td>178718</td>\n",
       "      <td>1</td>\n",
       "      <td>SedClkAnclk</td>\n",
       "    </tr>\n",
       "    <tr>\n",
       "      <th>2</th>\n",
       "      <td>261586</td>\n",
       "      <td>0</td>\n",
       "      <td>fTpQ5FZivpg</td>\n",
       "    </tr>\n",
       "    <tr>\n",
       "      <th>3</th>\n",
       "      <td>146450</td>\n",
       "      <td>13</td>\n",
       "      <td>NJo9VdTtRYs</td>\n",
       "    </tr>\n",
       "    <tr>\n",
       "      <th>4</th>\n",
       "      <td>107483</td>\n",
       "      <td>1</td>\n",
       "      <td>Gpl2uF1SrDA</td>\n",
       "    </tr>\n",
       "    <tr>\n",
       "      <th>...</th>\n",
       "      <td>...</td>\n",
       "      <td>...</td>\n",
       "      <td>...</td>\n",
       "    </tr>\n",
       "    <tr>\n",
       "      <th>163311</th>\n",
       "      <td>333283</td>\n",
       "      <td>7</td>\n",
       "      <td>rSJu7zg9hjY</td>\n",
       "    </tr>\n",
       "    <tr>\n",
       "      <th>163312</th>\n",
       "      <td>227539</td>\n",
       "      <td>15</td>\n",
       "      <td>_l6WVsGhBAA</td>\n",
       "    </tr>\n",
       "    <tr>\n",
       "      <th>163313</th>\n",
       "      <td>232572</td>\n",
       "      <td>4</td>\n",
       "      <td>abZby97tiaY</td>\n",
       "    </tr>\n",
       "    <tr>\n",
       "      <th>163314</th>\n",
       "      <td>302054</td>\n",
       "      <td>1</td>\n",
       "      <td>mCPz894jSIo</td>\n",
       "    </tr>\n",
       "    <tr>\n",
       "      <th>163315</th>\n",
       "      <td>50142</td>\n",
       "      <td>0</td>\n",
       "      <td>7Hqcl5vR8sY</td>\n",
       "    </tr>\n",
       "  </tbody>\n",
       "</table>\n",
       "<p>163316 rows × 3 columns</p>\n",
       "</div>"
      ],
      "text/plain": [
       "        video_label  cluster     video_id\n",
       "0             33645        0  4_uxu7w2eq0\n",
       "1            178718        1  SedClkAnclk\n",
       "2            261586        0  fTpQ5FZivpg\n",
       "3            146450       13  NJo9VdTtRYs\n",
       "4            107483        1  Gpl2uF1SrDA\n",
       "...             ...      ...          ...\n",
       "163311       333283        7  rSJu7zg9hjY\n",
       "163312       227539       15  _l6WVsGhBAA\n",
       "163313       232572        4  abZby97tiaY\n",
       "163314       302054        1  mCPz894jSIo\n",
       "163315        50142        0  7Hqcl5vR8sY\n",
       "\n",
       "[163316 rows x 3 columns]"
      ]
     },
     "execution_count": 9,
     "metadata": {},
     "output_type": "execute_result"
    }
   ],
   "source": [
    "cluster_labels"
   ]
  },
  {
   "cell_type": "markdown",
   "metadata": {},
   "source": [
    "### Smth analysis"
   ]
  },
  {
   "cell_type": "code",
   "execution_count": 10,
   "metadata": {},
   "outputs": [],
   "source": [
    "videos = pd.read_csv(\"../../final_labelled.csv\").iloc[:,1:]  # ommit 1st column"
   ]
  },
  {
   "cell_type": "code",
   "execution_count": 11,
   "metadata": {},
   "outputs": [],
   "source": [
    "cluster_labels.rename(columns={\"video_id\": \"display_id\"}, inplace=True)"
   ]
  },
  {
   "cell_type": "code",
   "execution_count": 12,
   "metadata": {},
   "outputs": [],
   "source": [
    "videos_clusters = cluster_labels.merge(videos, on='display_id')"
   ]
  },
  {
   "cell_type": "code",
   "execution_count": 13,
   "metadata": {},
   "outputs": [],
   "source": [
    "video_tags = pd.read_csv(\"weighted_graph_2_news_politics/clustered_videos_info.csv\", usecols=['display_id', 'tags'])"
   ]
  },
  {
   "cell_type": "code",
   "execution_count": 14,
   "metadata": {},
   "outputs": [],
   "source": [
    "videos_clusters = videos_clusters.merge(video_tags, on='display_id')"
   ]
  },
  {
   "cell_type": "code",
   "execution_count": 15,
   "metadata": {},
   "outputs": [
    {
     "data": {
      "image/png": "[encoded data removed]",
      "text/plain": [
       "<Figure size 640x480 with 1 Axes>"
      ]
     },
     "metadata": {},
     "output_type": "display_data"
    }
   ],
   "source": [
    "# count data in each cluster\n",
    "videos_clusters.cluster.value_counts().plot(kind=\"bar\")\n",
    "plt.yscale('log')"
   ]
  },
  {
   "cell_type": "code",
   "execution_count": 16,
   "metadata": {},
   "outputs": [
    {
     "data": {
      "text/plain": [
       "video_label                    0\n",
       "cluster                        0\n",
       "display_id                     0\n",
       "channel_id                     0\n",
       "upload_date                    0\n",
       "like_count                   126\n",
       "dislike_count                126\n",
       "view_count                     0\n",
       "democrat                       0\n",
       "republican                     0\n",
       "negative_sentiment_score       0\n",
       "neutral_sentiment_score        0\n",
       "positive_sentiment_score       0\n",
       "tags                        5897\n",
       "dtype: int64"
      ]
     },
     "execution_count": 16,
     "metadata": {},
     "output_type": "execute_result"
    }
   ],
   "source": [
    "videos_clusters.isna().sum()"
   ]
  },
  {
   "cell_type": "markdown",
   "metadata": {},
   "source": [
    "## Join sentiments to data frow clusters"
   ]
  },
  {
   "cell_type": "code",
   "execution_count": 17,
   "metadata": {},
   "outputs": [],
   "source": [
    "SENTIMENTS_COLS_BEFORE = ['negative_sentiment_score', 'neutral_sentiment_score', 'positive_sentiment_score']\n",
    "SENTIMENTS_COLS = ['negative', 'neutral', 'positive']\n",
    "\n",
    "videos_clusters.rename(columns=dict(zip(SENTIMENTS_COLS_BEFORE, SENTIMENTS_COLS)), inplace=True)\n",
    "videos_clusters.rename(columns={\"display_id\": \"video_id\"}, inplace=True)"
   ]
  },
  {
   "cell_type": "code",
   "execution_count": 18,
   "metadata": {},
   "outputs": [
    {
     "data": {
      "text/plain": [
       "<matplotlib.axes._subplots.AxesSubplot at 0x7f463b5dcd90>"
      ]
     },
     "execution_count": 18,
     "metadata": {},
     "output_type": "execute_result"
    },
    {
     "data": {
      "image/png": "[encoded data removed]",
      "text/plain": [
       "<Figure size 640x480 with 1 Axes>"
      ]
     },
     "metadata": {},
     "output_type": "display_data"
    }
   ],
   "source": [
    "videos.republican.hist()"
   ]
  },
  {
   "cell_type": "code",
   "execution_count": 19,
   "metadata": {},
   "outputs": [
    {
     "data": {
      "text/html": [
       "<div>\n",
       "<style scoped>\n",
       "    .dataframe tbody tr th:only-of-type {\n",
       "        vertical-align: middle;\n",
       "    }\n",
       "\n",
       "    .dataframe tbody tr th {\n",
       "        vertical-align: top;\n",
       "    }\n",
       "\n",
       "    .dataframe thead th {\n",
       "        text-align: right;\n",
       "    }\n",
       "</style>\n",
       "<table border=\"1\" class=\"dataframe\">\n",
       "  <thead>\n",
       "    <tr style=\"text-align: right;\">\n",
       "      <th></th>\n",
       "      <th>display_id</th>\n",
       "      <th>channel_id</th>\n",
       "      <th>upload_date</th>\n",
       "      <th>like_count</th>\n",
       "      <th>dislike_count</th>\n",
       "      <th>view_count</th>\n",
       "      <th>democrat</th>\n",
       "      <th>republican</th>\n",
       "      <th>negative_sentiment_score</th>\n",
       "      <th>neutral_sentiment_score</th>\n",
       "      <th>positive_sentiment_score</th>\n",
       "    </tr>\n",
       "  </thead>\n",
       "  <tbody>\n",
       "    <tr>\n",
       "      <th>0</th>\n",
       "      <td>dfa8RRkKoa4</td>\n",
       "      <td>UCzWm1-4XF7AHxVUTkHCM1uw</td>\n",
       "      <td>2018-08-23 00:00:00</td>\n",
       "      <td>25.0</td>\n",
       "      <td>16.0</td>\n",
       "      <td>478.0</td>\n",
       "      <td>0.050902</td>\n",
       "      <td>0.949213</td>\n",
       "      <td>0.0</td>\n",
       "      <td>1.0</td>\n",
       "      <td>0.0</td>\n",
       "    </tr>\n",
       "    <tr>\n",
       "      <th>1</th>\n",
       "      <td>_dIIEMvH86k</td>\n",
       "      <td>UCzWLsxDD373D4tY8kN-0LGQ</td>\n",
       "      <td>2015-01-04 00:00:00</td>\n",
       "      <td>9.0</td>\n",
       "      <td>0.0</td>\n",
       "      <td>865.0</td>\n",
       "      <td>0.508231</td>\n",
       "      <td>0.490137</td>\n",
       "      <td>0.0</td>\n",
       "      <td>1.0</td>\n",
       "      <td>0.0</td>\n",
       "    </tr>\n",
       "    <tr>\n",
       "      <th>2</th>\n",
       "      <td>eWXefhNB2po</td>\n",
       "      <td>UCzVBu6oqlrAix0oq9T2rBFg</td>\n",
       "      <td>2019-04-24 00:00:00</td>\n",
       "      <td>625.0</td>\n",
       "      <td>89.0</td>\n",
       "      <td>12780.0</td>\n",
       "      <td>0.817460</td>\n",
       "      <td>0.180474</td>\n",
       "      <td>0.0</td>\n",
       "      <td>0.0</td>\n",
       "      <td>1.0</td>\n",
       "    </tr>\n",
       "    <tr>\n",
       "      <th>3</th>\n",
       "      <td>MBgzne7djFU</td>\n",
       "      <td>UCzUV5283-l5c0oKRtyenj6Q</td>\n",
       "      <td>2019-10-03 00:00:00</td>\n",
       "      <td>47027.0</td>\n",
       "      <td>195.0</td>\n",
       "      <td>374711.0</td>\n",
       "      <td>0.101138</td>\n",
       "      <td>0.899285</td>\n",
       "      <td>0.0</td>\n",
       "      <td>0.0</td>\n",
       "      <td>1.0</td>\n",
       "    </tr>\n",
       "    <tr>\n",
       "      <th>4</th>\n",
       "      <td>AbH3pJnFgY8</td>\n",
       "      <td>UCzUV5283-l5c0oKRtyenj6Q</td>\n",
       "      <td>2019-10-02 00:00:00</td>\n",
       "      <td>36384.0</td>\n",
       "      <td>114.0</td>\n",
       "      <td>245617.0</td>\n",
       "      <td>0.168151</td>\n",
       "      <td>0.831550</td>\n",
       "      <td>0.0</td>\n",
       "      <td>0.0</td>\n",
       "      <td>1.0</td>\n",
       "    </tr>\n",
       "    <tr>\n",
       "      <th>...</th>\n",
       "      <td>...</td>\n",
       "      <td>...</td>\n",
       "      <td>...</td>\n",
       "      <td>...</td>\n",
       "      <td>...</td>\n",
       "      <td>...</td>\n",
       "      <td>...</td>\n",
       "      <td>...</td>\n",
       "      <td>...</td>\n",
       "      <td>...</td>\n",
       "      <td>...</td>\n",
       "    </tr>\n",
       "    <tr>\n",
       "      <th>8384919</th>\n",
       "      <td>5J3_2AcI83s</td>\n",
       "      <td>UCfHRX7ihY8WnSV53NnpKOvQ</td>\n",
       "      <td>2011-05-24 00:00:00</td>\n",
       "      <td>248.0</td>\n",
       "      <td>50.0</td>\n",
       "      <td>350722.0</td>\n",
       "      <td>0.040515</td>\n",
       "      <td>0.960173</td>\n",
       "      <td>0.0</td>\n",
       "      <td>0.0</td>\n",
       "      <td>1.0</td>\n",
       "    </tr>\n",
       "    <tr>\n",
       "      <th>8384920</th>\n",
       "      <td>NxL0B0JF9BI</td>\n",
       "      <td>UCfHRX7ihY8WnSV53NnpKOvQ</td>\n",
       "      <td>2011-05-02 00:00:00</td>\n",
       "      <td>3.0</td>\n",
       "      <td>3.0</td>\n",
       "      <td>3089.0</td>\n",
       "      <td>0.376157</td>\n",
       "      <td>0.622676</td>\n",
       "      <td>0.0</td>\n",
       "      <td>0.0</td>\n",
       "      <td>1.0</td>\n",
       "    </tr>\n",
       "    <tr>\n",
       "      <th>8384921</th>\n",
       "      <td>8FSQzJ9dd7o</td>\n",
       "      <td>UCfHRX7ihY8WnSV53NnpKOvQ</td>\n",
       "      <td>2011-05-02 00:00:00</td>\n",
       "      <td>199.0</td>\n",
       "      <td>16.0</td>\n",
       "      <td>99644.0</td>\n",
       "      <td>0.368228</td>\n",
       "      <td>0.633008</td>\n",
       "      <td>0.0</td>\n",
       "      <td>0.0</td>\n",
       "      <td>1.0</td>\n",
       "    </tr>\n",
       "    <tr>\n",
       "      <th>8384922</th>\n",
       "      <td>gzH6BrNj0L4</td>\n",
       "      <td>UCfHRX7ihY8WnSV53NnpKOvQ</td>\n",
       "      <td>2011-04-30 00:00:00</td>\n",
       "      <td>35.0</td>\n",
       "      <td>2.0</td>\n",
       "      <td>7219.0</td>\n",
       "      <td>0.409053</td>\n",
       "      <td>0.589437</td>\n",
       "      <td>0.0</td>\n",
       "      <td>0.0</td>\n",
       "      <td>1.0</td>\n",
       "    </tr>\n",
       "    <tr>\n",
       "      <th>8384923</th>\n",
       "      <td>KW4KB29LRlw</td>\n",
       "      <td>UCfHRX7ihY8WnSV53NnpKOvQ</td>\n",
       "      <td>2011-04-28 00:00:00</td>\n",
       "      <td>19.0</td>\n",
       "      <td>4.0</td>\n",
       "      <td>24815.0</td>\n",
       "      <td>0.258918</td>\n",
       "      <td>0.740744</td>\n",
       "      <td>0.0</td>\n",
       "      <td>0.0</td>\n",
       "      <td>1.0</td>\n",
       "    </tr>\n",
       "  </tbody>\n",
       "</table>\n",
       "<p>8384924 rows × 11 columns</p>\n",
       "</div>"
      ],
      "text/plain": [
       "          display_id                channel_id          upload_date  \\\n",
       "0        dfa8RRkKoa4  UCzWm1-4XF7AHxVUTkHCM1uw  2018-08-23 00:00:00   \n",
       "1        _dIIEMvH86k  UCzWLsxDD373D4tY8kN-0LGQ  2015-01-04 00:00:00   \n",
       "2        eWXefhNB2po  UCzVBu6oqlrAix0oq9T2rBFg  2019-04-24 00:00:00   \n",
       "3        MBgzne7djFU  UCzUV5283-l5c0oKRtyenj6Q  2019-10-03 00:00:00   \n",
       "4        AbH3pJnFgY8  UCzUV5283-l5c0oKRtyenj6Q  2019-10-02 00:00:00   \n",
       "...              ...                       ...                  ...   \n",
       "8384919  5J3_2AcI83s  UCfHRX7ihY8WnSV53NnpKOvQ  2011-05-24 00:00:00   \n",
       "8384920  NxL0B0JF9BI  UCfHRX7ihY8WnSV53NnpKOvQ  2011-05-02 00:00:00   \n",
       "8384921  8FSQzJ9dd7o  UCfHRX7ihY8WnSV53NnpKOvQ  2011-05-02 00:00:00   \n",
       "8384922  gzH6BrNj0L4  UCfHRX7ihY8WnSV53NnpKOvQ  2011-04-30 00:00:00   \n",
       "8384923  KW4KB29LRlw  UCfHRX7ihY8WnSV53NnpKOvQ  2011-04-28 00:00:00   \n",
       "\n",
       "         like_count  dislike_count  view_count  democrat  republican  \\\n",
       "0              25.0           16.0       478.0  0.050902    0.949213   \n",
       "1               9.0            0.0       865.0  0.508231    0.490137   \n",
       "2             625.0           89.0     12780.0  0.817460    0.180474   \n",
       "3           47027.0          195.0    374711.0  0.101138    0.899285   \n",
       "4           36384.0          114.0    245617.0  0.168151    0.831550   \n",
       "...             ...            ...         ...       ...         ...   \n",
       "8384919       248.0           50.0    350722.0  0.040515    0.960173   \n",
       "8384920         3.0            3.0      3089.0  0.376157    0.622676   \n",
       "8384921       199.0           16.0     99644.0  0.368228    0.633008   \n",
       "8384922        35.0            2.0      7219.0  0.409053    0.589437   \n",
       "8384923        19.0            4.0     24815.0  0.258918    0.740744   \n",
       "\n",
       "         negative_sentiment_score  neutral_sentiment_score  \\\n",
       "0                             0.0                      1.0   \n",
       "1                             0.0                      1.0   \n",
       "2                             0.0                      0.0   \n",
       "3                             0.0                      0.0   \n",
       "4                             0.0                      0.0   \n",
       "...                           ...                      ...   \n",
       "8384919                       0.0                      0.0   \n",
       "8384920                       0.0                      0.0   \n",
       "8384921                       0.0                      0.0   \n",
       "8384922                       0.0                      0.0   \n",
       "8384923                       0.0                      0.0   \n",
       "\n",
       "         positive_sentiment_score  \n",
       "0                             0.0  \n",
       "1                             0.0  \n",
       "2                             1.0  \n",
       "3                             1.0  \n",
       "4                             1.0  \n",
       "...                           ...  \n",
       "8384919                       1.0  \n",
       "8384920                       1.0  \n",
       "8384921                       1.0  \n",
       "8384922                       1.0  \n",
       "8384923                       1.0  \n",
       "\n",
       "[8384924 rows x 11 columns]"
      ]
     },
     "execution_count": 19,
     "metadata": {},
     "output_type": "execute_result"
    }
   ],
   "source": [
    "videos"
   ]
  },
  {
   "cell_type": "markdown",
   "metadata": {},
   "source": [
    "## Filter videos that are certain to be in political spectrum"
   ]
  },
  {
   "cell_type": "code",
   "execution_count": 20,
   "metadata": {},
   "outputs": [],
   "source": [
    "condlist = [videos_clusters.democrat >= 0.8, videos_clusters.republican > 0.8]\n",
    "choicelist = ['democrat', 'republican']\n",
    "videos_clusters['spectrum'] = np.select(condlist, choicelist, None)"
   ]
  },
  {
   "cell_type": "code",
   "execution_count": 21,
   "metadata": {},
   "outputs": [
    {
     "data": {
      "text/plain": [
       "'Dropped 59,868 unsure videos'"
      ]
     },
     "execution_count": 21,
     "metadata": {},
     "output_type": "execute_result"
    }
   ],
   "source": [
    "size1 = videos_clusters.shape[0]\n",
    "videos_clusters = videos_clusters[videos_clusters.spectrum.notna()]\n",
    "size2 = videos_clusters.shape[0]\n",
    "f\"Dropped {(size1 - size2):,} unsure videos\""
   ]
  },
  {
   "cell_type": "code",
   "execution_count": 22,
   "metadata": {},
   "outputs": [
    {
     "name": "stdout",
     "output_type": "stream",
     "text": [
      "97964\n",
      "94156\n"
     ]
    }
   ],
   "source": [
    "print(videos_clusters.shape[0])\n",
    "videos_clusters = videos_clusters.dropna()\n",
    "print(videos_clusters.shape[0])"
   ]
  },
  {
   "cell_type": "markdown",
   "metadata": {},
   "source": [
    "## Engineer feature"
   ]
  },
  {
   "cell_type": "code",
   "execution_count": 23,
   "metadata": {},
   "outputs": [
    {
     "data": {
      "text/plain": [
       "0          1426.0\n",
       "1          4751.0\n",
       "3           212.0\n",
       "5         22682.0\n",
       "9         26335.0\n",
       "           ...   \n",
       "157823      229.0\n",
       "157824      975.0\n",
       "157826       37.0\n",
       "157828     2622.0\n",
       "157831      556.0\n",
       "Name: like_count, Length: 94156, dtype: float64"
      ]
     },
     "execution_count": 23,
     "metadata": {},
     "output_type": "execute_result"
    }
   ],
   "source": [
    "videos_clusters.like_count"
   ]
  },
  {
   "cell_type": "code",
   "execution_count": 24,
   "metadata": {},
   "outputs": [],
   "source": [
    "likes_count = videos_clusters.like_count+videos_clusters.dislike_count\n",
    "videos_clusters['dislike_ratio'] = videos_clusters.dislike_count/likes_count\n",
    "videos_clusters['like_ratio'] = videos_clusters.like_count/likes_count"
   ]
  },
  {
   "cell_type": "code",
   "execution_count": 25,
   "metadata": {},
   "outputs": [
    {
     "data": {
      "image/png": "[encoded data removed]",
      "text/plain": [
       "<Figure size 1850x1050 with 1 Axes>"
      ]
     },
     "metadata": {},
     "output_type": "display_data"
    }
   ],
   "source": [
    "fig = plt.gcf()\n",
    "fig.set_size_inches(18.5, 10.5)\n",
    "counts = videos_clusters.cluster.value_counts().sort_values(ascending=False)\n",
    "sns.barplot(counts.index, counts.values, order=counts.index)\n",
    "plt.yscale('log')"
   ]
  },
  {
   "cell_type": "code",
   "execution_count": 28,
   "metadata": {},
   "outputs": [],
   "source": [
    "# fig = plt.gcf()\n",
    "# fig.set_size_inches(18.5, 10.5)\n",
    "# sns.barplot(data=videos_clusters\n",
    "#             , x=\"cluster\", y=\"like_ratio\", hue=\"spectrum\")\n",
    "# plt.ylim(0.6); plt.title(\"Like ratios per cluster and spectrum\", size=16)"
   ]
  },
  {
   "cell_type": "code",
   "execution_count": 188,
   "metadata": {},
   "outputs": [],
   "source": [
    "clusters_spectrum_ratio = videos_clusters.groupby(\"cluster\").spectrum.value_counts().to_frame('count').join(videos_clusters.groupby(\"cluster\").spectrum.value_counts(normalize=True))\n",
    "clusters_spectrum_ratio.rename(columns={\"spectrum\": \"spectrum_ratio\"}, inplace=True)"
   ]
  },
  {
   "cell_type": "code",
   "execution_count": 168,
   "metadata": {},
   "outputs": [],
   "source": [
    "clusters_spectrum_ratio = clusters_spectrum_ratio.sort_values(by=['spectrum', 'spectrum_ratio'], ascending=True)"
   ]
  },
  {
   "cell_type": "code",
   "execution_count": 150,
   "metadata": {},
   "outputs": [],
   "source": [
    "# clusters_spectrum_ratio = clusters_spectrum_ratio.reset_index(level=1).sort_values(by=['spectrum', 'spectrum_ratio'], ascending=True)"
   ]
  },
  {
   "cell_type": "code",
   "execution_count": 151,
   "metadata": {},
   "outputs": [],
   "source": [
    "# clusters_spectrum_ratio = clusters_spectrum_ratio.reset_index()"
   ]
  },
  {
   "cell_type": "code",
   "execution_count": 164,
   "metadata": {},
   "outputs": [],
   "source": [
    "i = 0\n",
    "for index in clusters_spectrum_ratio.index:\n",
    "    clusters_spectrum_ratio.at[index, 'order'] = i\n",
    "    i+=1"
   ]
  },
  {
   "cell_type": "code",
   "execution_count": 189,
   "metadata": {},
   "outputs": [
    {
     "data": {
      "text/html": [
       "<div>\n",
       "<style scoped>\n",
       "    .dataframe tbody tr th:only-of-type {\n",
       "        vertical-align: middle;\n",
       "    }\n",
       "\n",
       "    .dataframe tbody tr th {\n",
       "        vertical-align: top;\n",
       "    }\n",
       "\n",
       "    .dataframe thead th {\n",
       "        text-align: right;\n",
       "    }\n",
       "</style>\n",
       "<table border=\"1\" class=\"dataframe\">\n",
       "  <thead>\n",
       "    <tr style=\"text-align: right;\">\n",
       "      <th></th>\n",
       "      <th></th>\n",
       "      <th>count</th>\n",
       "      <th>spectrum_ratio</th>\n",
       "    </tr>\n",
       "    <tr>\n",
       "      <th>cluster</th>\n",
       "      <th>spectrum</th>\n",
       "      <th></th>\n",
       "      <th></th>\n",
       "    </tr>\n",
       "  </thead>\n",
       "  <tbody>\n",
       "    <tr>\n",
       "      <th rowspan=\"2\" valign=\"top\">0</th>\n",
       "      <th>democrat</th>\n",
       "      <td>11209</td>\n",
       "      <td>0.745329</td>\n",
       "    </tr>\n",
       "    <tr>\n",
       "      <th>republican</th>\n",
       "      <td>3830</td>\n",
       "      <td>0.254671</td>\n",
       "    </tr>\n",
       "    <tr>\n",
       "      <th rowspan=\"2\" valign=\"top\">1</th>\n",
       "      <th>republican</th>\n",
       "      <td>14981</td>\n",
       "      <td>0.518715</td>\n",
       "    </tr>\n",
       "    <tr>\n",
       "      <th>democrat</th>\n",
       "      <td>13900</td>\n",
       "      <td>0.481285</td>\n",
       "    </tr>\n",
       "    <tr>\n",
       "      <th>2</th>\n",
       "      <th>republican</th>\n",
       "      <td>1</td>\n",
       "      <td>1.000000</td>\n",
       "    </tr>\n",
       "    <tr>\n",
       "      <th rowspan=\"2\" valign=\"top\">3</th>\n",
       "      <th>republican</th>\n",
       "      <td>1093</td>\n",
       "      <td>0.577696</td>\n",
       "    </tr>\n",
       "    <tr>\n",
       "      <th>democrat</th>\n",
       "      <td>799</td>\n",
       "      <td>0.422304</td>\n",
       "    </tr>\n",
       "    <tr>\n",
       "      <th rowspan=\"2\" valign=\"top\">4</th>\n",
       "      <th>democrat</th>\n",
       "      <td>9128</td>\n",
       "      <td>0.525262</td>\n",
       "    </tr>\n",
       "    <tr>\n",
       "      <th>republican</th>\n",
       "      <td>8250</td>\n",
       "      <td>0.474738</td>\n",
       "    </tr>\n",
       "    <tr>\n",
       "      <th rowspan=\"2\" valign=\"top\">5</th>\n",
       "      <th>republican</th>\n",
       "      <td>2193</td>\n",
       "      <td>0.830367</td>\n",
       "    </tr>\n",
       "    <tr>\n",
       "      <th>democrat</th>\n",
       "      <td>448</td>\n",
       "      <td>0.169633</td>\n",
       "    </tr>\n",
       "    <tr>\n",
       "      <th>6</th>\n",
       "      <th>republican</th>\n",
       "      <td>1</td>\n",
       "      <td>1.000000</td>\n",
       "    </tr>\n",
       "    <tr>\n",
       "      <th rowspan=\"2\" valign=\"top\">7</th>\n",
       "      <th>democrat</th>\n",
       "      <td>9664</td>\n",
       "      <td>0.653768</td>\n",
       "    </tr>\n",
       "    <tr>\n",
       "      <th>republican</th>\n",
       "      <td>5118</td>\n",
       "      <td>0.346232</td>\n",
       "    </tr>\n",
       "    <tr>\n",
       "      <th rowspan=\"2\" valign=\"top\">8</th>\n",
       "      <th>democrat</th>\n",
       "      <td>587</td>\n",
       "      <td>0.797554</td>\n",
       "    </tr>\n",
       "    <tr>\n",
       "      <th>republican</th>\n",
       "      <td>149</td>\n",
       "      <td>0.202446</td>\n",
       "    </tr>\n",
       "    <tr>\n",
       "      <th rowspan=\"2\" valign=\"top\">9</th>\n",
       "      <th>democrat</th>\n",
       "      <td>3658</td>\n",
       "      <td>0.838222</td>\n",
       "    </tr>\n",
       "    <tr>\n",
       "      <th>republican</th>\n",
       "      <td>706</td>\n",
       "      <td>0.161778</td>\n",
       "    </tr>\n",
       "    <tr>\n",
       "      <th rowspan=\"2\" valign=\"top\">10</th>\n",
       "      <th>democrat</th>\n",
       "      <td>402</td>\n",
       "      <td>0.610942</td>\n",
       "    </tr>\n",
       "    <tr>\n",
       "      <th>republican</th>\n",
       "      <td>256</td>\n",
       "      <td>0.389058</td>\n",
       "    </tr>\n",
       "    <tr>\n",
       "      <th rowspan=\"2\" valign=\"top\">11</th>\n",
       "      <th>republican</th>\n",
       "      <td>402</td>\n",
       "      <td>0.815416</td>\n",
       "    </tr>\n",
       "    <tr>\n",
       "      <th>democrat</th>\n",
       "      <td>91</td>\n",
       "      <td>0.184584</td>\n",
       "    </tr>\n",
       "    <tr>\n",
       "      <th rowspan=\"2\" valign=\"top\">12</th>\n",
       "      <th>democrat</th>\n",
       "      <td>133</td>\n",
       "      <td>0.815951</td>\n",
       "    </tr>\n",
       "    <tr>\n",
       "      <th>republican</th>\n",
       "      <td>30</td>\n",
       "      <td>0.184049</td>\n",
       "    </tr>\n",
       "    <tr>\n",
       "      <th rowspan=\"2\" valign=\"top\">13</th>\n",
       "      <th>democrat</th>\n",
       "      <td>1906</td>\n",
       "      <td>0.573233</td>\n",
       "    </tr>\n",
       "    <tr>\n",
       "      <th>republican</th>\n",
       "      <td>1419</td>\n",
       "      <td>0.426767</td>\n",
       "    </tr>\n",
       "    <tr>\n",
       "      <th>14</th>\n",
       "      <th>republican</th>\n",
       "      <td>2</td>\n",
       "      <td>1.000000</td>\n",
       "    </tr>\n",
       "    <tr>\n",
       "      <th rowspan=\"2\" valign=\"top\">15</th>\n",
       "      <th>republican</th>\n",
       "      <td>16</td>\n",
       "      <td>0.695652</td>\n",
       "    </tr>\n",
       "    <tr>\n",
       "      <th>democrat</th>\n",
       "      <td>7</td>\n",
       "      <td>0.304348</td>\n",
       "    </tr>\n",
       "    <tr>\n",
       "      <th>16</th>\n",
       "      <th>republican</th>\n",
       "      <td>8</td>\n",
       "      <td>1.000000</td>\n",
       "    </tr>\n",
       "    <tr>\n",
       "      <th rowspan=\"2\" valign=\"top\">17</th>\n",
       "      <th>republican</th>\n",
       "      <td>2163</td>\n",
       "      <td>0.574045</td>\n",
       "    </tr>\n",
       "    <tr>\n",
       "      <th>democrat</th>\n",
       "      <td>1605</td>\n",
       "      <td>0.425955</td>\n",
       "    </tr>\n",
       "    <tr>\n",
       "      <th>18</th>\n",
       "      <th>republican</th>\n",
       "      <td>1</td>\n",
       "      <td>1.000000</td>\n",
       "    </tr>\n",
       "  </tbody>\n",
       "</table>\n",
       "</div>"
      ],
      "text/plain": [
       "                    count  spectrum_ratio\n",
       "cluster spectrum                         \n",
       "0       democrat    11209        0.745329\n",
       "        republican   3830        0.254671\n",
       "1       republican  14981        0.518715\n",
       "        democrat    13900        0.481285\n",
       "2       republican      1        1.000000\n",
       "3       republican   1093        0.577696\n",
       "        democrat      799        0.422304\n",
       "4       democrat     9128        0.525262\n",
       "        republican   8250        0.474738\n",
       "5       republican   2193        0.830367\n",
       "        democrat      448        0.169633\n",
       "6       republican      1        1.000000\n",
       "7       democrat     9664        0.653768\n",
       "        republican   5118        0.346232\n",
       "8       democrat      587        0.797554\n",
       "        republican    149        0.202446\n",
       "9       democrat     3658        0.838222\n",
       "        republican    706        0.161778\n",
       "10      democrat      402        0.610942\n",
       "        republican    256        0.389058\n",
       "11      republican    402        0.815416\n",
       "        democrat       91        0.184584\n",
       "12      democrat      133        0.815951\n",
       "        republican     30        0.184049\n",
       "13      democrat     1906        0.573233\n",
       "        republican   1419        0.426767\n",
       "14      republican      2        1.000000\n",
       "15      republican     16        0.695652\n",
       "        democrat        7        0.304348\n",
       "16      republican      8        1.000000\n",
       "17      republican   2163        0.574045\n",
       "        democrat     1605        0.425955\n",
       "18      republican      1        1.000000"
      ]
     },
     "execution_count": 189,
     "metadata": {},
     "output_type": "execute_result"
    }
   ],
   "source": [
    "clusters_spectrum_ratio"
   ]
  },
  {
   "cell_type": "code",
   "execution_count": 170,
   "metadata": {},
   "outputs": [
    {
     "data": {
      "text/html": [
       "<div>\n",
       "<style scoped>\n",
       "    .dataframe tbody tr th:only-of-type {\n",
       "        vertical-align: middle;\n",
       "    }\n",
       "\n",
       "    .dataframe tbody tr th {\n",
       "        vertical-align: top;\n",
       "    }\n",
       "\n",
       "    .dataframe thead th {\n",
       "        text-align: right;\n",
       "    }\n",
       "</style>\n",
       "<table border=\"1\" class=\"dataframe\">\n",
       "  <thead>\n",
       "    <tr style=\"text-align: right;\">\n",
       "      <th></th>\n",
       "      <th>cluster</th>\n",
       "      <th>spectrum</th>\n",
       "      <th>count</th>\n",
       "      <th>spectrum_ratio</th>\n",
       "    </tr>\n",
       "  </thead>\n",
       "  <tbody>\n",
       "    <tr>\n",
       "      <th>0</th>\n",
       "      <td>5</td>\n",
       "      <td>democrat</td>\n",
       "      <td>448</td>\n",
       "      <td>0.169633</td>\n",
       "    </tr>\n",
       "    <tr>\n",
       "      <th>1</th>\n",
       "      <td>11</td>\n",
       "      <td>democrat</td>\n",
       "      <td>91</td>\n",
       "      <td>0.184584</td>\n",
       "    </tr>\n",
       "    <tr>\n",
       "      <th>2</th>\n",
       "      <td>15</td>\n",
       "      <td>democrat</td>\n",
       "      <td>7</td>\n",
       "      <td>0.304348</td>\n",
       "    </tr>\n",
       "    <tr>\n",
       "      <th>3</th>\n",
       "      <td>3</td>\n",
       "      <td>democrat</td>\n",
       "      <td>799</td>\n",
       "      <td>0.422304</td>\n",
       "    </tr>\n",
       "    <tr>\n",
       "      <th>4</th>\n",
       "      <td>17</td>\n",
       "      <td>democrat</td>\n",
       "      <td>1605</td>\n",
       "      <td>0.425955</td>\n",
       "    </tr>\n",
       "  </tbody>\n",
       "</table>\n",
       "</div>"
      ],
      "text/plain": [
       "   cluster  spectrum  count  spectrum_ratio\n",
       "0        5  democrat    448        0.169633\n",
       "1       11  democrat     91        0.184584\n",
       "2       15  democrat      7        0.304348\n",
       "3        3  democrat    799        0.422304\n",
       "4       17  democrat   1605        0.425955"
      ]
     },
     "execution_count": 170,
     "metadata": {},
     "output_type": "execute_result"
    }
   ],
   "source": [
    "clusters_spectrum_ratio.reset_index().head()"
   ]
  },
  {
   "cell_type": "code",
   "execution_count": 185,
   "metadata": {},
   "outputs": [
    {
     "ename": "AttributeError",
     "evalue": "'SeriesGroupBy' object has no attribute 'index'",
     "output_type": "error",
     "traceback": [
      "\u001b[0;31m---------------------------------------------------------------------------\u001b[0m",
      "\u001b[0;31mAttributeError\u001b[0m                            Traceback (most recent call last)",
      "\u001b[0;32m<ipython-input-185-76c373daba48>\u001b[0m in \u001b[0;36m<module>\u001b[0;34m\u001b[0m\n\u001b[0;32m----> 1\u001b[0;31m \u001b[0mmy_order\u001b[0m \u001b[0;34m=\u001b[0m \u001b[0mclusters_spectrum_ratio\u001b[0m\u001b[0;34m.\u001b[0m\u001b[0mreset_index\u001b[0m\u001b[0;34m(\u001b[0m\u001b[0;34m)\u001b[0m\u001b[0;34m.\u001b[0m\u001b[0mgroupby\u001b[0m\u001b[0;34m(\u001b[0m\u001b[0mby\u001b[0m\u001b[0;34m=\u001b[0m\u001b[0;34m[\u001b[0m\u001b[0;34m\"cluster\"\u001b[0m\u001b[0;34m]\u001b[0m\u001b[0;34m)\u001b[0m\u001b[0;34m[\u001b[0m\u001b[0;34m\"spectrum_ratio\"\u001b[0m\u001b[0;34m]\u001b[0m\u001b[0;34m.\u001b[0m\u001b[0mindex\u001b[0m\u001b[0;34m\u001b[0m\u001b[0;34m\u001b[0m\u001b[0m\n\u001b[0m",
      "\u001b[0;32m/opt/conda/lib/python3.7/site-packages/pandas/core/groupby/groupby.py\u001b[0m in \u001b[0;36m__getattr__\u001b[0;34m(self, attr)\u001b[0m\n\u001b[1;32m    910\u001b[0m \u001b[0;34m\u001b[0m\u001b[0m\n\u001b[1;32m    911\u001b[0m         raise AttributeError(\n\u001b[0;32m--> 912\u001b[0;31m             \u001b[0;34mf\"'{type(self).__name__}' object has no attribute '{attr}'\"\u001b[0m\u001b[0;34m\u001b[0m\u001b[0;34m\u001b[0m\u001b[0m\n\u001b[0m\u001b[1;32m    913\u001b[0m         )\n\u001b[1;32m    914\u001b[0m \u001b[0;34m\u001b[0m\u001b[0m\n",
      "\u001b[0;31mAttributeError\u001b[0m: 'SeriesGroupBy' object has no attribute 'index'"
     ]
    }
   ],
   "source": [
    "my_order = clusters_spectrum_ratio.reset_index().groupby(by=[\"cluster\"])[\"spectrum_ratio\"].index"
   ]
  },
  {
   "cell_type": "code",
   "execution_count": 180,
   "metadata": {},
   "outputs": [
    {
     "data": {
      "text/plain": [
       "Int64Index([18, 17, 16, 15, 14, 13, 12, 11, 10, 9, 8, 7, 6, 5, 4, 3, 2, 1, 0], dtype='int64', name='cluster')"
      ]
     },
     "execution_count": 180,
     "metadata": {},
     "output_type": "execute_result"
    }
   ],
   "source": [
    "my_order"
   ]
  },
  {
   "cell_type": "code",
   "execution_count": 194,
   "metadata": {},
   "outputs": [
    {
     "data": {
      "image/png": "[encoded data removed]",
      "text/plain": [
       "<Figure size 1850x1050 with 1 Axes>"
      ]
     },
     "metadata": {},
     "output_type": "display_data"
    }
   ],
   "source": [
    "fig = plt.gcf()\n",
    "fig.set_size_inches(18.5, 10.5)\n",
    "sns.barplot(data=clusters_spectrum_ratio.reset_index()\n",
    "            , x='cluster', y=\"spectrum_ratio\", hue=\"spectrum\",\n",
    "           order=my_order.get_level_values(0))\n",
    "plt.title(\"Spectrum ratio per cluster\", size=16)\n",
    "plt.savefig(\"spectrum_ratio_plot.png\", dpi=300)"
   ]
  },
  {
   "cell_type": "code",
   "execution_count": 26,
   "metadata": {},
   "outputs": [
    {
     "data": {
      "text/plain": [
       "0         the ring of fire,progressive news,trofire,poli...\n",
       "1         league of denial,espn nfl,junior seau,cte nfl,...\n",
       "3         Maria Bartiromo,Mornings With Maria,Apple News...\n",
       "5         NowThis,NowThisNews,Now This News,NowThis News...\n",
       "9         NowThis,NowThisNews,Now This News,NowThis News...\n",
       "                                ...                        \n",
       "157823    Democrats,Roland Martin,#RolandMartinUnfiltere...\n",
       "157824    Kate Middleton,James Middleton,Prince George,P...\n",
       "157826    Neil Cavuto,Your World,Elections,Democrats,Pre...\n",
       "157828    Gujob,Gujob Bangladesh,Gujob Student Protest,M...\n",
       "157831    black people,black scholars,african american s...\n",
       "Name: tags, Length: 94156, dtype: object"
      ]
     },
     "execution_count": 26,
     "metadata": {},
     "output_type": "execute_result"
    }
   ],
   "source": [
    "videos_clusters.tags"
   ]
  },
  {
   "cell_type": "markdown",
   "metadata": {
    "tags": []
   },
   "source": [
    "### Topics per cluster"
   ]
  },
  {
   "cell_type": "code",
   "execution_count": 42,
   "metadata": {},
   "outputs": [],
   "source": [
    "from collections import Counter"
   ]
  },
  {
   "cell_type": "code",
   "execution_count": 35,
   "metadata": {},
   "outputs": [
    {
     "data": {
      "text/plain": [
       "94156"
      ]
     },
     "execution_count": 35,
     "metadata": {},
     "output_type": "execute_result"
    }
   ],
   "source": [
    "tags_per_video = [tag.split(',') for tag in videos_clusters.tags]\n",
    "len(tags_per_video)"
   ]
  },
  {
   "cell_type": "code",
   "execution_count": 39,
   "metadata": {},
   "outputs": [],
   "source": [
    "def create_vocabulary_frequency(documents, vocab_len):\n",
    "    '''Select top-k (k = vocab_len) words in term of frequencies as vocabulary'''\n",
    "    \n",
    "    count = {}\n",
    "    for document in documents:\n",
    "        for tag in document:\n",
    "            tag = tag.lower().strip()\n",
    "            if tag in count:\n",
    "                count[tag] += 1\n",
    "            else:\n",
    "                count[tag] = 1\n",
    "    \n",
    "    sorted_count_by_freq = sorted(count.items(), key=lambda kv: kv[1], reverse=True)\n",
    "\n",
    "    vocabulary = [x[0] for x in sorted_count_by_freq[:vocab_len]]\n",
    "    return vocabulary\n",
    "\n",
    "vocabulary = create_vocabulary_frequency(tags_per_video, 1000)"
   ]
  },
  {
   "cell_type": "code",
   "execution_count": 45,
   "metadata": {},
   "outputs": [],
   "source": [
    "def construct_term_document_matrix(vocabulary, documents):\n",
    "    # Construct term-doc matrix\n",
    "    matrix = np.zeros((len(vocabulary), len(documents)))\n",
    "    print(matrix.shape)\n",
    "    for j, document in enumerate(documents):\n",
    "        counter = Counter(document)\n",
    "        for i, word in enumerate(vocabulary):\n",
    "            if word in counter:\n",
    "                matrix[i,j] = counter[word]\n",
    "    return matrix"
   ]
  },
  {
   "cell_type": "code",
   "execution_count": 46,
   "metadata": {},
   "outputs": [
    {
     "name": "stdout",
     "output_type": "stream",
     "text": [
      "(1000, 94156)\n"
     ]
    }
   ],
   "source": [
    "bag_of_words = construct_term_document_matrix(vocabulary, tags_per_video)"
   ]
  },
  {
   "cell_type": "code",
   "execution_count": 52,
   "metadata": {},
   "outputs": [],
   "source": [
    "bag_of_words = pd.DataFrame(data=bag_of_words.T, columns=vocabulary, index=videos_clusters.video_id)"
   ]
  },
  {
   "cell_type": "code",
   "execution_count": 176,
   "metadata": {},
   "outputs": [],
   "source": [
    "bag_of_words.to_csv(\"bag_of_words_1000.csv\", index=True)"
   ]
  },
  {
   "cell_type": "code",
   "execution_count": 55,
   "metadata": {},
   "outputs": [
    {
     "data": {
      "text/plain": [
       "news                    21364.0\n",
       "politics                22280.0\n",
       "donald trump            12592.0\n",
       "trump                    8946.0\n",
       "tyt                      5173.0\n",
       "the young turks          6027.0\n",
       "fox news                 2962.0\n",
       "progressive              6292.0\n",
       "liberal                  6698.0\n",
       "personality              1319.0\n",
       "cenk uygur                367.0\n",
       "breaking news            5520.0\n",
       "on air                     23.0\n",
       "white house              3633.0\n",
       "tyt network              1129.0\n",
       "republican               3444.0\n",
       "progressive news         6220.0\n",
       "president trump          3833.0\n",
       "world news               4328.0\n",
       "gop                      2022.0\n",
       "fox news channel          267.0\n",
       "republicans              2518.0\n",
       "inside_edition           4989.0\n",
       "democrat                 4019.0\n",
       "us news                  3971.0\n",
       "democrats                2229.0\n",
       "bernie sanders           1794.0\n",
       "hillary clinton          1920.0\n",
       "inside edition           4043.0\n",
       "special                   522.0\n",
       "ana kasparian             535.0\n",
       "congress                 2656.0\n",
       "president                2940.0\n",
       "video                    2295.0\n",
       "trump news               3493.0\n",
       "trofire                  3699.0\n",
       "conservative             2986.0\n",
       "the ring of fire         3687.0\n",
       "cnn                      2572.0\n",
       "trump administration     3180.0\n",
       "podcast                  3090.0\n",
       "apple news                  5.0\n",
       "fox business               53.0\n",
       "interview                1493.0\n",
       "twitter                  2654.0\n",
       "us                        861.0\n",
       "political                2738.0\n",
       "david packman            3028.0\n",
       "farron cousins           2810.0\n",
       "donald                   2348.0\n",
       "dtype: float64"
      ]
     },
     "execution_count": 55,
     "metadata": {},
     "output_type": "execute_result"
    }
   ],
   "source": [
    "bag_of_words.sum(axis=0).head(50)"
   ]
  },
  {
   "cell_type": "markdown",
   "metadata": {
    "tags": []
   },
   "source": [
    "### Analyze bag of words"
   ]
  },
  {
   "cell_type": "code",
   "execution_count": 188,
   "metadata": {},
   "outputs": [],
   "source": [
    "bag_of_words = pd.read_csv(\"bag_of_words_1000.csv\")"
   ]
  },
  {
   "cell_type": "code",
   "execution_count": 199,
   "metadata": {},
   "outputs": [],
   "source": [
    "bag_of_words.index = bag_of_words.video_id\n",
    "bag_of_words.drop(columns=['video_id'], inplace=True)"
   ]
  },
  {
   "cell_type": "code",
   "execution_count": 236,
   "metadata": {},
   "outputs": [
    {
     "data": {
      "text/plain": [
       "55"
      ]
     },
     "execution_count": 236,
     "metadata": {},
     "output_type": "execute_result"
    }
   ],
   "source": [
    "list(bag_of_words.columns).index('election')"
   ]
  },
  {
   "cell_type": "code",
   "execution_count": 237,
   "metadata": {},
   "outputs": [],
   "source": [
    "elections_videos = bag_of_words[bag_of_words.elections >= 1.0].index"
   ]
  },
  {
   "cell_type": "code",
   "execution_count": 238,
   "metadata": {},
   "outputs": [
    {
     "data": {
      "text/plain": [
       "1     270\n",
       "0     116\n",
       "7      66\n",
       "13     50\n",
       "17     44\n",
       "4      42\n",
       "3      20\n",
       "10      9\n",
       "5       2\n",
       "9       1\n",
       "Name: cluster, dtype: int64"
      ]
     },
     "execution_count": 238,
     "metadata": {},
     "output_type": "execute_result"
    }
   ],
   "source": [
    "videos_clusters[videos_clusters.video_id.isin(elections_videos)].cluster.value_counts()"
   ]
  },
  {
   "cell_type": "markdown",
   "metadata": {},
   "source": [
    "### Get k most frequent tags in each cluster"
   ]
  },
  {
   "cell_type": "code",
   "execution_count": 209,
   "metadata": {},
   "outputs": [
    {
     "name": "stdout",
     "output_type": "stream",
     "text": [
      "Cluster 0 has most frequent terms\n",
      " politics                7150.0\n",
      "progressive news        5517.0\n",
      "donald trump            5353.0\n",
      "news                    4110.0\n",
      "trofire                 3441.0\n",
      "the ring of fire        3427.0\n",
      "trump                   3380.0\n",
      "the young turks         3060.0\n",
      "tyt                     3030.0\n",
      "trump administration    2613.0\n",
      "dtype: float64\n",
      "----------------------------------------\n",
      "Cluster 3 has most frequent terms\n",
      " politics          468.0\n",
      "news              395.0\n",
      "donald trump      384.0\n",
      "trump             355.0\n",
      "tim pool          216.0\n",
      "timcast           209.0\n",
      "fake news         169.0\n",
      "free speech       169.0\n",
      "social justice    162.0\n",
      "sjw               141.0\n",
      "dtype: float64\n",
      "----------------------------------------\n",
      "Cluster 1 has most frequent terms\n",
      " politics           5871.0\n",
      "donald trump       3312.0\n",
      "trump              3033.0\n",
      "president trump    2521.0\n",
      "news               2408.0\n",
      "white house        1758.0\n",
      "personality        1270.0\n",
      "us news            1201.0\n",
      "on_air              990.0\n",
      "world news          898.0\n",
      "dtype: float64\n",
      "----------------------------------------\n",
      "Cluster 4 has most frequent terms\n",
      " inside_edition    4696.0\n",
      "inside edition    3841.0\n",
      "news              2776.0\n",
      "politics          1369.0\n",
      "crime             1258.0\n",
      "cat-news          1010.0\n",
      "ie newsdesk        974.0\n",
      "donald trump       808.0\n",
      "abc                782.0\n",
      "video              742.0\n",
      "dtype: float64\n",
      "----------------------------------------\n",
      "Cluster 7 has most frequent terms\n",
      " news               5564.0\n",
      "politics           5476.0\n",
      "liberal            3531.0\n",
      "progressive        3420.0\n",
      "the young turks    2079.0\n",
      "donald trump       1890.0\n",
      "2016               1632.0\n",
      "tyt                1378.0\n",
      "republican         1248.0\n",
      "conservative       1149.0\n",
      "dtype: float64\n",
      "----------------------------------------\n",
      "Cluster 8 has most frequent terms\n",
      " political establishment    385.0\n",
      "political news             142.0\n",
      "news                        78.0\n",
      "trump                       69.0\n",
      "politics                    61.0\n",
      "donald trump                50.0\n",
      "progressive                 50.0\n",
      "2020 election               50.0\n",
      "liberal                     46.0\n",
      "net neutrality              40.0\n",
      "dtype: float64\n",
      "----------------------------------------\n",
      "Cluster 9 has most frequent terms\n",
      " news            1940.0\n",
      "black news      1593.0\n",
      "lovelyti2002    1192.0\n",
      "lovelyti        1186.0\n",
      "commentary      1129.0\n",
      "lovelyti2013    1102.0\n",
      "black women     1075.0\n",
      "celebrity       1044.0\n",
      "gossip           982.0\n",
      "natural hair     978.0\n",
      "dtype: float64\n",
      "----------------------------------------\n",
      "Cluster 17 has most frequent terms\n",
      " news             1604.0\n",
      "world news        611.0\n",
      "breaking news     607.0\n",
      "happening now     606.0\n",
      "documentary       603.0\n",
      "interviews        518.0\n",
      "culture           509.0\n",
      "testtube          507.0\n",
      "test tube         504.0\n",
      "interview         495.0\n",
      "dtype: float64\n",
      "----------------------------------------\n",
      "Cluster 13 has most frequent terms\n",
      " news                     797.0\n",
      "politics                 716.0\n",
      "jimmy dore               561.0\n",
      "the young turks          529.0\n",
      "tyt                      523.0\n",
      "the jimmy dore show      477.0\n",
      "progressive talk show    472.0\n",
      "breaking news            384.0\n",
      "democracynow.org         368.0\n",
      "donald trump             366.0\n",
      "dtype: float64\n",
      "----------------------------------------\n",
      "Cluster 10 has most frequent terms\n",
      " news               135.0\n",
      "video              106.0\n",
      "cbsn                98.0\n",
      "politics            78.0\n",
      "trump               71.0\n",
      "donald trump        71.0\n",
      "president trump     68.0\n",
      "live video          66.0\n",
      "live streaming      63.0\n",
      "abc                 63.0\n",
      "dtype: float64\n",
      "----------------------------------------\n",
      "Cluster 12 has most frequent terms\n",
      " 2020 election      119.0\n",
      "2018 election       90.0\n",
      "news                11.0\n",
      "politics             9.0\n",
      "trump                8.0\n",
      "donald trump         5.0\n",
      "progressive          5.0\n",
      "liberal              5.0\n",
      "president trump      4.0\n",
      "video                4.0\n",
      "dtype: float64\n",
      "----------------------------------------\n",
      "Cluster 5 has most frequent terms\n",
      " justkiddingnews      2229.0\n",
      "jknews               2226.0\n",
      "bart kwan            1904.0\n",
      "joe jo               1904.0\n",
      "geo antoinette       1901.0\n",
      "tiffany del real     1875.0\n",
      "julia chow           1648.0\n",
      "davidsocomedy        1544.0\n",
      "news                 1367.0\n",
      "just kidding news    1004.0\n",
      "dtype: float64\n",
      "----------------------------------------\n",
      "Cluster 15 has most frequent terms\n",
      " politics             5.0\n",
      "election             3.0\n",
      "breaking news        3.0\n",
      "vote                 3.0\n",
      "donald trump         2.0\n",
      "live news            2.0\n",
      "latest news          2.0\n",
      "political news       2.0\n",
      "donald trump news    2.0\n",
      "jerusalem            1.0\n",
      "dtype: float64\n",
      "----------------------------------------\n",
      "Cluster 11 has most frequent terms\n",
      " sun             340.0\n",
      "solar           335.0\n",
      "mrmbb333.com    221.0\n",
      "moon            220.0\n",
      "sky             219.0\n",
      "ocean           219.0\n",
      "earth           218.0\n",
      "universe        216.0\n",
      "galaxy          216.0\n",
      "mrmbb333        216.0\n",
      "dtype: float64\n",
      "----------------------------------------\n"
     ]
    }
   ],
   "source": [
    "k = 10\n",
    "\n",
    "videos_per_cluster = t_h_data.cluster.value_counts()\n",
    "for cluster_val in t_h_data.cluster.unique():\n",
    "    video_ids_cluster = videos_clusters[videos_clusters.cluster == cluster_val].video_id\n",
    "    bow_cluster = bag_of_words.loc[video_ids_cluster]\n",
    "    term_freq_cluster = bow_cluster.sum().sort_values(ascending=False)\n",
    "    print(f\"Cluster {cluster_val} has most frequent terms\\n\", term_freq_cluster[:k])\n",
    "    print('-'*40)\n",
    "    # bow_cluster = bag_of_words.loc[[]]\n",
    "    # first = 100*videos_per_cluster.loc[cluster_val]\n",
    "    # ratio_videos = first/(videos_clusters.cluster==cluster_val).sum()\n",
    "    # print(f\"Cluster {cluster_val} contains {ratio_videos:.4}% contaning tags D Trump and H Clinton\")"
   ]
  },
  {
   "cell_type": "code",
   "execution_count": 205,
   "metadata": {},
   "outputs": [
    {
     "data": {
      "text/plain": [
       "politics            7150.0\n",
       "progressive news    5517.0\n",
       "donald trump        5353.0\n",
       "news                4110.0\n",
       "trofire             3441.0\n",
       "                     ...  \n",
       "venus                  0.0\n",
       "habibi                 0.0\n",
       "#maga                  0.0\n",
       "vlogger                0.0\n",
       "dn                     0.0\n",
       "Length: 1000, dtype: float64"
      ]
     },
     "execution_count": 205,
     "metadata": {},
     "output_type": "execute_result"
    }
   ],
   "source": []
  },
  {
   "cell_type": "code",
   "execution_count": 185,
   "metadata": {},
   "outputs": [
    {
     "data": {
      "text/plain": [
       "0         4_uxu7w2eq0\n",
       "5         HVwtUmn0zJY\n",
       "9         pefFs4lqvz0\n",
       "59        F5-wDPfm8jU\n",
       "112       w9KzdwmIbcI\n",
       "             ...     \n",
       "157772    TlIIDeOmOh0\n",
       "157786    9_R3xvxP8xU\n",
       "157788    WDQxhp6-5Io\n",
       "157816    Syg3bU8L3og\n",
       "157831    7Hqcl5vR8sY\n",
       "Name: video_id, Length: 15039, dtype: object"
      ]
     },
     "execution_count": 185,
     "metadata": {},
     "output_type": "execute_result"
    }
   ],
   "source": [
    "video_ids_cluster"
   ]
  },
  {
   "cell_type": "markdown",
   "metadata": {},
   "source": [
    "### Analyze Trump, Hillary tags"
   ]
  },
  {
   "cell_type": "code",
   "execution_count": 212,
   "metadata": {},
   "outputs": [],
   "source": [
    "trump_videos = bag_of_words[(bag_of_words['donald trump'] >= 1.0) | (bag_of_words['trump'] >= 1.0) | (bag_of_words['president trump'] >= 1.0)].index\n",
    "clinton_videos = bag_of_words[bag_of_words['hillary clinton'] >= 1.0].index\n",
    "\n",
    "clinton_trump_videos = bag_of_words[(bag_of_words['hillary clinton'] >= 1.0) & (bag_of_words['donald trump'] >= 1.0)].index"
   ]
  },
  {
   "cell_type": "code",
   "execution_count": 213,
   "metadata": {},
   "outputs": [
    {
     "data": {
      "text/plain": [
       "((16333,), (1920,), (1067,))"
      ]
     },
     "execution_count": 213,
     "metadata": {},
     "output_type": "execute_result"
    }
   ],
   "source": [
    "trump_videos.shape, clinton_videos.shape, clinton_trump_videos.shape"
   ]
  },
  {
   "cell_type": "markdown",
   "metadata": {},
   "source": [
    "### Find which clusters have trump, hillary tags"
   ]
  },
  {
   "cell_type": "code",
   "execution_count": 219,
   "metadata": {},
   "outputs": [],
   "source": [
    "t_h_data = videos_clusters[videos_clusters.video_id.isin(clinton_trump_videos)]"
   ]
  },
  {
   "cell_type": "code",
   "execution_count": 220,
   "metadata": {},
   "outputs": [
    {
     "name": "stdout",
     "output_type": "stream",
     "text": [
      "Cluster 7 contains 3.308% contaning tags D Trump and H Clinton\n",
      "Cluster 3 contains 1.586% contaning tags D Trump and H Clinton\n",
      "Cluster 13 contains 2.556% contaning tags D Trump and H Clinton\n",
      "Cluster 4 contains 0.3855% contaning tags D Trump and H Clinton\n",
      "Cluster 0 contains 1.19% contaning tags D Trump and H Clinton\n",
      "Cluster 1 contains 0.6302% contaning tags D Trump and H Clinton\n",
      "Cluster 17 contains 0.5839% contaning tags D Trump and H Clinton\n",
      "Cluster 10 contains 0.152% contaning tags D Trump and H Clinton\n",
      "Cluster 9 contains 0.2291% contaning tags D Trump and H Clinton\n",
      "Cluster 8 contains 0.1359% contaning tags D Trump and H Clinton\n",
      "Cluster 12 contains 0.6135% contaning tags D Trump and H Clinton\n"
     ]
    }
   ],
   "source": [
    "videos_per_cluster = t_h_data.cluster.value_counts()\n",
    "for cluster_val in t_h_data.cluster.unique():\n",
    "    first = 100*videos_per_cluster.loc[cluster_val]\n",
    "    ratio_videos = first/(videos_clusters.cluster==cluster_val).sum()\n",
    "    print(f\"Cluster {cluster_val} contains {ratio_videos:.4}% contaning tags D Trump and H Clinton\")"
   ]
  },
  {
   "cell_type": "code",
   "execution_count": 218,
   "metadata": {},
   "outputs": [
    {
     "data": {
      "text/plain": [
       "1     28881\n",
       "4     17378\n",
       "0     15039\n",
       "7     14782\n",
       "9      4364\n",
       "17     3768\n",
       "13     3325\n",
       "5      2641\n",
       "3      1892\n",
       "8       736\n",
       "10      658\n",
       "11      493\n",
       "12      163\n",
       "15       23\n",
       "16        8\n",
       "14        2\n",
       "18        1\n",
       "2         1\n",
       "6         1\n",
       "Name: cluster, dtype: int64"
      ]
     },
     "execution_count": 218,
     "metadata": {},
     "output_type": "execute_result"
    }
   ],
   "source": [
    "videos_clusters.cluster.value_counts()"
   ]
  },
  {
   "cell_type": "markdown",
   "metadata": {},
   "source": [
    "### Get graph of videos that were labelled to clusters"
   ]
  },
  {
   "cell_type": "code",
   "execution_count": 88,
   "metadata": {},
   "outputs": [],
   "source": [
    "videos_cluster_7 = cluster_labels[cluster_labels.cluster == 7]"
   ]
  },
  {
   "cell_type": "code",
   "execution_count": 89,
   "metadata": {},
   "outputs": [],
   "source": [
    "videos_clusters.rename(columns={\"video_id\": \"display_id\"}, inplace=True)"
   ]
  },
  {
   "cell_type": "code",
   "execution_count": 93,
   "metadata": {},
   "outputs": [],
   "source": [
    "# join policital spectrum to video\n",
    "videos_cluster_7 = videos_cluster_7.merge(videos_clusters[['display_id', 'spectrum']], on=\"display_id\")"
   ]
  },
  {
   "cell_type": "code",
   "execution_count": 79,
   "metadata": {},
   "outputs": [],
   "source": [
    "videos_links = pd.read_csv(\"weighted_graph_2_news_politics/links_weighted.csv\")"
   ]
  },
  {
   "cell_type": "code",
   "execution_count": 84,
   "metadata": {},
   "outputs": [],
   "source": [
    "cluster_7_links = videos_links[(videos_links.source_id.isin(list(videos_cluster_7.display_id))) & (videos_links.target_id.isin(list(videos_cluster_7.display_id)))][['source', 'target']]"
   ]
  },
  {
   "cell_type": "code",
   "execution_count": 94,
   "metadata": {},
   "outputs": [],
   "source": [
    "videos_cluster_7 = videos_cluster_7[['video_label', 'cluster', 'spectrum']].reset_index(drop=True).reset_index().rename(columns={'video_label': \"id\"})"
   ]
  },
  {
   "cell_type": "code",
   "execution_count": 98,
   "metadata": {},
   "outputs": [],
   "source": [
    "condlist = [videos_cluster_7.spectrum == 'democrat', videos_cluster_7.spectrum == 'republican']\n",
    "choicelist = ['#215ac4', '#c72830']\n",
    "videos_cluster_7['node_color'] = np.select(condlist, choicelist, None)"
   ]
  },
  {
   "cell_type": "code",
   "execution_count": 104,
   "metadata": {},
   "outputs": [],
   "source": [
    "videos_cluster_7[['id', 'node_color']].to_csv(\"cluster_7_labels.csv\", index=False)"
   ]
  },
  {
   "cell_type": "code",
   "execution_count": null,
   "metadata": {},
   "outputs": [
    {
     "data": {
      "text/plain": [
       "['#AC9637',\n",
       " '#33DABF',\n",
       " '#8BC531',\n",
       " '#A63971',\n",
       " '#06EF11',\n",
       " '#C3BBDB',\n",
       " '#9381B2',\n",
       " '#0383E1',\n",
       " '#B2FF41',\n",
       " '#83271D']"
      ]
     },
     "execution_count": 46,
     "metadata": {},
     "output_type": "execute_result"
    }
   ],
   "source": [
    "[\"#\"+''.join([random.choice('0123456789ABCDEF') for j in range(6)]) for i in range(10)]"
   ]
  },
  {
   "cell_type": "markdown",
   "metadata": {},
   "source": [
    "## Analyze clusters"
   ]
  },
  {
   "cell_type": "code",
   "execution_count": 146,
   "metadata": {},
   "outputs": [],
   "source": [
    "from functools import partial\n",
    "import matplotlib.dates as md"
   ]
  },
  {
   "cell_type": "code",
   "execution_count": 157,
   "metadata": {},
   "outputs": [],
   "source": [
    "cluster0 = videos_clusters[videos_clusters.cluster == 0]"
   ]
  },
  {
   "cell_type": "code",
   "execution_count": 158,
   "metadata": {},
   "outputs": [],
   "source": [
    "trump_data = cluster0[cluster0.video_id.isin(trump_videos)]"
   ]
  },
  {
   "cell_type": "code",
   "execution_count": 160,
   "metadata": {},
   "outputs": [
    {
     "name": "stderr",
     "output_type": "stream",
     "text": [
      "/opt/conda/lib/python3.7/site-packages/ipykernel_launcher.py:1: SettingWithCopyWarning: \n",
      "A value is trying to be set on a copy of a slice from a DataFrame.\n",
      "Try using .loc[row_indexer,col_indexer] = value instead\n",
      "\n",
      "See the caveats in the documentation: https://pandas.pydata.org/pandas-docs/stable/user_guide/indexing.html#returning-a-view-versus-a-copy\n",
      "  \"\"\"Entry point for launching an IPython kernel.\n"
     ]
    }
   ],
   "source": [
    "trump_data['upload_date'] = pd.to_datetime(trump_data['upload_date'])"
   ]
  },
  {
   "cell_type": "code",
   "execution_count": 167,
   "metadata": {},
   "outputs": [
    {
     "data": {
      "text/plain": [
       "upload_date\n",
       "2015-08-18     1377.0\n",
       "2015-10-15      284.0\n",
       "2015-11-12      283.0\n",
       "2015-12-23     1842.0\n",
       "2016-02-28     4607.0\n",
       "               ...   \n",
       "2019-09-28    15093.0\n",
       "2019-09-29    22447.0\n",
       "2019-09-30     5164.0\n",
       "2019-10-01    21927.0\n",
       "2019-10-02    17815.0\n",
       "Name: like_count, Length: 1017, dtype: float64"
      ]
     },
     "execution_count": 167,
     "metadata": {},
     "output_type": "execute_result"
    }
   ],
   "source": []
  },
  {
   "cell_type": "code",
   "execution_count": 161,
   "metadata": {},
   "outputs": [],
   "source": [
    "trump_data = trump_data.sort_values(by='upload_date')"
   ]
  },
  {
   "cell_type": "code",
   "execution_count": null,
   "metadata": {},
   "outputs": [],
   "source": [
    "# specify the position of the major ticks at the beginning of the week\n",
    "ax.xaxis.set_major_locator(md.WeekdayLocator(byweekday = 1))\n",
    "# specify the format of the labels as 'year-month-day'\n",
    "ax.xaxis.set_major_formatter(md.DateFormatter('%Y-%m-%d'))\n",
    "# (optional) rotate by 90° the labels in order to improve their spacing\n",
    "plt.setp(ax.xaxis.get_majorticklabels(), rotation = 90)\n",
    "\n",
    "# specify the position of the minor ticks at each day\n",
    "ax.xaxis.set_minor_locator(md.DayLocator(interval = 1))"
   ]
  },
  {
   "cell_type": "code",
   "execution_count": 174,
   "metadata": {},
   "outputs": [
    {
     "data": {
      "text/plain": [
       "Text(0.5, 1.0, 'Likes under Trump videos over time')"
      ]
     },
     "execution_count": 174,
     "metadata": {},
     "output_type": "execute_result"
    },
    {
     "data": {
      "image/png": "[encoded data removed]",
      "text/plain": [
       "<Figure size 800x400 with 1 Axes>"
      ]
     },
     "metadata": {},
     "output_type": "display_data"
    }
   ],
   "source": [
    "fig, ax = plt.subplots(figsize=(8, 4))\n",
    "like_count_trump = trump_data.groupby('upload_date').like_count.sum()\n",
    "sns.lineplot(ax=ax, x=like_count_trump.index, y=like_count_trump.values)\n",
    "plt.title(\"Likes under Trump videos over time\", size=16)"
   ]
  },
  {
   "cell_type": "code",
   "execution_count": 27,
   "metadata": {},
   "outputs": [
    {
     "data": {
      "text/plain": [
       "<matplotlib.axes._subplots.AxesSubplot at 0x7f44b1c6f7d0>"
      ]
     },
     "execution_count": 27,
     "metadata": {},
     "output_type": "execute_result"
    },
    {
     "data": {
      "image/png": "[encoded data removed]",
      "text/plain": [
       "<Figure size 640x480 with 1 Axes>"
      ]
     },
     "metadata": {},
     "output_type": "display_data"
    }
   ],
   "source": [
    "cluster1.positive.hist()"
   ]
  },
  {
   "cell_type": "code",
   "execution_count": 197,
   "metadata": {},
   "outputs": [
    {
     "data": {
      "text/plain": [
       "(335,)"
      ]
     },
     "execution_count": 197,
     "metadata": {},
     "output_type": "execute_result"
    }
   ],
   "source": [
    "cluster1.channel_id.unique().shape"
   ]
  },
  {
   "cell_type": "code",
   "execution_count": 201,
   "metadata": {},
   "outputs": [
    {
     "data": {
      "text/plain": [
       "11      jRypGzd3KLA\n",
       "24      eJTQMA6mGRU\n",
       "53      vs4v4WcalkQ\n",
       "153     SufmSo4CCrE\n",
       "230     5_6wTNEXiRw\n",
       "249     BbxB9TdtxBY\n",
       "287     yTOlYnhnDNc\n",
       "299     mav2kkvakGY\n",
       "314     tNsajdUETlw\n",
       "890     8EtnQQrDXpw\n",
       "1247    a9vvgtv35RU\n",
       "1251    aa7XuPPRxzs\n",
       "1263    gpYPL62fvnU\n",
       "1527    OQR_X0qKwyE\n",
       "1545    PhRmC6QbL6c\n",
       "1546    3ZrDQTsM7ko\n",
       "1547    oxeE15GGrD8\n",
       "1550    LvYNHSf7FbI\n",
       "1551    m3ggq7T9sEA\n",
       "1552    C-d_qhJieHc\n",
       "Name: video_id, dtype: object"
      ]
     },
     "execution_count": 201,
     "metadata": {},
     "output_type": "execute_result"
    }
   ],
   "source": [
    "cluster1.video_id.head(20)"
   ]
  },
  {
   "cell_type": "code",
   "execution_count": 200,
   "metadata": {},
   "outputs": [
    {
     "data": {
      "text/plain": [
       "republican    0.872562\n",
       "democrat      0.127438\n",
       "Name: spectrum, dtype: float64"
      ]
     },
     "execution_count": 200,
     "metadata": {},
     "output_type": "execute_result"
    }
   ],
   "source": [
    "cluster1.spectrum.value_counts()/cluster1.spectrum.value_counts().sum()"
   ]
  },
  {
   "cell_type": "code",
   "execution_count": null,
   "metadata": {},
   "outputs": [],
   "source": [
    "labels"
   ]
  },
  {
   "cell_type": "code",
   "execution_count": 263,
   "metadata": {},
   "outputs": [
    {
     "data": {
      "text/html": [
       "<div>\n",
       "<style scoped>\n",
       "    .dataframe tbody tr th:only-of-type {\n",
       "        vertical-align: middle;\n",
       "    }\n",
       "\n",
       "    .dataframe tbody tr th {\n",
       "        vertical-align: top;\n",
       "    }\n",
       "\n",
       "    .dataframe thead th {\n",
       "        text-align: right;\n",
       "    }\n",
       "</style>\n",
       "<table border=\"1\" class=\"dataframe\">\n",
       "  <thead>\n",
       "    <tr style=\"text-align: right;\">\n",
       "      <th></th>\n",
       "      <th>author</th>\n",
       "      <th>likes</th>\n",
       "      <th>replies</th>\n",
       "      <th>video_label</th>\n",
       "      <th>video_id</th>\n",
       "    </tr>\n",
       "  </thead>\n",
       "  <tbody>\n",
       "    <tr>\n",
       "      <th>1580553</th>\n",
       "      <td>4904768</td>\n",
       "      <td>69.0</td>\n",
       "      <td>19.0</td>\n",
       "      <td>263311</td>\n",
       "      <td>Gpl2uF1SrDA</td>\n",
       "    </tr>\n",
       "    <tr>\n",
       "      <th>4114144</th>\n",
       "      <td>315167044</td>\n",
       "      <td>26.0</td>\n",
       "      <td>11.0</td>\n",
       "      <td>263311</td>\n",
       "      <td>Gpl2uF1SrDA</td>\n",
       "    </tr>\n",
       "    <tr>\n",
       "      <th>5597832</th>\n",
       "      <td>7654</td>\n",
       "      <td>28.0</td>\n",
       "      <td>19.0</td>\n",
       "      <td>263311</td>\n",
       "      <td>Gpl2uF1SrDA</td>\n",
       "    </tr>\n",
       "    <tr>\n",
       "      <th>6860163</th>\n",
       "      <td>54008120</td>\n",
       "      <td>33.0</td>\n",
       "      <td>11.0</td>\n",
       "      <td>263311</td>\n",
       "      <td>Gpl2uF1SrDA</td>\n",
       "    </tr>\n",
       "    <tr>\n",
       "      <th>8128739</th>\n",
       "      <td>77084429</td>\n",
       "      <td>21.0</td>\n",
       "      <td>25.0</td>\n",
       "      <td>263311</td>\n",
       "      <td>Gpl2uF1SrDA</td>\n",
       "    </tr>\n",
       "    <tr>\n",
       "      <th>9438300</th>\n",
       "      <td>518962373</td>\n",
       "      <td>48.0</td>\n",
       "      <td>17.0</td>\n",
       "      <td>263311</td>\n",
       "      <td>Gpl2uF1SrDA</td>\n",
       "    </tr>\n",
       "    <tr>\n",
       "      <th>10331226</th>\n",
       "      <td>51966361</td>\n",
       "      <td>151.0</td>\n",
       "      <td>99.0</td>\n",
       "      <td>263311</td>\n",
       "      <td>Gpl2uF1SrDA</td>\n",
       "    </tr>\n",
       "    <tr>\n",
       "      <th>13575202</th>\n",
       "      <td>72715689</td>\n",
       "      <td>46.0</td>\n",
       "      <td>23.0</td>\n",
       "      <td>263311</td>\n",
       "      <td>Gpl2uF1SrDA</td>\n",
       "    </tr>\n",
       "  </tbody>\n",
       "</table>\n",
       "</div>"
      ],
      "text/plain": [
       "             author  likes  replies  video_label     video_id\n",
       "1580553     4904768   69.0     19.0       263311  Gpl2uF1SrDA\n",
       "4114144   315167044   26.0     11.0       263311  Gpl2uF1SrDA\n",
       "5597832        7654   28.0     19.0       263311  Gpl2uF1SrDA\n",
       "6860163    54008120   33.0     11.0       263311  Gpl2uF1SrDA\n",
       "8128739    77084429   21.0     25.0       263311  Gpl2uF1SrDA\n",
       "9438300   518962373   48.0     17.0       263311  Gpl2uF1SrDA\n",
       "10331226   51966361  151.0     99.0       263311  Gpl2uF1SrDA\n",
       "13575202   72715689   46.0     23.0       263311  Gpl2uF1SrDA"
      ]
     },
     "execution_count": 263,
     "metadata": {},
     "output_type": "execute_result"
    }
   ],
   "source": [
    "df_2[df_2.video_id == \"Gpl2uF1SrDA\"]"
   ]
  },
  {
   "cell_type": "code",
   "execution_count": 146,
   "metadata": {
    "tags": []
   },
   "outputs": [
    {
     "name": "stdout",
     "output_type": "stream",
     "text": [
      "0\n",
      "1\n",
      "2\n",
      "3\n",
      "4\n"
     ]
    },
    {
     "data": {
      "image/png": "[encoded data removed]",
      "text/plain": [
       "<Figure size 1000x2000 with 5 Axes>"
      ]
     },
     "metadata": {},
     "output_type": "display_data"
    }
   ],
   "source": [
    "NOF=5\n",
    "fig, axes = plt.subplots(NOF, 1, figsize=(10, 20))\n",
    "\n",
    "for cluster in clustered_count.index:\n",
    "    if cluster == NOF:\n",
    "        break\n",
    "    print(cluster)\n",
    "    sns.barplot(data=labels[labels.cluster == cluster],\n",
    "                y='positive',\n",
    "                hue='spectrum',\n",
    "                ax=axes[cluster])\n",
    "    axes[cluster].set_ylim([0, 1])\n",
    "    axes[cluster].set_title(cluster)\n",
    "plt.show()"
   ]
  },
  {
   "cell_type": "markdown",
   "metadata": {},
   "source": [
    "## Get cluster which have mostly negative videos"
   ]
  },
  {
   "cell_type": "code",
   "execution_count": 147,
   "metadata": {},
   "outputs": [],
   "source": [
    "# calculate the ratio for negative\n",
    "# labels['negative'] \n",
    "\n",
    "data = labels.groupby(\"cluster\").sum()\n",
    "data[SENTIMENTS_COLS] = data[SENTIMENTS_COLS].apply(lambda x: x/x.sum(), axis=1).values"
   ]
  },
  {
   "cell_type": "code",
   "execution_count": 148,
   "metadata": {},
   "outputs": [
    {
     "name": "stdout",
     "output_type": "stream",
     "text": [
      "Clusters with negative sentiment:  [26, 44]\n"
     ]
    }
   ],
   "source": [
    "neg_cluster_labels = list(data[data.negative >= 0.90].index)\n",
    "print(\"Clusters with negative sentiment: \", neg_cluster_labels)"
   ]
  },
  {
   "cell_type": "code",
   "execution_count": 149,
   "metadata": {},
   "outputs": [],
   "source": [
    "cluster_neg = labels[labels.cluster.isin(neg_cluster_labels)]"
   ]
  },
  {
   "cell_type": "code",
   "execution_count": 151,
   "metadata": {
    "tags": []
   },
   "outputs": [
    {
     "data": {
      "text/html": [
       "<div>\n",
       "<style scoped>\n",
       "    .dataframe tbody tr th:only-of-type {\n",
       "        vertical-align: middle;\n",
       "    }\n",
       "\n",
       "    .dataframe tbody tr th {\n",
       "        vertical-align: top;\n",
       "    }\n",
       "\n",
       "    .dataframe thead th {\n",
       "        text-align: right;\n",
       "    }\n",
       "</style>\n",
       "<table border=\"1\" class=\"dataframe\">\n",
       "  <thead>\n",
       "    <tr style=\"text-align: right;\">\n",
       "      <th></th>\n",
       "      <th>video_id</th>\n",
       "      <th>spectrum</th>\n",
       "      <th>negative</th>\n",
       "      <th>neutral</th>\n",
       "      <th>positive</th>\n",
       "    </tr>\n",
       "    <tr>\n",
       "      <th>cluster</th>\n",
       "      <th></th>\n",
       "      <th></th>\n",
       "      <th></th>\n",
       "      <th></th>\n",
       "      <th></th>\n",
       "    </tr>\n",
       "  </thead>\n",
       "  <tbody>\n",
       "    <tr>\n",
       "      <th>44</th>\n",
       "      <td>2</td>\n",
       "      <td>2</td>\n",
       "      <td>2</td>\n",
       "      <td>2</td>\n",
       "      <td>2</td>\n",
       "    </tr>\n",
       "    <tr>\n",
       "      <th>26</th>\n",
       "      <td>55</td>\n",
       "      <td>55</td>\n",
       "      <td>55</td>\n",
       "      <td>55</td>\n",
       "      <td>55</td>\n",
       "    </tr>\n",
       "  </tbody>\n",
       "</table>\n",
       "</div>"
      ],
      "text/plain": [
       "         video_id  spectrum  negative  neutral  positive\n",
       "cluster                                                 \n",
       "44              2         2         2        2         2\n",
       "26             55        55        55       55        55"
      ]
     },
     "execution_count": 151,
     "metadata": {},
     "output_type": "execute_result"
    }
   ],
   "source": [
    "cluster_neg.groupby('cluster').count().sort_values(by='video_id')"
   ]
  },
  {
   "cell_type": "code",
   "execution_count": 164,
   "metadata": {},
   "outputs": [],
   "source": [
    "d1 = sentiments_video[['display_id', 'channel_id']].rename(columns={\"display_id\": \"video_id\"})"
   ]
  },
  {
   "cell_type": "code",
   "execution_count": 167,
   "metadata": {},
   "outputs": [],
   "source": [
    "d1 = cluster_neg.merge(d1, on='video_id')"
   ]
  },
  {
   "cell_type": "code",
   "execution_count": 168,
   "metadata": {},
   "outputs": [
    {
     "data": {
      "text/html": [
       "<div>\n",
       "<style scoped>\n",
       "    .dataframe tbody tr th:only-of-type {\n",
       "        vertical-align: middle;\n",
       "    }\n",
       "\n",
       "    .dataframe tbody tr th {\n",
       "        vertical-align: top;\n",
       "    }\n",
       "\n",
       "    .dataframe thead th {\n",
       "        text-align: right;\n",
       "    }\n",
       "</style>\n",
       "<table border=\"1\" class=\"dataframe\">\n",
       "  <thead>\n",
       "    <tr style=\"text-align: right;\">\n",
       "      <th></th>\n",
       "      <th>cluster</th>\n",
       "      <th>video_id</th>\n",
       "      <th>spectrum</th>\n",
       "      <th>negative</th>\n",
       "      <th>neutral</th>\n",
       "      <th>positive</th>\n",
       "      <th>channel_id</th>\n",
       "    </tr>\n",
       "  </thead>\n",
       "  <tbody>\n",
       "    <tr>\n",
       "      <th>0</th>\n",
       "      <td>26</td>\n",
       "      <td>aHoDrjsK6gI</td>\n",
       "      <td>republican</td>\n",
       "      <td>1.0</td>\n",
       "      <td>0.0</td>\n",
       "      <td>0.0</td>\n",
       "      <td>UCSrS91iCgFCv_3KwjWWHzSg</td>\n",
       "    </tr>\n",
       "    <tr>\n",
       "      <th>1</th>\n",
       "      <td>26</td>\n",
       "      <td>dEVhowol9rI</td>\n",
       "      <td>republican</td>\n",
       "      <td>1.0</td>\n",
       "      <td>0.0</td>\n",
       "      <td>0.0</td>\n",
       "      <td>UCSrS91iCgFCv_3KwjWWHzSg</td>\n",
       "    </tr>\n",
       "    <tr>\n",
       "      <th>2</th>\n",
       "      <td>26</td>\n",
       "      <td>xz2lCUa3aSk</td>\n",
       "      <td>republican</td>\n",
       "      <td>1.0</td>\n",
       "      <td>0.0</td>\n",
       "      <td>0.0</td>\n",
       "      <td>UCSrS91iCgFCv_3KwjWWHzSg</td>\n",
       "    </tr>\n",
       "    <tr>\n",
       "      <th>3</th>\n",
       "      <td>26</td>\n",
       "      <td>ox0xGtLpaBU</td>\n",
       "      <td>republican</td>\n",
       "      <td>1.0</td>\n",
       "      <td>0.0</td>\n",
       "      <td>0.0</td>\n",
       "      <td>UCSrS91iCgFCv_3KwjWWHzSg</td>\n",
       "    </tr>\n",
       "    <tr>\n",
       "      <th>4</th>\n",
       "      <td>26</td>\n",
       "      <td>OOMLtfvlY3k</td>\n",
       "      <td>republican</td>\n",
       "      <td>1.0</td>\n",
       "      <td>0.0</td>\n",
       "      <td>0.0</td>\n",
       "      <td>UCSrS91iCgFCv_3KwjWWHzSg</td>\n",
       "    </tr>\n",
       "    <tr>\n",
       "      <th>5</th>\n",
       "      <td>26</td>\n",
       "      <td>8xqP3nZbwKo</td>\n",
       "      <td>republican</td>\n",
       "      <td>1.0</td>\n",
       "      <td>0.0</td>\n",
       "      <td>0.0</td>\n",
       "      <td>UCSrS91iCgFCv_3KwjWWHzSg</td>\n",
       "    </tr>\n",
       "    <tr>\n",
       "      <th>6</th>\n",
       "      <td>26</td>\n",
       "      <td>g3KwgjgmtE0</td>\n",
       "      <td>republican</td>\n",
       "      <td>1.0</td>\n",
       "      <td>0.0</td>\n",
       "      <td>0.0</td>\n",
       "      <td>UCSrS91iCgFCv_3KwjWWHzSg</td>\n",
       "    </tr>\n",
       "    <tr>\n",
       "      <th>7</th>\n",
       "      <td>26</td>\n",
       "      <td>8cBEOlQlEKk</td>\n",
       "      <td>republican</td>\n",
       "      <td>1.0</td>\n",
       "      <td>0.0</td>\n",
       "      <td>0.0</td>\n",
       "      <td>UCSrS91iCgFCv_3KwjWWHzSg</td>\n",
       "    </tr>\n",
       "    <tr>\n",
       "      <th>8</th>\n",
       "      <td>26</td>\n",
       "      <td>QZutBWTb9uE</td>\n",
       "      <td>republican</td>\n",
       "      <td>1.0</td>\n",
       "      <td>0.0</td>\n",
       "      <td>0.0</td>\n",
       "      <td>UCSrS91iCgFCv_3KwjWWHzSg</td>\n",
       "    </tr>\n",
       "    <tr>\n",
       "      <th>9</th>\n",
       "      <td>26</td>\n",
       "      <td>JVXT1cwxlkw</td>\n",
       "      <td>republican</td>\n",
       "      <td>1.0</td>\n",
       "      <td>0.0</td>\n",
       "      <td>0.0</td>\n",
       "      <td>UCSrS91iCgFCv_3KwjWWHzSg</td>\n",
       "    </tr>\n",
       "    <tr>\n",
       "      <th>10</th>\n",
       "      <td>26</td>\n",
       "      <td>hAnGNewjFa4</td>\n",
       "      <td>republican</td>\n",
       "      <td>1.0</td>\n",
       "      <td>0.0</td>\n",
       "      <td>0.0</td>\n",
       "      <td>UCSrS91iCgFCv_3KwjWWHzSg</td>\n",
       "    </tr>\n",
       "    <tr>\n",
       "      <th>11</th>\n",
       "      <td>26</td>\n",
       "      <td>_4C_3uHArL8</td>\n",
       "      <td>republican</td>\n",
       "      <td>1.0</td>\n",
       "      <td>0.0</td>\n",
       "      <td>0.0</td>\n",
       "      <td>UCSrS91iCgFCv_3KwjWWHzSg</td>\n",
       "    </tr>\n",
       "    <tr>\n",
       "      <th>12</th>\n",
       "      <td>26</td>\n",
       "      <td>7f1qsCHM76A</td>\n",
       "      <td>republican</td>\n",
       "      <td>1.0</td>\n",
       "      <td>0.0</td>\n",
       "      <td>0.0</td>\n",
       "      <td>UCSrS91iCgFCv_3KwjWWHzSg</td>\n",
       "    </tr>\n",
       "    <tr>\n",
       "      <th>13</th>\n",
       "      <td>26</td>\n",
       "      <td>5Ba_gI6-ohU</td>\n",
       "      <td>republican</td>\n",
       "      <td>1.0</td>\n",
       "      <td>0.0</td>\n",
       "      <td>0.0</td>\n",
       "      <td>UCSrS91iCgFCv_3KwjWWHzSg</td>\n",
       "    </tr>\n",
       "    <tr>\n",
       "      <th>14</th>\n",
       "      <td>26</td>\n",
       "      <td>uur8XKuBlKI</td>\n",
       "      <td>republican</td>\n",
       "      <td>1.0</td>\n",
       "      <td>0.0</td>\n",
       "      <td>0.0</td>\n",
       "      <td>UCSrS91iCgFCv_3KwjWWHzSg</td>\n",
       "    </tr>\n",
       "    <tr>\n",
       "      <th>15</th>\n",
       "      <td>26</td>\n",
       "      <td>VHSzOCIvyUE</td>\n",
       "      <td>republican</td>\n",
       "      <td>1.0</td>\n",
       "      <td>0.0</td>\n",
       "      <td>0.0</td>\n",
       "      <td>UCSrS91iCgFCv_3KwjWWHzSg</td>\n",
       "    </tr>\n",
       "    <tr>\n",
       "      <th>16</th>\n",
       "      <td>26</td>\n",
       "      <td>KPvMVrkF7Xc</td>\n",
       "      <td>republican</td>\n",
       "      <td>1.0</td>\n",
       "      <td>0.0</td>\n",
       "      <td>0.0</td>\n",
       "      <td>UCSrS91iCgFCv_3KwjWWHzSg</td>\n",
       "    </tr>\n",
       "    <tr>\n",
       "      <th>17</th>\n",
       "      <td>26</td>\n",
       "      <td>5ctlSK9YmYE</td>\n",
       "      <td>republican</td>\n",
       "      <td>1.0</td>\n",
       "      <td>0.0</td>\n",
       "      <td>0.0</td>\n",
       "      <td>UCSrS91iCgFCv_3KwjWWHzSg</td>\n",
       "    </tr>\n",
       "    <tr>\n",
       "      <th>18</th>\n",
       "      <td>26</td>\n",
       "      <td>39zcWWw2HQ4</td>\n",
       "      <td>republican</td>\n",
       "      <td>1.0</td>\n",
       "      <td>0.0</td>\n",
       "      <td>0.0</td>\n",
       "      <td>UCSrS91iCgFCv_3KwjWWHzSg</td>\n",
       "    </tr>\n",
       "    <tr>\n",
       "      <th>19</th>\n",
       "      <td>26</td>\n",
       "      <td>6cKGEOb1Zys</td>\n",
       "      <td>republican</td>\n",
       "      <td>1.0</td>\n",
       "      <td>0.0</td>\n",
       "      <td>0.0</td>\n",
       "      <td>UCSrS91iCgFCv_3KwjWWHzSg</td>\n",
       "    </tr>\n",
       "    <tr>\n",
       "      <th>20</th>\n",
       "      <td>26</td>\n",
       "      <td>24uI-7TRI78</td>\n",
       "      <td>republican</td>\n",
       "      <td>1.0</td>\n",
       "      <td>0.0</td>\n",
       "      <td>0.0</td>\n",
       "      <td>UCSrS91iCgFCv_3KwjWWHzSg</td>\n",
       "    </tr>\n",
       "    <tr>\n",
       "      <th>21</th>\n",
       "      <td>26</td>\n",
       "      <td>CLsSVbAfbzI</td>\n",
       "      <td>republican</td>\n",
       "      <td>1.0</td>\n",
       "      <td>0.0</td>\n",
       "      <td>0.0</td>\n",
       "      <td>UCSrS91iCgFCv_3KwjWWHzSg</td>\n",
       "    </tr>\n",
       "    <tr>\n",
       "      <th>22</th>\n",
       "      <td>26</td>\n",
       "      <td>rjoiZixlYIc</td>\n",
       "      <td>republican</td>\n",
       "      <td>1.0</td>\n",
       "      <td>0.0</td>\n",
       "      <td>0.0</td>\n",
       "      <td>UCSrS91iCgFCv_3KwjWWHzSg</td>\n",
       "    </tr>\n",
       "    <tr>\n",
       "      <th>23</th>\n",
       "      <td>26</td>\n",
       "      <td>ggd1e6wwk6A</td>\n",
       "      <td>republican</td>\n",
       "      <td>1.0</td>\n",
       "      <td>0.0</td>\n",
       "      <td>0.0</td>\n",
       "      <td>UCSrS91iCgFCv_3KwjWWHzSg</td>\n",
       "    </tr>\n",
       "    <tr>\n",
       "      <th>24</th>\n",
       "      <td>26</td>\n",
       "      <td>pkQMDf3PzZs</td>\n",
       "      <td>republican</td>\n",
       "      <td>1.0</td>\n",
       "      <td>0.0</td>\n",
       "      <td>0.0</td>\n",
       "      <td>UCSrS91iCgFCv_3KwjWWHzSg</td>\n",
       "    </tr>\n",
       "    <tr>\n",
       "      <th>25</th>\n",
       "      <td>26</td>\n",
       "      <td>eQ617RGCAJ8</td>\n",
       "      <td>republican</td>\n",
       "      <td>1.0</td>\n",
       "      <td>0.0</td>\n",
       "      <td>0.0</td>\n",
       "      <td>UCSrS91iCgFCv_3KwjWWHzSg</td>\n",
       "    </tr>\n",
       "    <tr>\n",
       "      <th>26</th>\n",
       "      <td>26</td>\n",
       "      <td>fe8-BGJ_m9M</td>\n",
       "      <td>republican</td>\n",
       "      <td>1.0</td>\n",
       "      <td>0.0</td>\n",
       "      <td>0.0</td>\n",
       "      <td>UCSrS91iCgFCv_3KwjWWHzSg</td>\n",
       "    </tr>\n",
       "    <tr>\n",
       "      <th>27</th>\n",
       "      <td>26</td>\n",
       "      <td>V0ZIGVoRY7o</td>\n",
       "      <td>republican</td>\n",
       "      <td>1.0</td>\n",
       "      <td>0.0</td>\n",
       "      <td>0.0</td>\n",
       "      <td>UCSrS91iCgFCv_3KwjWWHzSg</td>\n",
       "    </tr>\n",
       "    <tr>\n",
       "      <th>28</th>\n",
       "      <td>26</td>\n",
       "      <td>q_K2nrzAZ1Q</td>\n",
       "      <td>republican</td>\n",
       "      <td>1.0</td>\n",
       "      <td>0.0</td>\n",
       "      <td>0.0</td>\n",
       "      <td>UCSrS91iCgFCv_3KwjWWHzSg</td>\n",
       "    </tr>\n",
       "    <tr>\n",
       "      <th>29</th>\n",
       "      <td>26</td>\n",
       "      <td>XKmwWz-P4N4</td>\n",
       "      <td>republican</td>\n",
       "      <td>1.0</td>\n",
       "      <td>0.0</td>\n",
       "      <td>0.0</td>\n",
       "      <td>UCSrS91iCgFCv_3KwjWWHzSg</td>\n",
       "    </tr>\n",
       "    <tr>\n",
       "      <th>30</th>\n",
       "      <td>26</td>\n",
       "      <td>mCZhtW8g7RU</td>\n",
       "      <td>republican</td>\n",
       "      <td>1.0</td>\n",
       "      <td>0.0</td>\n",
       "      <td>0.0</td>\n",
       "      <td>UCSrS91iCgFCv_3KwjWWHzSg</td>\n",
       "    </tr>\n",
       "    <tr>\n",
       "      <th>31</th>\n",
       "      <td>26</td>\n",
       "      <td>Sse8DF7KWyQ</td>\n",
       "      <td>republican</td>\n",
       "      <td>1.0</td>\n",
       "      <td>0.0</td>\n",
       "      <td>0.0</td>\n",
       "      <td>UCSrS91iCgFCv_3KwjWWHzSg</td>\n",
       "    </tr>\n",
       "    <tr>\n",
       "      <th>32</th>\n",
       "      <td>26</td>\n",
       "      <td>rUfAxjqJ1lM</td>\n",
       "      <td>republican</td>\n",
       "      <td>1.0</td>\n",
       "      <td>0.0</td>\n",
       "      <td>0.0</td>\n",
       "      <td>UCSrS91iCgFCv_3KwjWWHzSg</td>\n",
       "    </tr>\n",
       "    <tr>\n",
       "      <th>33</th>\n",
       "      <td>26</td>\n",
       "      <td>NvW8jsmlkGY</td>\n",
       "      <td>republican</td>\n",
       "      <td>1.0</td>\n",
       "      <td>0.0</td>\n",
       "      <td>0.0</td>\n",
       "      <td>UCSrS91iCgFCv_3KwjWWHzSg</td>\n",
       "    </tr>\n",
       "    <tr>\n",
       "      <th>34</th>\n",
       "      <td>26</td>\n",
       "      <td>A-t2xJ8ZMjs</td>\n",
       "      <td>republican</td>\n",
       "      <td>1.0</td>\n",
       "      <td>0.0</td>\n",
       "      <td>0.0</td>\n",
       "      <td>UCSrS91iCgFCv_3KwjWWHzSg</td>\n",
       "    </tr>\n",
       "    <tr>\n",
       "      <th>35</th>\n",
       "      <td>26</td>\n",
       "      <td>X8esdTJjH9s</td>\n",
       "      <td>republican</td>\n",
       "      <td>1.0</td>\n",
       "      <td>0.0</td>\n",
       "      <td>0.0</td>\n",
       "      <td>UCSrS91iCgFCv_3KwjWWHzSg</td>\n",
       "    </tr>\n",
       "    <tr>\n",
       "      <th>36</th>\n",
       "      <td>26</td>\n",
       "      <td>QPddtCskM5o</td>\n",
       "      <td>republican</td>\n",
       "      <td>1.0</td>\n",
       "      <td>0.0</td>\n",
       "      <td>0.0</td>\n",
       "      <td>UCSrS91iCgFCv_3KwjWWHzSg</td>\n",
       "    </tr>\n",
       "    <tr>\n",
       "      <th>37</th>\n",
       "      <td>26</td>\n",
       "      <td>hjpRLofik8M</td>\n",
       "      <td>republican</td>\n",
       "      <td>1.0</td>\n",
       "      <td>0.0</td>\n",
       "      <td>0.0</td>\n",
       "      <td>UCSrS91iCgFCv_3KwjWWHzSg</td>\n",
       "    </tr>\n",
       "    <tr>\n",
       "      <th>38</th>\n",
       "      <td>44</td>\n",
       "      <td>FNY2daUUDpE</td>\n",
       "      <td>republican</td>\n",
       "      <td>1.0</td>\n",
       "      <td>0.0</td>\n",
       "      <td>0.0</td>\n",
       "      <td>UCpPhzhCfud9ctQSJJv4Kqlw</td>\n",
       "    </tr>\n",
       "    <tr>\n",
       "      <th>39</th>\n",
       "      <td>44</td>\n",
       "      <td>CmcYIaMec4g</td>\n",
       "      <td>republican</td>\n",
       "      <td>1.0</td>\n",
       "      <td>0.0</td>\n",
       "      <td>0.0</td>\n",
       "      <td>UCpPhzhCfud9ctQSJJv4Kqlw</td>\n",
       "    </tr>\n",
       "    <tr>\n",
       "      <th>40</th>\n",
       "      <td>26</td>\n",
       "      <td>cPdQ1gEl6So</td>\n",
       "      <td>republican</td>\n",
       "      <td>1.0</td>\n",
       "      <td>0.0</td>\n",
       "      <td>0.0</td>\n",
       "      <td>UCSrS91iCgFCv_3KwjWWHzSg</td>\n",
       "    </tr>\n",
       "    <tr>\n",
       "      <th>41</th>\n",
       "      <td>26</td>\n",
       "      <td>ApPnIewVBKU</td>\n",
       "      <td>republican</td>\n",
       "      <td>1.0</td>\n",
       "      <td>0.0</td>\n",
       "      <td>0.0</td>\n",
       "      <td>UCSrS91iCgFCv_3KwjWWHzSg</td>\n",
       "    </tr>\n",
       "    <tr>\n",
       "      <th>42</th>\n",
       "      <td>26</td>\n",
       "      <td>XpjPZdGQgWE</td>\n",
       "      <td>republican</td>\n",
       "      <td>1.0</td>\n",
       "      <td>0.0</td>\n",
       "      <td>0.0</td>\n",
       "      <td>UCSrS91iCgFCv_3KwjWWHzSg</td>\n",
       "    </tr>\n",
       "    <tr>\n",
       "      <th>43</th>\n",
       "      <td>26</td>\n",
       "      <td>uQSsN1mF16w</td>\n",
       "      <td>republican</td>\n",
       "      <td>0.0</td>\n",
       "      <td>0.0</td>\n",
       "      <td>1.0</td>\n",
       "      <td>UCP0uG-mcMImgKnJz-VjJZmQ</td>\n",
       "    </tr>\n",
       "    <tr>\n",
       "      <th>44</th>\n",
       "      <td>26</td>\n",
       "      <td>qmUT66rgkKM</td>\n",
       "      <td>republican</td>\n",
       "      <td>1.0</td>\n",
       "      <td>0.0</td>\n",
       "      <td>0.0</td>\n",
       "      <td>UCSrS91iCgFCv_3KwjWWHzSg</td>\n",
       "    </tr>\n",
       "    <tr>\n",
       "      <th>45</th>\n",
       "      <td>26</td>\n",
       "      <td>QB2izP_Ki3U</td>\n",
       "      <td>republican</td>\n",
       "      <td>1.0</td>\n",
       "      <td>0.0</td>\n",
       "      <td>0.0</td>\n",
       "      <td>UCSrS91iCgFCv_3KwjWWHzSg</td>\n",
       "    </tr>\n",
       "    <tr>\n",
       "      <th>46</th>\n",
       "      <td>26</td>\n",
       "      <td>mDejYby4MyQ</td>\n",
       "      <td>republican</td>\n",
       "      <td>1.0</td>\n",
       "      <td>0.0</td>\n",
       "      <td>0.0</td>\n",
       "      <td>UCSrS91iCgFCv_3KwjWWHzSg</td>\n",
       "    </tr>\n",
       "    <tr>\n",
       "      <th>47</th>\n",
       "      <td>26</td>\n",
       "      <td>KbZkgm8WwXM</td>\n",
       "      <td>republican</td>\n",
       "      <td>1.0</td>\n",
       "      <td>0.0</td>\n",
       "      <td>0.0</td>\n",
       "      <td>UCSrS91iCgFCv_3KwjWWHzSg</td>\n",
       "    </tr>\n",
       "    <tr>\n",
       "      <th>48</th>\n",
       "      <td>26</td>\n",
       "      <td>u2KXzjBNWU4</td>\n",
       "      <td>republican</td>\n",
       "      <td>1.0</td>\n",
       "      <td>0.0</td>\n",
       "      <td>0.0</td>\n",
       "      <td>UCSrS91iCgFCv_3KwjWWHzSg</td>\n",
       "    </tr>\n",
       "    <tr>\n",
       "      <th>49</th>\n",
       "      <td>26</td>\n",
       "      <td>8YoHY4JCrB4</td>\n",
       "      <td>republican</td>\n",
       "      <td>1.0</td>\n",
       "      <td>0.0</td>\n",
       "      <td>0.0</td>\n",
       "      <td>UCSrS91iCgFCv_3KwjWWHzSg</td>\n",
       "    </tr>\n",
       "    <tr>\n",
       "      <th>50</th>\n",
       "      <td>26</td>\n",
       "      <td>_sW52sFYegc</td>\n",
       "      <td>republican</td>\n",
       "      <td>1.0</td>\n",
       "      <td>0.0</td>\n",
       "      <td>0.0</td>\n",
       "      <td>UCSrS91iCgFCv_3KwjWWHzSg</td>\n",
       "    </tr>\n",
       "    <tr>\n",
       "      <th>51</th>\n",
       "      <td>26</td>\n",
       "      <td>9KmhpIxHBNk</td>\n",
       "      <td>republican</td>\n",
       "      <td>0.0</td>\n",
       "      <td>0.0</td>\n",
       "      <td>1.0</td>\n",
       "      <td>UCFx1nseXKTc1Culiu3neeSQ</td>\n",
       "    </tr>\n",
       "    <tr>\n",
       "      <th>52</th>\n",
       "      <td>26</td>\n",
       "      <td>zWduRlbxHdI</td>\n",
       "      <td>republican</td>\n",
       "      <td>0.0</td>\n",
       "      <td>0.0</td>\n",
       "      <td>1.0</td>\n",
       "      <td>UCSrS91iCgFCv_3KwjWWHzSg</td>\n",
       "    </tr>\n",
       "    <tr>\n",
       "      <th>53</th>\n",
       "      <td>26</td>\n",
       "      <td>kMXlZhbuoOA</td>\n",
       "      <td>republican</td>\n",
       "      <td>1.0</td>\n",
       "      <td>0.0</td>\n",
       "      <td>0.0</td>\n",
       "      <td>UCSrS91iCgFCv_3KwjWWHzSg</td>\n",
       "    </tr>\n",
       "    <tr>\n",
       "      <th>54</th>\n",
       "      <td>26</td>\n",
       "      <td>E3hyCxLAhYc</td>\n",
       "      <td>republican</td>\n",
       "      <td>1.0</td>\n",
       "      <td>0.0</td>\n",
       "      <td>0.0</td>\n",
       "      <td>UCSrS91iCgFCv_3KwjWWHzSg</td>\n",
       "    </tr>\n",
       "    <tr>\n",
       "      <th>55</th>\n",
       "      <td>26</td>\n",
       "      <td>6GabbRR68yU</td>\n",
       "      <td>republican</td>\n",
       "      <td>1.0</td>\n",
       "      <td>0.0</td>\n",
       "      <td>0.0</td>\n",
       "      <td>UCSrS91iCgFCv_3KwjWWHzSg</td>\n",
       "    </tr>\n",
       "    <tr>\n",
       "      <th>56</th>\n",
       "      <td>26</td>\n",
       "      <td>6RUfMJKDuao</td>\n",
       "      <td>republican</td>\n",
       "      <td>1.0</td>\n",
       "      <td>0.0</td>\n",
       "      <td>0.0</td>\n",
       "      <td>UCSrS91iCgFCv_3KwjWWHzSg</td>\n",
       "    </tr>\n",
       "  </tbody>\n",
       "</table>\n",
       "</div>"
      ],
      "text/plain": [
       "    cluster     video_id    spectrum  negative  neutral  positive  \\\n",
       "0        26  aHoDrjsK6gI  republican       1.0      0.0       0.0   \n",
       "1        26  dEVhowol9rI  republican       1.0      0.0       0.0   \n",
       "2        26  xz2lCUa3aSk  republican       1.0      0.0       0.0   \n",
       "3        26  ox0xGtLpaBU  republican       1.0      0.0       0.0   \n",
       "4        26  OOMLtfvlY3k  republican       1.0      0.0       0.0   \n",
       "5        26  8xqP3nZbwKo  republican       1.0      0.0       0.0   \n",
       "6        26  g3KwgjgmtE0  republican       1.0      0.0       0.0   \n",
       "7        26  8cBEOlQlEKk  republican       1.0      0.0       0.0   \n",
       "8        26  QZutBWTb9uE  republican       1.0      0.0       0.0   \n",
       "9        26  JVXT1cwxlkw  republican       1.0      0.0       0.0   \n",
       "10       26  hAnGNewjFa4  republican       1.0      0.0       0.0   \n",
       "11       26  _4C_3uHArL8  republican       1.0      0.0       0.0   \n",
       "12       26  7f1qsCHM76A  republican       1.0      0.0       0.0   \n",
       "13       26  5Ba_gI6-ohU  republican       1.0      0.0       0.0   \n",
       "14       26  uur8XKuBlKI  republican       1.0      0.0       0.0   \n",
       "15       26  VHSzOCIvyUE  republican       1.0      0.0       0.0   \n",
       "16       26  KPvMVrkF7Xc  republican       1.0      0.0       0.0   \n",
       "17       26  5ctlSK9YmYE  republican       1.0      0.0       0.0   \n",
       "18       26  39zcWWw2HQ4  republican       1.0      0.0       0.0   \n",
       "19       26  6cKGEOb1Zys  republican       1.0      0.0       0.0   \n",
       "20       26  24uI-7TRI78  republican       1.0      0.0       0.0   \n",
       "21       26  CLsSVbAfbzI  republican       1.0      0.0       0.0   \n",
       "22       26  rjoiZixlYIc  republican       1.0      0.0       0.0   \n",
       "23       26  ggd1e6wwk6A  republican       1.0      0.0       0.0   \n",
       "24       26  pkQMDf3PzZs  republican       1.0      0.0       0.0   \n",
       "25       26  eQ617RGCAJ8  republican       1.0      0.0       0.0   \n",
       "26       26  fe8-BGJ_m9M  republican       1.0      0.0       0.0   \n",
       "27       26  V0ZIGVoRY7o  republican       1.0      0.0       0.0   \n",
       "28       26  q_K2nrzAZ1Q  republican       1.0      0.0       0.0   \n",
       "29       26  XKmwWz-P4N4  republican       1.0      0.0       0.0   \n",
       "30       26  mCZhtW8g7RU  republican       1.0      0.0       0.0   \n",
       "31       26  Sse8DF7KWyQ  republican       1.0      0.0       0.0   \n",
       "32       26  rUfAxjqJ1lM  republican       1.0      0.0       0.0   \n",
       "33       26  NvW8jsmlkGY  republican       1.0      0.0       0.0   \n",
       "34       26  A-t2xJ8ZMjs  republican       1.0      0.0       0.0   \n",
       "35       26  X8esdTJjH9s  republican       1.0      0.0       0.0   \n",
       "36       26  QPddtCskM5o  republican       1.0      0.0       0.0   \n",
       "37       26  hjpRLofik8M  republican       1.0      0.0       0.0   \n",
       "38       44  FNY2daUUDpE  republican       1.0      0.0       0.0   \n",
       "39       44  CmcYIaMec4g  republican       1.0      0.0       0.0   \n",
       "40       26  cPdQ1gEl6So  republican       1.0      0.0       0.0   \n",
       "41       26  ApPnIewVBKU  republican       1.0      0.0       0.0   \n",
       "42       26  XpjPZdGQgWE  republican       1.0      0.0       0.0   \n",
       "43       26  uQSsN1mF16w  republican       0.0      0.0       1.0   \n",
       "44       26  qmUT66rgkKM  republican       1.0      0.0       0.0   \n",
       "45       26  QB2izP_Ki3U  republican       1.0      0.0       0.0   \n",
       "46       26  mDejYby4MyQ  republican       1.0      0.0       0.0   \n",
       "47       26  KbZkgm8WwXM  republican       1.0      0.0       0.0   \n",
       "48       26  u2KXzjBNWU4  republican       1.0      0.0       0.0   \n",
       "49       26  8YoHY4JCrB4  republican       1.0      0.0       0.0   \n",
       "50       26  _sW52sFYegc  republican       1.0      0.0       0.0   \n",
       "51       26  9KmhpIxHBNk  republican       0.0      0.0       1.0   \n",
       "52       26  zWduRlbxHdI  republican       0.0      0.0       1.0   \n",
       "53       26  kMXlZhbuoOA  republican       1.0      0.0       0.0   \n",
       "54       26  E3hyCxLAhYc  republican       1.0      0.0       0.0   \n",
       "55       26  6GabbRR68yU  republican       1.0      0.0       0.0   \n",
       "56       26  6RUfMJKDuao  republican       1.0      0.0       0.0   \n",
       "\n",
       "                  channel_id  \n",
       "0   UCSrS91iCgFCv_3KwjWWHzSg  \n",
       "1   UCSrS91iCgFCv_3KwjWWHzSg  \n",
       "2   UCSrS91iCgFCv_3KwjWWHzSg  \n",
       "3   UCSrS91iCgFCv_3KwjWWHzSg  \n",
       "4   UCSrS91iCgFCv_3KwjWWHzSg  \n",
       "5   UCSrS91iCgFCv_3KwjWWHzSg  \n",
       "6   UCSrS91iCgFCv_3KwjWWHzSg  \n",
       "7   UCSrS91iCgFCv_3KwjWWHzSg  \n",
       "8   UCSrS91iCgFCv_3KwjWWHzSg  \n",
       "9   UCSrS91iCgFCv_3KwjWWHzSg  \n",
       "10  UCSrS91iCgFCv_3KwjWWHzSg  \n",
       "11  UCSrS91iCgFCv_3KwjWWHzSg  \n",
       "12  UCSrS91iCgFCv_3KwjWWHzSg  \n",
       "13  UCSrS91iCgFCv_3KwjWWHzSg  \n",
       "14  UCSrS91iCgFCv_3KwjWWHzSg  \n",
       "15  UCSrS91iCgFCv_3KwjWWHzSg  \n",
       "16  UCSrS91iCgFCv_3KwjWWHzSg  \n",
       "17  UCSrS91iCgFCv_3KwjWWHzSg  \n",
       "18  UCSrS91iCgFCv_3KwjWWHzSg  \n",
       "19  UCSrS91iCgFCv_3KwjWWHzSg  \n",
       "20  UCSrS91iCgFCv_3KwjWWHzSg  \n",
       "21  UCSrS91iCgFCv_3KwjWWHzSg  \n",
       "22  UCSrS91iCgFCv_3KwjWWHzSg  \n",
       "23  UCSrS91iCgFCv_3KwjWWHzSg  \n",
       "24  UCSrS91iCgFCv_3KwjWWHzSg  \n",
       "25  UCSrS91iCgFCv_3KwjWWHzSg  \n",
       "26  UCSrS91iCgFCv_3KwjWWHzSg  \n",
       "27  UCSrS91iCgFCv_3KwjWWHzSg  \n",
       "28  UCSrS91iCgFCv_3KwjWWHzSg  \n",
       "29  UCSrS91iCgFCv_3KwjWWHzSg  \n",
       "30  UCSrS91iCgFCv_3KwjWWHzSg  \n",
       "31  UCSrS91iCgFCv_3KwjWWHzSg  \n",
       "32  UCSrS91iCgFCv_3KwjWWHzSg  \n",
       "33  UCSrS91iCgFCv_3KwjWWHzSg  \n",
       "34  UCSrS91iCgFCv_3KwjWWHzSg  \n",
       "35  UCSrS91iCgFCv_3KwjWWHzSg  \n",
       "36  UCSrS91iCgFCv_3KwjWWHzSg  \n",
       "37  UCSrS91iCgFCv_3KwjWWHzSg  \n",
       "38  UCpPhzhCfud9ctQSJJv4Kqlw  \n",
       "39  UCpPhzhCfud9ctQSJJv4Kqlw  \n",
       "40  UCSrS91iCgFCv_3KwjWWHzSg  \n",
       "41  UCSrS91iCgFCv_3KwjWWHzSg  \n",
       "42  UCSrS91iCgFCv_3KwjWWHzSg  \n",
       "43  UCP0uG-mcMImgKnJz-VjJZmQ  \n",
       "44  UCSrS91iCgFCv_3KwjWWHzSg  \n",
       "45  UCSrS91iCgFCv_3KwjWWHzSg  \n",
       "46  UCSrS91iCgFCv_3KwjWWHzSg  \n",
       "47  UCSrS91iCgFCv_3KwjWWHzSg  \n",
       "48  UCSrS91iCgFCv_3KwjWWHzSg  \n",
       "49  UCSrS91iCgFCv_3KwjWWHzSg  \n",
       "50  UCSrS91iCgFCv_3KwjWWHzSg  \n",
       "51  UCFx1nseXKTc1Culiu3neeSQ  \n",
       "52  UCSrS91iCgFCv_3KwjWWHzSg  \n",
       "53  UCSrS91iCgFCv_3KwjWWHzSg  \n",
       "54  UCSrS91iCgFCv_3KwjWWHzSg  \n",
       "55  UCSrS91iCgFCv_3KwjWWHzSg  \n",
       "56  UCSrS91iCgFCv_3KwjWWHzSg  "
      ]
     },
     "execution_count": 168,
     "metadata": {},
     "output_type": "execute_result"
    }
   ],
   "source": [
    "d1"
   ]
  },
  {
   "cell_type": "code",
   "execution_count": 214,
   "metadata": {},
   "outputs": [],
   "source": [
    "cluster_200 = labels[labels.cluster == 784]"
   ]
  },
  {
   "cell_type": "code",
   "execution_count": 215,
   "metadata": {},
   "outputs": [
    {
     "data": {
      "text/html": [
       "<div>\n",
       "<style scoped>\n",
       "    .dataframe tbody tr th:only-of-type {\n",
       "        vertical-align: middle;\n",
       "    }\n",
       "\n",
       "    .dataframe tbody tr th {\n",
       "        vertical-align: top;\n",
       "    }\n",
       "\n",
       "    .dataframe thead th {\n",
       "        text-align: right;\n",
       "    }\n",
       "</style>\n",
       "<table border=\"1\" class=\"dataframe\">\n",
       "  <thead>\n",
       "    <tr style=\"text-align: right;\">\n",
       "      <th></th>\n",
       "      <th>video_label</th>\n",
       "      <th>cluster</th>\n",
       "      <th>video_id</th>\n",
       "      <th>negative</th>\n",
       "      <th>neutral</th>\n",
       "      <th>positive</th>\n",
       "    </tr>\n",
       "  </thead>\n",
       "  <tbody>\n",
       "    <tr>\n",
       "      <th>71707</th>\n",
       "      <td>132679</td>\n",
       "      <td>784</td>\n",
       "      <td>TKBF7z8YxT0</td>\n",
       "      <td>1.0</td>\n",
       "      <td>0.0</td>\n",
       "      <td>0.0</td>\n",
       "    </tr>\n",
       "    <tr>\n",
       "      <th>71708</th>\n",
       "      <td>246046</td>\n",
       "      <td>784</td>\n",
       "      <td>s9XDBynEP_Y</td>\n",
       "      <td>1.0</td>\n",
       "      <td>0.0</td>\n",
       "      <td>0.0</td>\n",
       "    </tr>\n",
       "    <tr>\n",
       "      <th>223448</th>\n",
       "      <td>8626</td>\n",
       "      <td>784</td>\n",
       "      <td>0zPC6hcyduM</td>\n",
       "      <td>1.0</td>\n",
       "      <td>0.0</td>\n",
       "      <td>0.0</td>\n",
       "    </tr>\n",
       "  </tbody>\n",
       "</table>\n",
       "</div>"
      ],
      "text/plain": [
       "        video_label  cluster     video_id  negative  neutral  positive\n",
       "71707        132679      784  TKBF7z8YxT0       1.0      0.0       0.0\n",
       "71708        246046      784  s9XDBynEP_Y       1.0      0.0       0.0\n",
       "223448         8626      784  0zPC6hcyduM       1.0      0.0       0.0"
      ]
     },
     "execution_count": 215,
     "metadata": {},
     "output_type": "execute_result"
    }
   ],
   "source": [
    "cluster_200"
   ]
  }
 ],
 "metadata": {
  "instance_type": "ml.r5.large",
  "kernelspec": {
   "display_name": "Python 3 (Data Science)",
   "language": "python",
   "name": "python3__SAGEMAKER_INTERNAL__arn:aws:sagemaker:us-east-1:081325390199:image/datascience-1.0"
  },
  "language_info": {
   "codemirror_mode": {
    "name": "ipython",
    "version": 3
   },
   "file_extension": ".py",
   "mimetype": "text/x-python",
   "name": "python",
   "nbconvert_exporter": "python",
   "pygments_lexer": "ipython3",
   "version": "3.7.10"
  }
 },
 "nbformat": 4,
 "nbformat_minor": 4
}
