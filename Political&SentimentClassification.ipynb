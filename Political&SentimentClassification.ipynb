{
  "nbformat": 4,
  "nbformat_minor": 0,
  "metadata": {
    "colab": {
      "provenance": [],
      "collapsed_sections": [
        "XDLhQIf2k7dn",
        "PZ59a3_xBQCe",
        "RGa_leBwjPW0"
      ],
      "toc_visible": true
    },
    "kernelspec": {
      "name": "python3",
      "display_name": "Python 3"
    },
    "language_info": {
      "name": "python"
    }
  },
  "cells": [
    {
      "cell_type": "markdown",
      "source": [
        " # **Political & Sentiment Classification**\n",
        "\n",
        "---\n",
        "\n",
        "\n",
        " *Introduction*\n",
        " \n",
        "> The goal of this notebook is to:\n",
        "1.   Train a model for sentiment analysis based of the title and text description of Youtube videos.\n",
        "2.   Train a model for political classification based of title and text description of Youtube videos\n",
        "\n",
        "*Summary*\n",
        "\n",
        "> Since we are dealing with a NLP problem, we decided to use the pretrained model BERT, more exactly [PolitBERT ](https://huggingface.co/maurice/PolitBERT) (BERT flavour specialized on political speeches, interviews and press briefings of English-speaking politicians), since we only consider videos from News&Politics category.\n",
        "\n",
        "> We then fine-tuned the model for our specific task, using various datasets to capture the specificity of what we were looking for.\n",
        "\n",
        "\n",
        "\n",
        "> ***Sentiment Analysis Model***\n",
        "\n",
        "> For the Sentiment Analysis Model, we used the \n",
        "[Twitter and Reddit Sentimental analysis Dataset](https://www.kaggle.com/datasets/cosmos98/twitter-and-reddit-sentimental-analysis-dataset), in order to capture how people are talking online.\n",
        "\n",
        "\n",
        "\n",
        "> ***Political Classification***\n",
        "\n",
        "> For the Political Classification , we used the \n",
        "[Democrat Vs. Republican Tweets](https://www.kaggle.com/datasets/kapastor/democratvsrepublicantweets), in order to capture how political ideologies and affiliations are expressed online.\n",
        "\n",
        "\n",
        "\n",
        "\n",
        "\n"
      ],
      "metadata": {
        "id": "sETjyximeUAS"
      }
    },
    {
      "cell_type": "markdown",
      "source": [
        "# Imports"
      ],
      "metadata": {
        "id": "XDLhQIf2k7dn"
      }
    },
    {
      "cell_type": "code",
      "source": [
        "!pip install -q transformers\n",
        "import pandas as pd\n",
        "import numpy as np\n",
        "import pickle\n",
        "import matplotlib.pyplot as plt\n",
        "import seaborn as sns\n",
        "import re\n",
        "import copy\n",
        "from tqdm.notebook import tqdm\n",
        "import gc\n",
        "\n",
        "import torch\n",
        "import torch.nn as nn\n",
        "import torch.nn.functional as F\n",
        "from torch import optim\n",
        "from torch.utils.data import Dataset, DataLoader\n",
        "\n",
        "from transformers import (\n",
        "    AutoTokenizer, \n",
        "    AutoModel,\n",
        "    get_linear_schedule_with_warmup\n",
        ")\n",
        "\n",
        "from sklearn.metrics import (\n",
        "    accuracy_score,\n",
        "    f1_score\n",
        ")\n",
        "\n",
        "from sklearn.model_selection import train_test_split\n",
        "\n",
        "from transformers import BertTokenizer"
      ],
      "metadata": {
        "colab": {
          "base_uri": "https://localhost:8080/"
        },
        "id": "_t0sRv_KlNon",
        "outputId": "80c09499-af0a-4b9d-c666-1c8950ab4e45"
      },
      "execution_count": 1,
      "outputs": [
        {
          "output_type": "stream",
          "name": "stdout",
          "text": [
            "\u001b[K     |████████████████████████████████| 5.5 MB 7.5 MB/s \n",
            "\u001b[K     |████████████████████████████████| 7.6 MB 54.6 MB/s \n",
            "\u001b[K     |████████████████████████████████| 182 kB 54.1 MB/s \n",
            "\u001b[?25h"
          ]
        }
      ]
    },
    {
      "cell_type": "markdown",
      "source": [
        "# Process the text"
      ],
      "metadata": {
        "id": "PZ59a3_xBQCe"
      }
    },
    {
      "cell_type": "code",
      "source": [
        "# Pre-process the text.\n",
        "# Remove punctuation marks and trailing spaces from text.\n",
        "def clean_and_parse_text(text):\n",
        "    if type(text) is not str:\n",
        "      text = ''\n",
        "\n",
        "    text = text.split()\n",
        "    text = [x.strip().lower() for x in text]\n",
        "    text = [x.replace('\\n', ' ').replace('\\t', ' ') for x in text]\n",
        "    text = ' '.join(text)\n",
        "    text = re.sub('([.,!?()])', r' \\1 ', text)\n",
        "    return text\n",
        "\n",
        "# Get the text from the dataframe and process it.\n",
        "def get_texts(df):\n",
        "    texts = df.apply(lambda x: clean_and_parse_text(x))\n",
        "    texts = texts.values.tolist()\n",
        "   \n",
        "    return texts"
      ],
      "metadata": {
        "id": "IaQOyDd9BPbM"
      },
      "execution_count": null,
      "outputs": []
    },
    {
      "cell_type": "code",
      "source": [
        "# Define the Data used.\n",
        "class TransformerDataset(Dataset):\n",
        "  def __init__(self, df, labels=None, set_type=None):\n",
        "    super(TransformerDataset, self).__init__()\n",
        "\n",
        "    self.texts = get_texts(df)\n",
        "    \n",
        "    self.set_type = set_type\n",
        "    if self.set_type != 'test':\n",
        "      self.labels = labels\n",
        "    \n",
        "    self.tokenizer = config.TOKENIZER\n",
        "    self.max_length = config.MAX_LENGTH\n",
        "\n",
        "  def __len__(self):\n",
        "      return len(self.texts)\n",
        "    \n",
        "  def __getitem__(self, index):\n",
        "    tokenized = self.tokenizer.encode_plus(\n",
        "        self.texts[index], \n",
        "        max_length=self.max_length,\n",
        "        pad_to_max_length=True,\n",
        "        truncation=True,\n",
        "        return_attention_mask=True,\n",
        "        return_token_type_ids=False,\n",
        "        return_tensors='pt'\n",
        "    )\n",
        "    input_ids = tokenized['input_ids'].squeeze()\n",
        "    attention_mask = tokenized['attention_mask'].squeeze()\n",
        "\n",
        "    # For training, we also need the labels.\n",
        "    if self.set_type != 'test':\n",
        "      return {\n",
        "          'input_ids': input_ids.long(),\n",
        "          'attention_mask': attention_mask.long(),\n",
        "          'labels': torch.Tensor(self.labels[index]),\n",
        "      }\n",
        "\n",
        "    return {\n",
        "        'input_ids': input_ids.long(),\n",
        "        'attention_mask': attention_mask.long(),\n",
        "    }"
      ],
      "metadata": {
        "id": "Md-T8atqQyaB"
      },
      "execution_count": null,
      "outputs": []
    },
    {
      "cell_type": "markdown",
      "source": [
        "# Model Configurations"
      ],
      "metadata": {
        "id": "fealktVZQIfU"
      }
    },
    {
      "cell_type": "code",
      "source": [
        "# Used parameters to train the models.\n",
        "class Config:\n",
        "  def __init__(self):\n",
        "    super(Config, self).__init__()\n",
        "\n",
        "    self.SEED = 42\n",
        "    self.MODEL_PATH = 'maurice/PolitBERT'\n",
        "    self.NUMBER_POLITICAL_PARTIES = 2\n",
        "    self.NUMBER_EMOTIONS = 3\n",
        "\n",
        "    # data\n",
        "    self.TOKENIZER = AutoTokenizer.from_pretrained(self.MODEL_PATH)\n",
        "    self.MAX_LENGTH = 320\n",
        "    self.BATCH_SIZE = 16\n",
        "    self.VALIDATION_SPLIT = 0.25\n",
        "\n",
        "     # model\n",
        "    self.DEVICE = torch.device('cuda' if torch.cuda.is_available() else 'cpu')\n",
        "    self.FULL_FINETUNING = True\n",
        "    self.LR = 3e-5\n",
        "    self.OPTIMIZER = 'AdamW'\n",
        "    self.CRITERION = 'BCEWithLogitsLoss'\n",
        "    self.N_VALIDATE_DUR_TRAIN = 3\n",
        "    self.N_WARMUP = 0\n",
        "    self.SAVE_BEST_ONLY = True\n",
        "    self.EPOCHS = 50\n",
        "\n",
        "config = Config()"
      ],
      "metadata": {
        "id": "H8qJkJ2cQNJ0"
      },
      "execution_count": null,
      "outputs": []
    },
    {
      "cell_type": "markdown",
      "source": [
        "# Define the generic model"
      ],
      "metadata": {
        "id": "agDzBa8ObT_3"
      }
    },
    {
      "cell_type": "code",
      "source": [
        "# Define the layers of the model. \n",
        "class TransformerModel(nn.Module):\n",
        "  def __init__(self, transformer_model: AutoModel, classes: int):\n",
        "    super(TransformerModel, self).__init__()\n",
        "    self.transformer = transformer_model\n",
        "    self.output = nn.Linear(768, classes)\n",
        "\n",
        "  def forward(self, input_ids, attention_mask=None, token_type_ids=None):\n",
        "    _, o2 = self.transformer(\n",
        "      input_ids=input_ids,\n",
        "      attention_mask=attention_mask,\n",
        "      token_type_ids=token_type_ids,\n",
        "      return_dict=False\n",
        "    )\n",
        "    x = self.output(o2)\n",
        "\n",
        "    return x"
      ],
      "metadata": {
        "id": "4U9lT5z2cdRg"
      },
      "execution_count": null,
      "outputs": []
    },
    {
      "cell_type": "markdown",
      "source": [
        "# Generic functions for training the model"
      ],
      "metadata": {
        "id": "mOfnwMRMh1Z8"
      }
    },
    {
      "cell_type": "code",
      "source": [
        "device = config.DEVICE\n",
        "device"
      ],
      "metadata": {
        "id": "Qp7Ij9fnhkGW"
      },
      "execution_count": null,
      "outputs": []
    },
    {
      "cell_type": "code",
      "source": [
        "# Evaluate the current model\n",
        "def val(model, val_dataloader, criterion):\n",
        "    \n",
        "    val_loss = 0\n",
        "    true, pred = [], []\n",
        "    \n",
        "    # Set model.eval() every time during evaluation\n",
        "    model.eval()\n",
        "    \n",
        "    for step, batch in enumerate(val_dataloader):\n",
        "        # Unpack the batch contents and push them to the device (cuda or cpu).\n",
        "        b_input_ids = batch['input_ids'].to(device)\n",
        "        b_attention_mask = batch['attention_mask'].to(device)\n",
        "        b_labels = batch['labels'].to(device)\n",
        "\n",
        "        # Using torch.no_grad() during validation/inference is faster \n",
        "        # since it does not update gradients.\n",
        "        with torch.no_grad():\n",
        "            # Forward pass\n",
        "            logits = model(input_ids=b_input_ids, attention_mask=b_attention_mask)\n",
        "            \n",
        "            # Calculate loss\n",
        "            loss = criterion(logits, b_labels)\n",
        "            val_loss += loss.item()\n",
        "             \n",
        "            # Since we're using BCEWithLogitsLoss, to get the predictions \n",
        "            # sigmoid has to be applied on the logits first\n",
        "            logits = torch.sigmoid(logits)\n",
        "            \n",
        "            logits = np.round(logits.cpu().numpy())\n",
        "            \n",
        "            labels = b_labels.cpu().numpy()\n",
        "            \n",
        "            # The tensors are detached from the gpu and put back on \n",
        "            # the cpu, and then converted to numpy in order to \n",
        "            # use sklearn's metrics.\n",
        "            pred.extend(logits)\n",
        "            true.extend(labels)\n",
        "\n",
        "    avg_val_loss = val_loss / len(val_dataloader)\n",
        "    print('Eval Val loss:', avg_val_loss)\n",
        "    print('Eval Val accuracy:', accuracy_score(true, pred))\n",
        "    \n",
        "    \n",
        "    val_micro_f1_score = f1_score(true, pred, average='micro')\n",
        "    print('Eval Val micro f1 score:', val_micro_f1_score)\n",
        "    return val_micro_f1_score\n",
        "\n",
        "def train(model, train_dataloader, val_dataloader, criterion, optimizer, scheduler, epoch):\n",
        "    \n",
        "    # Validate config.N_VALIDATE_DUR_TRAIN times during the training loop\n",
        "    nv = config.N_VALIDATE_DUR_TRAIN\n",
        "    temp = len(train_dataloader) // nv\n",
        "    \n",
        "    if temp > 100:\n",
        "      temp = temp - (temp % 100)\n",
        "    validate_at_steps = [temp * x for x in range(1, nv + 1)]\n",
        "    \n",
        "    train_loss = 0\n",
        "    for step, batch in enumerate(tqdm(train_dataloader, \n",
        "                                      desc='Epoch ' + str(epoch))):\n",
        "        # Set model.eval() every time during training\n",
        "        model.train()\n",
        "        \n",
        "        # Unpack the batch contents and push them to the device (cuda or cpu).\n",
        "        b_input_ids = batch['input_ids'].to(device)\n",
        "        b_attention_mask = batch['attention_mask'].to(device)\n",
        "        b_labels = batch['labels'].to(device)\n",
        "\n",
        "        # Clear accumulated gradients\n",
        "        optimizer.zero_grad()\n",
        "\n",
        "        # Forward pass\n",
        "        logits = model(input_ids=b_input_ids, attention_mask=b_attention_mask)\n",
        "        \n",
        "        # Calculate loss\n",
        "        loss = criterion(logits, b_labels)\n",
        "        train_loss += loss.item()\n",
        "\n",
        "        # Backward pass\n",
        "        loss.backward()\n",
        "\n",
        "        # Update weights\n",
        "        optimizer.step()\n",
        "        \n",
        "        # Update scheduler\n",
        "        scheduler.step()\n",
        "\n",
        "        if step in validate_at_steps:\n",
        "            print(f'-- Step: {step}')\n",
        "            _ = val(model, val_dataloader, criterion)\n",
        "    \n",
        "    avg_train_loss = train_loss / len(train_dataloader)\n",
        "    print('Training loss:', avg_train_loss)\n"
      ],
      "metadata": {
        "id": "_58dBizZhe1J"
      },
      "execution_count": null,
      "outputs": []
    },
    {
      "cell_type": "code",
      "source": [
        "def run(model, train_dataloader, val_dataloader, model_name):\n",
        "    # Setting a seed ensures reproducible results.\n",
        "    # Seed may affect the performance too.\n",
        "    torch.manual_seed(config.SEED)\n",
        "\n",
        "    criterion = nn.BCEWithLogitsLoss()\n",
        "    \n",
        "    # Define the parameters to be optmized \n",
        "    # and add regularization\n",
        "    if config.FULL_FINETUNING:\n",
        "        param_optimizer = list(model.named_parameters())\n",
        "        no_decay = [\"bias\", \"LayerNorm.bias\", \"LayerNorm.weight\"]\n",
        "        optimizer_parameters = [\n",
        "            {\n",
        "                \"params\": [\n",
        "                    p for n, p in param_optimizer if not any(nd in n for nd in no_decay)\n",
        "                ],\n",
        "                \"weight_decay\": 0.001,\n",
        "            },\n",
        "            {\n",
        "                \"params\": [\n",
        "                    p for n, p in param_optimizer if any(nd in n for nd in no_decay)\n",
        "                ],\n",
        "                \"weight_decay\": 0.0,\n",
        "            },\n",
        "        ]\n",
        "        optimizer = optim.AdamW(optimizer_parameters, lr=config.LR)\n",
        "    \n",
        "    num_training_steps = len(train_dataloader) * config.EPOCHS\n",
        "    scheduler = get_linear_schedule_with_warmup(\n",
        "        optimizer,\n",
        "        num_warmup_steps=0,\n",
        "        num_training_steps=num_training_steps\n",
        "    )\n",
        "    \n",
        "    max_val_micro_f1_score = float('-inf')\n",
        "    for epoch in range(config.EPOCHS):\n",
        "        train(model, train_dataloader, val_dataloader, criterion, optimizer, scheduler, epoch)\n",
        "        val_micro_f1_score = val(model, val_dataloader, criterion)\n",
        "        print(\"Epoch \" + str(epoch) + \"/\" + str(config.EPOCHS) + \": F1 Score \" + str(val_micro_f1_score))\n",
        "        if config.SAVE_BEST_ONLY:\n",
        "            if val_micro_f1_score > max_val_micro_f1_score:\n",
        "                best_model = copy.deepcopy(model)\n",
        "                best_val_micro_f1_score = val_micro_f1_score\n",
        "\n",
        "                torch.save(best_model.state_dict(), model_name + '.pt')\n",
        "\n",
        "                print(f'--- Best Model. Val loss: {max_val_micro_f1_score} -> {val_micro_f1_score}')\n",
        "                max_val_micro_f1_score = val_micro_f1_score\n",
        "\n",
        "    return best_model, best_val_micro_f1_score\n"
      ],
      "metadata": {
        "id": "C58U9iPLiCfi"
      },
      "execution_count": null,
      "outputs": []
    },
    {
      "cell_type": "markdown",
      "source": [
        "# Sentiment Analysis"
      ],
      "metadata": {
        "id": "MqiXRG40gos1"
      }
    },
    {
      "cell_type": "markdown",
      "source": [
        "## Get the training data"
      ],
      "metadata": {
        "id": "RGa_leBwjPW0"
      }
    },
    {
      "cell_type": "code",
      "source": [
        "df = pd.read_csv(\"Reddit_Data.csv\")\n",
        "X_sent = df['clean_comment']\n",
        "y_sent = pd.DataFrame(df['category'])"
      ],
      "metadata": {
        "id": "A4mJ6CGDjRps"
      },
      "execution_count": null,
      "outputs": []
    },
    {
      "cell_type": "markdown",
      "source": [
        "## Pre-process the training data"
      ],
      "metadata": {
        "id": "iIomnikdjaEw"
      }
    },
    {
      "cell_type": "code",
      "source": [
        "# Create a column for each sentiment. \n",
        "# Each snetiment will be mapped for an individual node in the final layer.\n",
        "y_sent['-1'] = int(y_sent['category'] == -1)\n",
        "y_sent['0'] = int(y_sent['category'] == 0)\n",
        "y_sent['1'] = int(y_sent['category'] == 1)\n",
        "y_sent = y_sent.drop('category', axis = 1)"
      ],
      "metadata": {
        "id": "YkE5tbpAjOjz"
      },
      "execution_count": null,
      "outputs": []
    },
    {
      "cell_type": "markdown",
      "source": [
        "## Split dataset into train and test"
      ],
      "metadata": {
        "id": "uYvyQLYkjq8b"
      }
    },
    {
      "cell_type": "code",
      "source": [
        "X_train_sent, X_test_sent, y_train_sent, y_test_sent = train_test_split(X_sent, y_sent, test_size=0.2, random_state=42)"
      ],
      "metadata": {
        "id": "FWj12uJAjtjI"
      },
      "execution_count": null,
      "outputs": []
    },
    {
      "cell_type": "markdown",
      "source": [
        "## Train the model"
      ],
      "metadata": {
        "id": "UPjhEtrMj0k7"
      }
    },
    {
      "cell_type": "code",
      "source": [
        "transformer_weights = AutoModel.from_pretrained(\n",
        "  config.MODEL_PATH\n",
        ")\n",
        "sentiment_analysis = TransformerModel(transformer_weights, config.NUMBER_EMOTIONS)"
      ],
      "metadata": {
        "id": "RStO__IkgrJh"
      },
      "execution_count": null,
      "outputs": []
    },
    {
      "cell_type": "code",
      "source": [
        "# Run the model on GPU\n",
        "sentiment_analysis.to(device);"
      ],
      "metadata": {
        "id": "UKF80i2YjtqX"
      },
      "execution_count": null,
      "outputs": []
    },
    {
      "cell_type": "code",
      "execution_count": null,
      "metadata": {
        "id": "-j6AIm-fmV8H"
      },
      "outputs": [],
      "source": [
        "train_data_sent = TransformerDataset(X_train_sent, np.vstack(y_train_sent.values).astype(np.float))\n",
        "val_data_sent = TransformerDataset(X_test_sent, np.vstack(y_test_sent.values).astype(np.float))\n",
        "\n",
        "train_dataloader_sent = DataLoader(train_data_sent, batch_size=config.BATCH_SIZE)\n",
        "val_dataloader_sent = DataLoader(val_data_sent, batch_size=config.BATCH_SIZE)\n",
        "\n",
        "best_model, best_val_micro_f1_score = run(sentiment_analysis, train_dataloader_sent, val_dataloader_sent, 'sentiment_model')"
      ]
    },
    {
      "cell_type": "markdown",
      "source": [
        "# Political Analysis"
      ],
      "metadata": {
        "id": "BoTFJxhvk-SP"
      }
    },
    {
      "cell_type": "markdown",
      "source": [
        "## Get the training data"
      ],
      "metadata": {
        "id": "zcWoPwznk-SP"
      }
    },
    {
      "cell_type": "code",
      "source": [
        "df = pd.read_csv('./ExtractedTweets.csv')\n",
        "X_pol = df['Tweet']\n",
        "y_pol = pd.DataFrame(df['Party'])"
      ],
      "metadata": {
        "id": "IwVLn9ORk-SQ"
      },
      "execution_count": null,
      "outputs": []
    },
    {
      "cell_type": "markdown",
      "source": [
        "## Pre-process the training data"
      ],
      "metadata": {
        "id": "gBjyrlBnk-SQ"
      }
    },
    {
      "cell_type": "code",
      "source": [
        "# Create a column for each sentiment. \n",
        "# Each party will be mapped for an individual node in the final layer.\n",
        "y_pol['Democrat'] = int(y_pol['Party'] == 'Democrat')\n",
        "y_pol['Republican'] = int(y_pol['Party'] == 'Republican')\n",
        "y_pol = y_pol.drop('Party', axis = 1)"
      ],
      "metadata": {
        "id": "W94xEPqRk-SQ"
      },
      "execution_count": null,
      "outputs": []
    },
    {
      "cell_type": "markdown",
      "source": [
        "## Split dataset into train and test"
      ],
      "metadata": {
        "id": "eap0n-6Zk-SR"
      }
    },
    {
      "cell_type": "code",
      "source": [
        "X_train_pol, X_test_pol, y_train_pol, y_test_pol = train_test_split(X_pol, y_pol, test_size=0.2, random_state=42)"
      ],
      "metadata": {
        "id": "AM8rywEzk-SR"
      },
      "execution_count": null,
      "outputs": []
    },
    {
      "cell_type": "markdown",
      "source": [
        "## Train the model"
      ],
      "metadata": {
        "id": "u-KQH8msk-SR"
      }
    },
    {
      "cell_type": "code",
      "source": [
        "transformer_weights = AutoModel.from_pretrained(\n",
        "  config.MODEL_PATH\n",
        ")\n",
        "political_model = TransformerModel(transformer_weights, config.NUMBER_POLITICAL_PARTIES)"
      ],
      "metadata": {
        "id": "6BofQ8dck-SS"
      },
      "execution_count": null,
      "outputs": []
    },
    {
      "cell_type": "code",
      "source": [
        "# Run the model on GPU\n",
        "political_model.to(device);"
      ],
      "metadata": {
        "id": "EMC3asXTk-SS"
      },
      "execution_count": null,
      "outputs": []
    },
    {
      "cell_type": "code",
      "execution_count": null,
      "metadata": {
        "colab": {
          "background_save": true
        },
        "id": "r0uXoyX4n1P-"
      },
      "outputs": [],
      "source": [
        "train_data_pol = TransformerDataset(X_train_pol, np.vstack(y_train_pol.values).astype(np.float))\n",
        "val_data_pol = TransformerDataset(X_test_pol, np.vstack(y_test_pol.values).astype(np.float))\n",
        "\n",
        "train_dataloader_pol = DataLoader(train_data_pol, batch_size=config.BATCH_SIZE)\n",
        "val_dataloader_pol = DataLoader(val_data_pol, batch_size=config.BATCH_SIZE)\n",
        "\n",
        "best_model, best_val_micro_f1_score = run(political_model, train_dataloader_pol, val_dataloader_pol, 'political_model')"
      ]
    },
    {
      "cell_type": "markdown",
      "source": [
        "**Comment**: For both models, the test accuracy and F1-score are quite high (sentiment analysis has an accuracy of 0.94 and for political classification ~0.82)"
      ],
      "metadata": {
        "id": "GZCdJ5ZJmdwK"
      }
    }
  ]
}