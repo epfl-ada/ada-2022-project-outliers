{
  "nbformat": 4,
  "nbformat_minor": 0,
  "metadata": {
    "colab": {
      "provenance": [],
      "collapsed_sections": [
        "XDLhQIf2k7dn",
        "PZ59a3_xBQCe",
        "agDzBa8ObT_3",
        "mOfnwMRMh1Z8",
        "MqiXRG40gos1",
        "RGa_leBwjPW0",
        "iIomnikdjaEw"
      ],
      "toc_visible": true
    },
    "kernelspec": {
      "name": "python3",
      "display_name": "Python 3"
    },
    "language_info": {
      "name": "python"
    },
    "widgets": {
      "application/vnd.jupyter.widget-state+json": {
        "7fa7fe61228e4869b6c7eb84cab6f818": {
          "model_module": "@jupyter-widgets/controls",
          "model_name": "HBoxModel",
          "model_module_version": "1.5.0",
          "state": {
            "_dom_classes": [],
            "_model_module": "@jupyter-widgets/controls",
            "_model_module_version": "1.5.0",
            "_model_name": "HBoxModel",
            "_view_count": null,
            "_view_module": "@jupyter-widgets/controls",
            "_view_module_version": "1.5.0",
            "_view_name": "HBoxView",
            "box_style": "",
            "children": [
              "IPY_MODEL_eef80e05fdfd4a9c80bfe3bf2c10e46b",
              "IPY_MODEL_a5ea87ab703c4222808f1b531f95bbaf",
              "IPY_MODEL_8ca0043a6c0640878950e17195c53bd6"
            ],
            "layout": "IPY_MODEL_4af01333758849dc91c48d6022af5393"
          }
        },
        "eef80e05fdfd4a9c80bfe3bf2c10e46b": {
          "model_module": "@jupyter-widgets/controls",
          "model_name": "HTMLModel",
          "model_module_version": "1.5.0",
          "state": {
            "_dom_classes": [],
            "_model_module": "@jupyter-widgets/controls",
            "_model_module_version": "1.5.0",
            "_model_name": "HTMLModel",
            "_view_count": null,
            "_view_module": "@jupyter-widgets/controls",
            "_view_module_version": "1.5.0",
            "_view_name": "HTMLView",
            "description": "",
            "description_tooltip": null,
            "layout": "IPY_MODEL_c4a0055479584ccea80c40743029d54d",
            "placeholder": "​",
            "style": "IPY_MODEL_93e55affebba4d39b890a2fc894ffaeb",
            "value": "Downloading: 100%"
          }
        },
        "a5ea87ab703c4222808f1b531f95bbaf": {
          "model_module": "@jupyter-widgets/controls",
          "model_name": "FloatProgressModel",
          "model_module_version": "1.5.0",
          "state": {
            "_dom_classes": [],
            "_model_module": "@jupyter-widgets/controls",
            "_model_module_version": "1.5.0",
            "_model_name": "FloatProgressModel",
            "_view_count": null,
            "_view_module": "@jupyter-widgets/controls",
            "_view_module_version": "1.5.0",
            "_view_name": "ProgressView",
            "bar_style": "success",
            "description": "",
            "description_tooltip": null,
            "layout": "IPY_MODEL_ce8fb04e44da4992a94057a00dd037f4",
            "max": 174,
            "min": 0,
            "orientation": "horizontal",
            "style": "IPY_MODEL_5709f15ac35746119ac059871d481f25",
            "value": 174
          }
        },
        "8ca0043a6c0640878950e17195c53bd6": {
          "model_module": "@jupyter-widgets/controls",
          "model_name": "HTMLModel",
          "model_module_version": "1.5.0",
          "state": {
            "_dom_classes": [],
            "_model_module": "@jupyter-widgets/controls",
            "_model_module_version": "1.5.0",
            "_model_name": "HTMLModel",
            "_view_count": null,
            "_view_module": "@jupyter-widgets/controls",
            "_view_module_version": "1.5.0",
            "_view_name": "HTMLView",
            "description": "",
            "description_tooltip": null,
            "layout": "IPY_MODEL_0567788b38814cfa94683b9c4d6c6d7e",
            "placeholder": "​",
            "style": "IPY_MODEL_b7950cd4c52044bfbda999bce582868b",
            "value": " 174/174 [00:00&lt;00:00, 2.23kB/s]"
          }
        },
        "4af01333758849dc91c48d6022af5393": {
          "model_module": "@jupyter-widgets/base",
          "model_name": "LayoutModel",
          "model_module_version": "1.2.0",
          "state": {
            "_model_module": "@jupyter-widgets/base",
            "_model_module_version": "1.2.0",
            "_model_name": "LayoutModel",
            "_view_count": null,
            "_view_module": "@jupyter-widgets/base",
            "_view_module_version": "1.2.0",
            "_view_name": "LayoutView",
            "align_content": null,
            "align_items": null,
            "align_self": null,
            "border": null,
            "bottom": null,
            "display": null,
            "flex": null,
            "flex_flow": null,
            "grid_area": null,
            "grid_auto_columns": null,
            "grid_auto_flow": null,
            "grid_auto_rows": null,
            "grid_column": null,
            "grid_gap": null,
            "grid_row": null,
            "grid_template_areas": null,
            "grid_template_columns": null,
            "grid_template_rows": null,
            "height": null,
            "justify_content": null,
            "justify_items": null,
            "left": null,
            "margin": null,
            "max_height": null,
            "max_width": null,
            "min_height": null,
            "min_width": null,
            "object_fit": null,
            "object_position": null,
            "order": null,
            "overflow": null,
            "overflow_x": null,
            "overflow_y": null,
            "padding": null,
            "right": null,
            "top": null,
            "visibility": null,
            "width": null
          }
        },
        "c4a0055479584ccea80c40743029d54d": {
          "model_module": "@jupyter-widgets/base",
          "model_name": "LayoutModel",
          "model_module_version": "1.2.0",
          "state": {
            "_model_module": "@jupyter-widgets/base",
            "_model_module_version": "1.2.0",
            "_model_name": "LayoutModel",
            "_view_count": null,
            "_view_module": "@jupyter-widgets/base",
            "_view_module_version": "1.2.0",
            "_view_name": "LayoutView",
            "align_content": null,
            "align_items": null,
            "align_self": null,
            "border": null,
            "bottom": null,
            "display": null,
            "flex": null,
            "flex_flow": null,
            "grid_area": null,
            "grid_auto_columns": null,
            "grid_auto_flow": null,
            "grid_auto_rows": null,
            "grid_column": null,
            "grid_gap": null,
            "grid_row": null,
            "grid_template_areas": null,
            "grid_template_columns": null,
            "grid_template_rows": null,
            "height": null,
            "justify_content": null,
            "justify_items": null,
            "left": null,
            "margin": null,
            "max_height": null,
            "max_width": null,
            "min_height": null,
            "min_width": null,
            "object_fit": null,
            "object_position": null,
            "order": null,
            "overflow": null,
            "overflow_x": null,
            "overflow_y": null,
            "padding": null,
            "right": null,
            "top": null,
            "visibility": null,
            "width": null
          }
        },
        "93e55affebba4d39b890a2fc894ffaeb": {
          "model_module": "@jupyter-widgets/controls",
          "model_name": "DescriptionStyleModel",
          "model_module_version": "1.5.0",
          "state": {
            "_model_module": "@jupyter-widgets/controls",
            "_model_module_version": "1.5.0",
            "_model_name": "DescriptionStyleModel",
            "_view_count": null,
            "_view_module": "@jupyter-widgets/base",
            "_view_module_version": "1.2.0",
            "_view_name": "StyleView",
            "description_width": ""
          }
        },
        "ce8fb04e44da4992a94057a00dd037f4": {
          "model_module": "@jupyter-widgets/base",
          "model_name": "LayoutModel",
          "model_module_version": "1.2.0",
          "state": {
            "_model_module": "@jupyter-widgets/base",
            "_model_module_version": "1.2.0",
            "_model_name": "LayoutModel",
            "_view_count": null,
            "_view_module": "@jupyter-widgets/base",
            "_view_module_version": "1.2.0",
            "_view_name": "LayoutView",
            "align_content": null,
            "align_items": null,
            "align_self": null,
            "border": null,
            "bottom": null,
            "display": null,
            "flex": null,
            "flex_flow": null,
            "grid_area": null,
            "grid_auto_columns": null,
            "grid_auto_flow": null,
            "grid_auto_rows": null,
            "grid_column": null,
            "grid_gap": null,
            "grid_row": null,
            "grid_template_areas": null,
            "grid_template_columns": null,
            "grid_template_rows": null,
            "height": null,
            "justify_content": null,
            "justify_items": null,
            "left": null,
            "margin": null,
            "max_height": null,
            "max_width": null,
            "min_height": null,
            "min_width": null,
            "object_fit": null,
            "object_position": null,
            "order": null,
            "overflow": null,
            "overflow_x": null,
            "overflow_y": null,
            "padding": null,
            "right": null,
            "top": null,
            "visibility": null,
            "width": null
          }
        },
        "5709f15ac35746119ac059871d481f25": {
          "model_module": "@jupyter-widgets/controls",
          "model_name": "ProgressStyleModel",
          "model_module_version": "1.5.0",
          "state": {
            "_model_module": "@jupyter-widgets/controls",
            "_model_module_version": "1.5.0",
            "_model_name": "ProgressStyleModel",
            "_view_count": null,
            "_view_module": "@jupyter-widgets/base",
            "_view_module_version": "1.2.0",
            "_view_name": "StyleView",
            "bar_color": null,
            "description_width": ""
          }
        },
        "0567788b38814cfa94683b9c4d6c6d7e": {
          "model_module": "@jupyter-widgets/base",
          "model_name": "LayoutModel",
          "model_module_version": "1.2.0",
          "state": {
            "_model_module": "@jupyter-widgets/base",
            "_model_module_version": "1.2.0",
            "_model_name": "LayoutModel",
            "_view_count": null,
            "_view_module": "@jupyter-widgets/base",
            "_view_module_version": "1.2.0",
            "_view_name": "LayoutView",
            "align_content": null,
            "align_items": null,
            "align_self": null,
            "border": null,
            "bottom": null,
            "display": null,
            "flex": null,
            "flex_flow": null,
            "grid_area": null,
            "grid_auto_columns": null,
            "grid_auto_flow": null,
            "grid_auto_rows": null,
            "grid_column": null,
            "grid_gap": null,
            "grid_row": null,
            "grid_template_areas": null,
            "grid_template_columns": null,
            "grid_template_rows": null,
            "height": null,
            "justify_content": null,
            "justify_items": null,
            "left": null,
            "margin": null,
            "max_height": null,
            "max_width": null,
            "min_height": null,
            "min_width": null,
            "object_fit": null,
            "object_position": null,
            "order": null,
            "overflow": null,
            "overflow_x": null,
            "overflow_y": null,
            "padding": null,
            "right": null,
            "top": null,
            "visibility": null,
            "width": null
          }
        },
        "b7950cd4c52044bfbda999bce582868b": {
          "model_module": "@jupyter-widgets/controls",
          "model_name": "DescriptionStyleModel",
          "model_module_version": "1.5.0",
          "state": {
            "_model_module": "@jupyter-widgets/controls",
            "_model_module_version": "1.5.0",
            "_model_name": "DescriptionStyleModel",
            "_view_count": null,
            "_view_module": "@jupyter-widgets/base",
            "_view_module_version": "1.2.0",
            "_view_name": "StyleView",
            "description_width": ""
          }
        },
        "a8faec6d0ffa4d658cea9d1f62aa7548": {
          "model_module": "@jupyter-widgets/controls",
          "model_name": "HBoxModel",
          "model_module_version": "1.5.0",
          "state": {
            "_dom_classes": [],
            "_model_module": "@jupyter-widgets/controls",
            "_model_module_version": "1.5.0",
            "_model_name": "HBoxModel",
            "_view_count": null,
            "_view_module": "@jupyter-widgets/controls",
            "_view_module_version": "1.5.0",
            "_view_name": "HBoxView",
            "box_style": "",
            "children": [
              "IPY_MODEL_9f7828d7cc674464975bfceec57b90f4",
              "IPY_MODEL_17aea3f593544d87893c0fc08c862d2d",
              "IPY_MODEL_fe0bb823e7c1475393ff9f91ede33194"
            ],
            "layout": "IPY_MODEL_83f2573c79e24d73a908b631b300284a"
          }
        },
        "9f7828d7cc674464975bfceec57b90f4": {
          "model_module": "@jupyter-widgets/controls",
          "model_name": "HTMLModel",
          "model_module_version": "1.5.0",
          "state": {
            "_dom_classes": [],
            "_model_module": "@jupyter-widgets/controls",
            "_model_module_version": "1.5.0",
            "_model_name": "HTMLModel",
            "_view_count": null,
            "_view_module": "@jupyter-widgets/controls",
            "_view_module_version": "1.5.0",
            "_view_name": "HTMLView",
            "description": "",
            "description_tooltip": null,
            "layout": "IPY_MODEL_330350d836d34ae8a00b0f20b0f0616d",
            "placeholder": "​",
            "style": "IPY_MODEL_e625f791e5b648aeb5860f81519453f1",
            "value": "Downloading: 100%"
          }
        },
        "17aea3f593544d87893c0fc08c862d2d": {
          "model_module": "@jupyter-widgets/controls",
          "model_name": "FloatProgressModel",
          "model_module_version": "1.5.0",
          "state": {
            "_dom_classes": [],
            "_model_module": "@jupyter-widgets/controls",
            "_model_module_version": "1.5.0",
            "_model_name": "FloatProgressModel",
            "_view_count": null,
            "_view_module": "@jupyter-widgets/controls",
            "_view_module_version": "1.5.0",
            "_view_name": "ProgressView",
            "bar_style": "success",
            "description": "",
            "description_tooltip": null,
            "layout": "IPY_MODEL_fdef2a0c437b4ab2a70718198163b905",
            "max": 508,
            "min": 0,
            "orientation": "horizontal",
            "style": "IPY_MODEL_47c65f7e60a14bcf985ffd2b76b3547a",
            "value": 508
          }
        },
        "fe0bb823e7c1475393ff9f91ede33194": {
          "model_module": "@jupyter-widgets/controls",
          "model_name": "HTMLModel",
          "model_module_version": "1.5.0",
          "state": {
            "_dom_classes": [],
            "_model_module": "@jupyter-widgets/controls",
            "_model_module_version": "1.5.0",
            "_model_name": "HTMLModel",
            "_view_count": null,
            "_view_module": "@jupyter-widgets/controls",
            "_view_module_version": "1.5.0",
            "_view_name": "HTMLView",
            "description": "",
            "description_tooltip": null,
            "layout": "IPY_MODEL_2f89f13d94214a9f8ed77823c757ef2e",
            "placeholder": "​",
            "style": "IPY_MODEL_965e3eaf054741abae463ec3b70d93ad",
            "value": " 508/508 [00:00&lt;00:00, 13.8kB/s]"
          }
        },
        "83f2573c79e24d73a908b631b300284a": {
          "model_module": "@jupyter-widgets/base",
          "model_name": "LayoutModel",
          "model_module_version": "1.2.0",
          "state": {
            "_model_module": "@jupyter-widgets/base",
            "_model_module_version": "1.2.0",
            "_model_name": "LayoutModel",
            "_view_count": null,
            "_view_module": "@jupyter-widgets/base",
            "_view_module_version": "1.2.0",
            "_view_name": "LayoutView",
            "align_content": null,
            "align_items": null,
            "align_self": null,
            "border": null,
            "bottom": null,
            "display": null,
            "flex": null,
            "flex_flow": null,
            "grid_area": null,
            "grid_auto_columns": null,
            "grid_auto_flow": null,
            "grid_auto_rows": null,
            "grid_column": null,
            "grid_gap": null,
            "grid_row": null,
            "grid_template_areas": null,
            "grid_template_columns": null,
            "grid_template_rows": null,
            "height": null,
            "justify_content": null,
            "justify_items": null,
            "left": null,
            "margin": null,
            "max_height": null,
            "max_width": null,
            "min_height": null,
            "min_width": null,
            "object_fit": null,
            "object_position": null,
            "order": null,
            "overflow": null,
            "overflow_x": null,
            "overflow_y": null,
            "padding": null,
            "right": null,
            "top": null,
            "visibility": null,
            "width": null
          }
        },
        "330350d836d34ae8a00b0f20b0f0616d": {
          "model_module": "@jupyter-widgets/base",
          "model_name": "LayoutModel",
          "model_module_version": "1.2.0",
          "state": {
            "_model_module": "@jupyter-widgets/base",
            "_model_module_version": "1.2.0",
            "_model_name": "LayoutModel",
            "_view_count": null,
            "_view_module": "@jupyter-widgets/base",
            "_view_module_version": "1.2.0",
            "_view_name": "LayoutView",
            "align_content": null,
            "align_items": null,
            "align_self": null,
            "border": null,
            "bottom": null,
            "display": null,
            "flex": null,
            "flex_flow": null,
            "grid_area": null,
            "grid_auto_columns": null,
            "grid_auto_flow": null,
            "grid_auto_rows": null,
            "grid_column": null,
            "grid_gap": null,
            "grid_row": null,
            "grid_template_areas": null,
            "grid_template_columns": null,
            "grid_template_rows": null,
            "height": null,
            "justify_content": null,
            "justify_items": null,
            "left": null,
            "margin": null,
            "max_height": null,
            "max_width": null,
            "min_height": null,
            "min_width": null,
            "object_fit": null,
            "object_position": null,
            "order": null,
            "overflow": null,
            "overflow_x": null,
            "overflow_y": null,
            "padding": null,
            "right": null,
            "top": null,
            "visibility": null,
            "width": null
          }
        },
        "e625f791e5b648aeb5860f81519453f1": {
          "model_module": "@jupyter-widgets/controls",
          "model_name": "DescriptionStyleModel",
          "model_module_version": "1.5.0",
          "state": {
            "_model_module": "@jupyter-widgets/controls",
            "_model_module_version": "1.5.0",
            "_model_name": "DescriptionStyleModel",
            "_view_count": null,
            "_view_module": "@jupyter-widgets/base",
            "_view_module_version": "1.2.0",
            "_view_name": "StyleView",
            "description_width": ""
          }
        },
        "fdef2a0c437b4ab2a70718198163b905": {
          "model_module": "@jupyter-widgets/base",
          "model_name": "LayoutModel",
          "model_module_version": "1.2.0",
          "state": {
            "_model_module": "@jupyter-widgets/base",
            "_model_module_version": "1.2.0",
            "_model_name": "LayoutModel",
            "_view_count": null,
            "_view_module": "@jupyter-widgets/base",
            "_view_module_version": "1.2.0",
            "_view_name": "LayoutView",
            "align_content": null,
            "align_items": null,
            "align_self": null,
            "border": null,
            "bottom": null,
            "display": null,
            "flex": null,
            "flex_flow": null,
            "grid_area": null,
            "grid_auto_columns": null,
            "grid_auto_flow": null,
            "grid_auto_rows": null,
            "grid_column": null,
            "grid_gap": null,
            "grid_row": null,
            "grid_template_areas": null,
            "grid_template_columns": null,
            "grid_template_rows": null,
            "height": null,
            "justify_content": null,
            "justify_items": null,
            "left": null,
            "margin": null,
            "max_height": null,
            "max_width": null,
            "min_height": null,
            "min_width": null,
            "object_fit": null,
            "object_position": null,
            "order": null,
            "overflow": null,
            "overflow_x": null,
            "overflow_y": null,
            "padding": null,
            "right": null,
            "top": null,
            "visibility": null,
            "width": null
          }
        },
        "47c65f7e60a14bcf985ffd2b76b3547a": {
          "model_module": "@jupyter-widgets/controls",
          "model_name": "ProgressStyleModel",
          "model_module_version": "1.5.0",
          "state": {
            "_model_module": "@jupyter-widgets/controls",
            "_model_module_version": "1.5.0",
            "_model_name": "ProgressStyleModel",
            "_view_count": null,
            "_view_module": "@jupyter-widgets/base",
            "_view_module_version": "1.2.0",
            "_view_name": "StyleView",
            "bar_color": null,
            "description_width": ""
          }
        },
        "2f89f13d94214a9f8ed77823c757ef2e": {
          "model_module": "@jupyter-widgets/base",
          "model_name": "LayoutModel",
          "model_module_version": "1.2.0",
          "state": {
            "_model_module": "@jupyter-widgets/base",
            "_model_module_version": "1.2.0",
            "_model_name": "LayoutModel",
            "_view_count": null,
            "_view_module": "@jupyter-widgets/base",
            "_view_module_version": "1.2.0",
            "_view_name": "LayoutView",
            "align_content": null,
            "align_items": null,
            "align_self": null,
            "border": null,
            "bottom": null,
            "display": null,
            "flex": null,
            "flex_flow": null,
            "grid_area": null,
            "grid_auto_columns": null,
            "grid_auto_flow": null,
            "grid_auto_rows": null,
            "grid_column": null,
            "grid_gap": null,
            "grid_row": null,
            "grid_template_areas": null,
            "grid_template_columns": null,
            "grid_template_rows": null,
            "height": null,
            "justify_content": null,
            "justify_items": null,
            "left": null,
            "margin": null,
            "max_height": null,
            "max_width": null,
            "min_height": null,
            "min_width": null,
            "object_fit": null,
            "object_position": null,
            "order": null,
            "overflow": null,
            "overflow_x": null,
            "overflow_y": null,
            "padding": null,
            "right": null,
            "top": null,
            "visibility": null,
            "width": null
          }
        },
        "965e3eaf054741abae463ec3b70d93ad": {
          "model_module": "@jupyter-widgets/controls",
          "model_name": "DescriptionStyleModel",
          "model_module_version": "1.5.0",
          "state": {
            "_model_module": "@jupyter-widgets/controls",
            "_model_module_version": "1.5.0",
            "_model_name": "DescriptionStyleModel",
            "_view_count": null,
            "_view_module": "@jupyter-widgets/base",
            "_view_module_version": "1.2.0",
            "_view_name": "StyleView",
            "description_width": ""
          }
        },
        "82c24e85a1364d6fa2a6e35ff7c07e85": {
          "model_module": "@jupyter-widgets/controls",
          "model_name": "HBoxModel",
          "model_module_version": "1.5.0",
          "state": {
            "_dom_classes": [],
            "_model_module": "@jupyter-widgets/controls",
            "_model_module_version": "1.5.0",
            "_model_name": "HBoxModel",
            "_view_count": null,
            "_view_module": "@jupyter-widgets/controls",
            "_view_module_version": "1.5.0",
            "_view_name": "HBoxView",
            "box_style": "",
            "children": [
              "IPY_MODEL_212156a57c544b11951606f858f496b4",
              "IPY_MODEL_5991ba928c944db08b05dd7821c2ae87",
              "IPY_MODEL_7133dd94b12144198553f3e22904fef4"
            ],
            "layout": "IPY_MODEL_8cd14e615174412daaf368ac50741722"
          }
        },
        "212156a57c544b11951606f858f496b4": {
          "model_module": "@jupyter-widgets/controls",
          "model_name": "HTMLModel",
          "model_module_version": "1.5.0",
          "state": {
            "_dom_classes": [],
            "_model_module": "@jupyter-widgets/controls",
            "_model_module_version": "1.5.0",
            "_model_name": "HTMLModel",
            "_view_count": null,
            "_view_module": "@jupyter-widgets/controls",
            "_view_module_version": "1.5.0",
            "_view_name": "HTMLView",
            "description": "",
            "description_tooltip": null,
            "layout": "IPY_MODEL_efa6db1b7cb6483cb33fc5ef53e7bb1b",
            "placeholder": "​",
            "style": "IPY_MODEL_77ca98484f0c4e3286e352aa6e109880",
            "value": "Downloading: 100%"
          }
        },
        "5991ba928c944db08b05dd7821c2ae87": {
          "model_module": "@jupyter-widgets/controls",
          "model_name": "FloatProgressModel",
          "model_module_version": "1.5.0",
          "state": {
            "_dom_classes": [],
            "_model_module": "@jupyter-widgets/controls",
            "_model_module_version": "1.5.0",
            "_model_name": "FloatProgressModel",
            "_view_count": null,
            "_view_module": "@jupyter-widgets/controls",
            "_view_module_version": "1.5.0",
            "_view_name": "ProgressView",
            "bar_style": "success",
            "description": "",
            "description_tooltip": null,
            "layout": "IPY_MODEL_aca0b68e42a648e98d9a75d615e06798",
            "max": 231508,
            "min": 0,
            "orientation": "horizontal",
            "style": "IPY_MODEL_e9dad80f60514b5490a9e8ca2c1cb12e",
            "value": 231508
          }
        },
        "7133dd94b12144198553f3e22904fef4": {
          "model_module": "@jupyter-widgets/controls",
          "model_name": "HTMLModel",
          "model_module_version": "1.5.0",
          "state": {
            "_dom_classes": [],
            "_model_module": "@jupyter-widgets/controls",
            "_model_module_version": "1.5.0",
            "_model_name": "HTMLModel",
            "_view_count": null,
            "_view_module": "@jupyter-widgets/controls",
            "_view_module_version": "1.5.0",
            "_view_name": "HTMLView",
            "description": "",
            "description_tooltip": null,
            "layout": "IPY_MODEL_8ddea4639e094ba5ad42dc1ef7a7815f",
            "placeholder": "​",
            "style": "IPY_MODEL_cb1130acfa274e5d80227d66accc2695",
            "value": " 232k/232k [00:00&lt;00:00, 371kB/s]"
          }
        },
        "8cd14e615174412daaf368ac50741722": {
          "model_module": "@jupyter-widgets/base",
          "model_name": "LayoutModel",
          "model_module_version": "1.2.0",
          "state": {
            "_model_module": "@jupyter-widgets/base",
            "_model_module_version": "1.2.0",
            "_model_name": "LayoutModel",
            "_view_count": null,
            "_view_module": "@jupyter-widgets/base",
            "_view_module_version": "1.2.0",
            "_view_name": "LayoutView",
            "align_content": null,
            "align_items": null,
            "align_self": null,
            "border": null,
            "bottom": null,
            "display": null,
            "flex": null,
            "flex_flow": null,
            "grid_area": null,
            "grid_auto_columns": null,
            "grid_auto_flow": null,
            "grid_auto_rows": null,
            "grid_column": null,
            "grid_gap": null,
            "grid_row": null,
            "grid_template_areas": null,
            "grid_template_columns": null,
            "grid_template_rows": null,
            "height": null,
            "justify_content": null,
            "justify_items": null,
            "left": null,
            "margin": null,
            "max_height": null,
            "max_width": null,
            "min_height": null,
            "min_width": null,
            "object_fit": null,
            "object_position": null,
            "order": null,
            "overflow": null,
            "overflow_x": null,
            "overflow_y": null,
            "padding": null,
            "right": null,
            "top": null,
            "visibility": null,
            "width": null
          }
        },
        "efa6db1b7cb6483cb33fc5ef53e7bb1b": {
          "model_module": "@jupyter-widgets/base",
          "model_name": "LayoutModel",
          "model_module_version": "1.2.0",
          "state": {
            "_model_module": "@jupyter-widgets/base",
            "_model_module_version": "1.2.0",
            "_model_name": "LayoutModel",
            "_view_count": null,
            "_view_module": "@jupyter-widgets/base",
            "_view_module_version": "1.2.0",
            "_view_name": "LayoutView",
            "align_content": null,
            "align_items": null,
            "align_self": null,
            "border": null,
            "bottom": null,
            "display": null,
            "flex": null,
            "flex_flow": null,
            "grid_area": null,
            "grid_auto_columns": null,
            "grid_auto_flow": null,
            "grid_auto_rows": null,
            "grid_column": null,
            "grid_gap": null,
            "grid_row": null,
            "grid_template_areas": null,
            "grid_template_columns": null,
            "grid_template_rows": null,
            "height": null,
            "justify_content": null,
            "justify_items": null,
            "left": null,
            "margin": null,
            "max_height": null,
            "max_width": null,
            "min_height": null,
            "min_width": null,
            "object_fit": null,
            "object_position": null,
            "order": null,
            "overflow": null,
            "overflow_x": null,
            "overflow_y": null,
            "padding": null,
            "right": null,
            "top": null,
            "visibility": null,
            "width": null
          }
        },
        "77ca98484f0c4e3286e352aa6e109880": {
          "model_module": "@jupyter-widgets/controls",
          "model_name": "DescriptionStyleModel",
          "model_module_version": "1.5.0",
          "state": {
            "_model_module": "@jupyter-widgets/controls",
            "_model_module_version": "1.5.0",
            "_model_name": "DescriptionStyleModel",
            "_view_count": null,
            "_view_module": "@jupyter-widgets/base",
            "_view_module_version": "1.2.0",
            "_view_name": "StyleView",
            "description_width": ""
          }
        },
        "aca0b68e42a648e98d9a75d615e06798": {
          "model_module": "@jupyter-widgets/base",
          "model_name": "LayoutModel",
          "model_module_version": "1.2.0",
          "state": {
            "_model_module": "@jupyter-widgets/base",
            "_model_module_version": "1.2.0",
            "_model_name": "LayoutModel",
            "_view_count": null,
            "_view_module": "@jupyter-widgets/base",
            "_view_module_version": "1.2.0",
            "_view_name": "LayoutView",
            "align_content": null,
            "align_items": null,
            "align_self": null,
            "border": null,
            "bottom": null,
            "display": null,
            "flex": null,
            "flex_flow": null,
            "grid_area": null,
            "grid_auto_columns": null,
            "grid_auto_flow": null,
            "grid_auto_rows": null,
            "grid_column": null,
            "grid_gap": null,
            "grid_row": null,
            "grid_template_areas": null,
            "grid_template_columns": null,
            "grid_template_rows": null,
            "height": null,
            "justify_content": null,
            "justify_items": null,
            "left": null,
            "margin": null,
            "max_height": null,
            "max_width": null,
            "min_height": null,
            "min_width": null,
            "object_fit": null,
            "object_position": null,
            "order": null,
            "overflow": null,
            "overflow_x": null,
            "overflow_y": null,
            "padding": null,
            "right": null,
            "top": null,
            "visibility": null,
            "width": null
          }
        },
        "e9dad80f60514b5490a9e8ca2c1cb12e": {
          "model_module": "@jupyter-widgets/controls",
          "model_name": "ProgressStyleModel",
          "model_module_version": "1.5.0",
          "state": {
            "_model_module": "@jupyter-widgets/controls",
            "_model_module_version": "1.5.0",
            "_model_name": "ProgressStyleModel",
            "_view_count": null,
            "_view_module": "@jupyter-widgets/base",
            "_view_module_version": "1.2.0",
            "_view_name": "StyleView",
            "bar_color": null,
            "description_width": ""
          }
        },
        "8ddea4639e094ba5ad42dc1ef7a7815f": {
          "model_module": "@jupyter-widgets/base",
          "model_name": "LayoutModel",
          "model_module_version": "1.2.0",
          "state": {
            "_model_module": "@jupyter-widgets/base",
            "_model_module_version": "1.2.0",
            "_model_name": "LayoutModel",
            "_view_count": null,
            "_view_module": "@jupyter-widgets/base",
            "_view_module_version": "1.2.0",
            "_view_name": "LayoutView",
            "align_content": null,
            "align_items": null,
            "align_self": null,
            "border": null,
            "bottom": null,
            "display": null,
            "flex": null,
            "flex_flow": null,
            "grid_area": null,
            "grid_auto_columns": null,
            "grid_auto_flow": null,
            "grid_auto_rows": null,
            "grid_column": null,
            "grid_gap": null,
            "grid_row": null,
            "grid_template_areas": null,
            "grid_template_columns": null,
            "grid_template_rows": null,
            "height": null,
            "justify_content": null,
            "justify_items": null,
            "left": null,
            "margin": null,
            "max_height": null,
            "max_width": null,
            "min_height": null,
            "min_width": null,
            "object_fit": null,
            "object_position": null,
            "order": null,
            "overflow": null,
            "overflow_x": null,
            "overflow_y": null,
            "padding": null,
            "right": null,
            "top": null,
            "visibility": null,
            "width": null
          }
        },
        "cb1130acfa274e5d80227d66accc2695": {
          "model_module": "@jupyter-widgets/controls",
          "model_name": "DescriptionStyleModel",
          "model_module_version": "1.5.0",
          "state": {
            "_model_module": "@jupyter-widgets/controls",
            "_model_module_version": "1.5.0",
            "_model_name": "DescriptionStyleModel",
            "_view_count": null,
            "_view_module": "@jupyter-widgets/base",
            "_view_module_version": "1.2.0",
            "_view_name": "StyleView",
            "description_width": ""
          }
        },
        "33e66e5e750d4838b1e845a171779f13": {
          "model_module": "@jupyter-widgets/controls",
          "model_name": "HBoxModel",
          "model_module_version": "1.5.0",
          "state": {
            "_dom_classes": [],
            "_model_module": "@jupyter-widgets/controls",
            "_model_module_version": "1.5.0",
            "_model_name": "HBoxModel",
            "_view_count": null,
            "_view_module": "@jupyter-widgets/controls",
            "_view_module_version": "1.5.0",
            "_view_name": "HBoxView",
            "box_style": "",
            "children": [
              "IPY_MODEL_ce0da5f8514d44e59e5d83d52ec6d39e",
              "IPY_MODEL_aac92405e93b476bb9c55d6fb57e092e",
              "IPY_MODEL_50268b3a229248638c21c822d32d4aa7"
            ],
            "layout": "IPY_MODEL_9f8111ee96a04f2d9d4b2c9ffa3ac7d2"
          }
        },
        "ce0da5f8514d44e59e5d83d52ec6d39e": {
          "model_module": "@jupyter-widgets/controls",
          "model_name": "HTMLModel",
          "model_module_version": "1.5.0",
          "state": {
            "_dom_classes": [],
            "_model_module": "@jupyter-widgets/controls",
            "_model_module_version": "1.5.0",
            "_model_name": "HTMLModel",
            "_view_count": null,
            "_view_module": "@jupyter-widgets/controls",
            "_view_module_version": "1.5.0",
            "_view_name": "HTMLView",
            "description": "",
            "description_tooltip": null,
            "layout": "IPY_MODEL_38bb650d589d4f29978bc7734c96198f",
            "placeholder": "​",
            "style": "IPY_MODEL_201471025227416e868b2ad302ce9e21",
            "value": "Downloading: 100%"
          }
        },
        "aac92405e93b476bb9c55d6fb57e092e": {
          "model_module": "@jupyter-widgets/controls",
          "model_name": "FloatProgressModel",
          "model_module_version": "1.5.0",
          "state": {
            "_dom_classes": [],
            "_model_module": "@jupyter-widgets/controls",
            "_model_module_version": "1.5.0",
            "_model_name": "FloatProgressModel",
            "_view_count": null,
            "_view_module": "@jupyter-widgets/controls",
            "_view_module_version": "1.5.0",
            "_view_name": "ProgressView",
            "bar_style": "success",
            "description": "",
            "description_tooltip": null,
            "layout": "IPY_MODEL_b1571f5faad64851843bf154dceb915f",
            "max": 112,
            "min": 0,
            "orientation": "horizontal",
            "style": "IPY_MODEL_1f7484d01b3e43b18c9e178c2cc95613",
            "value": 112
          }
        },
        "50268b3a229248638c21c822d32d4aa7": {
          "model_module": "@jupyter-widgets/controls",
          "model_name": "HTMLModel",
          "model_module_version": "1.5.0",
          "state": {
            "_dom_classes": [],
            "_model_module": "@jupyter-widgets/controls",
            "_model_module_version": "1.5.0",
            "_model_name": "HTMLModel",
            "_view_count": null,
            "_view_module": "@jupyter-widgets/controls",
            "_view_module_version": "1.5.0",
            "_view_name": "HTMLView",
            "description": "",
            "description_tooltip": null,
            "layout": "IPY_MODEL_bf49c81d635a4882aef34667aeb4672e",
            "placeholder": "​",
            "style": "IPY_MODEL_ee3c6be294eb4c05bf5a8b0aa247c0af",
            "value": " 112/112 [00:00&lt;00:00, 1.23kB/s]"
          }
        },
        "9f8111ee96a04f2d9d4b2c9ffa3ac7d2": {
          "model_module": "@jupyter-widgets/base",
          "model_name": "LayoutModel",
          "model_module_version": "1.2.0",
          "state": {
            "_model_module": "@jupyter-widgets/base",
            "_model_module_version": "1.2.0",
            "_model_name": "LayoutModel",
            "_view_count": null,
            "_view_module": "@jupyter-widgets/base",
            "_view_module_version": "1.2.0",
            "_view_name": "LayoutView",
            "align_content": null,
            "align_items": null,
            "align_self": null,
            "border": null,
            "bottom": null,
            "display": null,
            "flex": null,
            "flex_flow": null,
            "grid_area": null,
            "grid_auto_columns": null,
            "grid_auto_flow": null,
            "grid_auto_rows": null,
            "grid_column": null,
            "grid_gap": null,
            "grid_row": null,
            "grid_template_areas": null,
            "grid_template_columns": null,
            "grid_template_rows": null,
            "height": null,
            "justify_content": null,
            "justify_items": null,
            "left": null,
            "margin": null,
            "max_height": null,
            "max_width": null,
            "min_height": null,
            "min_width": null,
            "object_fit": null,
            "object_position": null,
            "order": null,
            "overflow": null,
            "overflow_x": null,
            "overflow_y": null,
            "padding": null,
            "right": null,
            "top": null,
            "visibility": null,
            "width": null
          }
        },
        "38bb650d589d4f29978bc7734c96198f": {
          "model_module": "@jupyter-widgets/base",
          "model_name": "LayoutModel",
          "model_module_version": "1.2.0",
          "state": {
            "_model_module": "@jupyter-widgets/base",
            "_model_module_version": "1.2.0",
            "_model_name": "LayoutModel",
            "_view_count": null,
            "_view_module": "@jupyter-widgets/base",
            "_view_module_version": "1.2.0",
            "_view_name": "LayoutView",
            "align_content": null,
            "align_items": null,
            "align_self": null,
            "border": null,
            "bottom": null,
            "display": null,
            "flex": null,
            "flex_flow": null,
            "grid_area": null,
            "grid_auto_columns": null,
            "grid_auto_flow": null,
            "grid_auto_rows": null,
            "grid_column": null,
            "grid_gap": null,
            "grid_row": null,
            "grid_template_areas": null,
            "grid_template_columns": null,
            "grid_template_rows": null,
            "height": null,
            "justify_content": null,
            "justify_items": null,
            "left": null,
            "margin": null,
            "max_height": null,
            "max_width": null,
            "min_height": null,
            "min_width": null,
            "object_fit": null,
            "object_position": null,
            "order": null,
            "overflow": null,
            "overflow_x": null,
            "overflow_y": null,
            "padding": null,
            "right": null,
            "top": null,
            "visibility": null,
            "width": null
          }
        },
        "201471025227416e868b2ad302ce9e21": {
          "model_module": "@jupyter-widgets/controls",
          "model_name": "DescriptionStyleModel",
          "model_module_version": "1.5.0",
          "state": {
            "_model_module": "@jupyter-widgets/controls",
            "_model_module_version": "1.5.0",
            "_model_name": "DescriptionStyleModel",
            "_view_count": null,
            "_view_module": "@jupyter-widgets/base",
            "_view_module_version": "1.2.0",
            "_view_name": "StyleView",
            "description_width": ""
          }
        },
        "b1571f5faad64851843bf154dceb915f": {
          "model_module": "@jupyter-widgets/base",
          "model_name": "LayoutModel",
          "model_module_version": "1.2.0",
          "state": {
            "_model_module": "@jupyter-widgets/base",
            "_model_module_version": "1.2.0",
            "_model_name": "LayoutModel",
            "_view_count": null,
            "_view_module": "@jupyter-widgets/base",
            "_view_module_version": "1.2.0",
            "_view_name": "LayoutView",
            "align_content": null,
            "align_items": null,
            "align_self": null,
            "border": null,
            "bottom": null,
            "display": null,
            "flex": null,
            "flex_flow": null,
            "grid_area": null,
            "grid_auto_columns": null,
            "grid_auto_flow": null,
            "grid_auto_rows": null,
            "grid_column": null,
            "grid_gap": null,
            "grid_row": null,
            "grid_template_areas": null,
            "grid_template_columns": null,
            "grid_template_rows": null,
            "height": null,
            "justify_content": null,
            "justify_items": null,
            "left": null,
            "margin": null,
            "max_height": null,
            "max_width": null,
            "min_height": null,
            "min_width": null,
            "object_fit": null,
            "object_position": null,
            "order": null,
            "overflow": null,
            "overflow_x": null,
            "overflow_y": null,
            "padding": null,
            "right": null,
            "top": null,
            "visibility": null,
            "width": null
          }
        },
        "1f7484d01b3e43b18c9e178c2cc95613": {
          "model_module": "@jupyter-widgets/controls",
          "model_name": "ProgressStyleModel",
          "model_module_version": "1.5.0",
          "state": {
            "_model_module": "@jupyter-widgets/controls",
            "_model_module_version": "1.5.0",
            "_model_name": "ProgressStyleModel",
            "_view_count": null,
            "_view_module": "@jupyter-widgets/base",
            "_view_module_version": "1.2.0",
            "_view_name": "StyleView",
            "bar_color": null,
            "description_width": ""
          }
        },
        "bf49c81d635a4882aef34667aeb4672e": {
          "model_module": "@jupyter-widgets/base",
          "model_name": "LayoutModel",
          "model_module_version": "1.2.0",
          "state": {
            "_model_module": "@jupyter-widgets/base",
            "_model_module_version": "1.2.0",
            "_model_name": "LayoutModel",
            "_view_count": null,
            "_view_module": "@jupyter-widgets/base",
            "_view_module_version": "1.2.0",
            "_view_name": "LayoutView",
            "align_content": null,
            "align_items": null,
            "align_self": null,
            "border": null,
            "bottom": null,
            "display": null,
            "flex": null,
            "flex_flow": null,
            "grid_area": null,
            "grid_auto_columns": null,
            "grid_auto_flow": null,
            "grid_auto_rows": null,
            "grid_column": null,
            "grid_gap": null,
            "grid_row": null,
            "grid_template_areas": null,
            "grid_template_columns": null,
            "grid_template_rows": null,
            "height": null,
            "justify_content": null,
            "justify_items": null,
            "left": null,
            "margin": null,
            "max_height": null,
            "max_width": null,
            "min_height": null,
            "min_width": null,
            "object_fit": null,
            "object_position": null,
            "order": null,
            "overflow": null,
            "overflow_x": null,
            "overflow_y": null,
            "padding": null,
            "right": null,
            "top": null,
            "visibility": null,
            "width": null
          }
        },
        "ee3c6be294eb4c05bf5a8b0aa247c0af": {
          "model_module": "@jupyter-widgets/controls",
          "model_name": "DescriptionStyleModel",
          "model_module_version": "1.5.0",
          "state": {
            "_model_module": "@jupyter-widgets/controls",
            "_model_module_version": "1.5.0",
            "_model_name": "DescriptionStyleModel",
            "_view_count": null,
            "_view_module": "@jupyter-widgets/base",
            "_view_module_version": "1.2.0",
            "_view_name": "StyleView",
            "description_width": ""
          }
        }
      }
    }
  },
  "cells": [
    {
      "cell_type": "markdown",
      "source": [
        " # **Political & Sentiment Classification**\n",
        "\n",
        "---\n",
        "\n",
        "\n",
        " ### Introduction\n",
        " \n",
        "The goal of this notebook is to:\n",
        "1.   Train a model for sentiment analysis based of the title and text description of Youtube videos.\n",
        "2.   Train a model for political classification based of title and text description of Youtube videos\n",
        "3. Apply the models to the concatenation of the textual description and video title to obtain the scores for each label.\n",
        "\n",
        "<br>\n",
        "\n",
        "### Summary\n",
        "\n",
        "Since we are dealing with a NLP problem, we decided to use the pretrained model BERT, more exactly [PolitBERT ](https://huggingface.co/maurice/PolitBERT) (BERT flavour specialized on political speeches, interviews and press briefings of English-speaking politicians), since we only consider videos from News&Politics category.\n",
        "\n",
        "We then fine-tuned the model for our specific task, using various datasets to capture the specificity of what we were looking for.\n",
        "\n",
        "\n",
        "<br>\n",
        "<br>\n",
        "\n",
        "#### **Sentiment Analysis Model**\n",
        "\n",
        "For the Sentiment Analysis Model, we used the \n",
        "[Twitter and Reddit Sentimental analysis Dataset](https://www.kaggle.com/datasets/cosmos98/twitter-and-reddit-sentimental-analysis-dataset), in order to capture how people are talking online.\n",
        "\n",
        "\n",
        "\n",
        "#### **Political Classification**\n",
        "\n",
        "For the Political Classification , we used the \n",
        "[Democrat Vs. Republican Tweets](https://www.kaggle.com/datasets/kapastor/democratvsrepublicantweets), in order to capture how political ideologies and affiliations are expressed online.\n",
        "\n",
        "\n",
        "\n",
        "\n",
        "\n"
      ],
      "metadata": {
        "id": "sETjyximeUAS"
      }
    },
    {
      "cell_type": "markdown",
      "source": [
        "# Imports"
      ],
      "metadata": {
        "id": "XDLhQIf2k7dn"
      }
    },
    {
      "cell_type": "code",
      "source": [
        "!pip install -q transformers\n",
        "import pandas as pd\n",
        "import numpy as np\n",
        "import pickle\n",
        "import matplotlib.pyplot as plt\n",
        "import seaborn as sns\n",
        "import re\n",
        "import copy\n",
        "from tqdm.notebook import tqdm\n",
        "import gc\n",
        "\n",
        "import torch\n",
        "import torch.nn as nn\n",
        "import torch.nn.functional as F\n",
        "from torch import optim\n",
        "from torch.utils.data import Dataset, DataLoader\n",
        "\n",
        "from transformers import (\n",
        "    AutoTokenizer, \n",
        "    AutoModel,\n",
        "    get_linear_schedule_with_warmup\n",
        ")\n",
        "\n",
        "from sklearn.metrics import (\n",
        "    accuracy_score,\n",
        "    f1_score\n",
        ")\n",
        "\n",
        "from sklearn.model_selection import train_test_split\n",
        "\n",
        "from transformers import BertTokenizer"
      ],
      "metadata": {
        "colab": {
          "base_uri": "https://localhost:8080/"
        },
        "id": "_t0sRv_KlNon",
        "outputId": "59ac5bb1-0c04-407b-cac0-e6abd8b4e7fb"
      },
      "execution_count": null,
      "outputs": [
        {
          "output_type": "stream",
          "name": "stdout",
          "text": [
            "\u001b[K     |████████████████████████████████| 5.5 MB 4.3 MB/s \n",
            "\u001b[K     |████████████████████████████████| 7.6 MB 45.7 MB/s \n",
            "\u001b[K     |████████████████████████████████| 182 kB 52.5 MB/s \n",
            "\u001b[?25h"
          ]
        }
      ]
    },
    {
      "cell_type": "markdown",
      "source": [
        "# Preprocess data"
      ],
      "metadata": {
        "id": "kwO3s0BYkjC5"
      }
    },
    {
      "cell_type": "code",
      "source": [
        "from google.colab import drive\n",
        "drive.mount('/content/drive')"
      ],
      "metadata": {
        "id": "l8NYZWqKmN5J"
      },
      "execution_count": null,
      "outputs": []
    },
    {
      "cell_type": "code",
      "source": [
        "# Split the main dataframe into chunks\n",
        "MAIN_FILE_PATH = \"./drive/MyDrive/data/yt_metadata_en.jsonl\"\n",
        "CHUNK_SIZE = 200000\n",
        "chunks = pd.read_json(MAIN_FILE_PATH, lines=True, chunksize = CHUNK_SIZE)\n",
        "NEWS_POLITICS_COLUMN_NAME = 'News & Politics'\n",
        "\n",
        "VIDEOS_NEWS_POLITICS_DIR = \"./drive/MyDrive/data/\"\n",
        "\n",
        "chunk_num = 0\n",
        "CHUNK_NAME = \"yt_videos_data_news_politics_{}.json\"\n",
        "for chunk in chunks:\n",
        "    df = chunk[chunk.categories == NEWS_POLITICS_COLUMN_NAME]\n",
        "    chunk_name = CHUNK_NAME.format(chunk_num)\n",
        "    file_path = os.path.join(VIDEOS_NEWS_POLITICS_DIR, chunk_name)\n",
        "    df.to_json(chunk_name)\n",
        "    chunk_num += 1"
      ],
      "metadata": {
        "id": "34xnVb6Xknaz"
      },
      "execution_count": null,
      "outputs": []
    },
    {
      "cell_type": "markdown",
      "source": [
        "# Process the text"
      ],
      "metadata": {
        "id": "PZ59a3_xBQCe"
      }
    },
    {
      "cell_type": "code",
      "source": [
        "# Pre-process the text.\n",
        "# Remove punctuation marks and trailing spaces from text.\n",
        "def clean_and_parse_text(text):\n",
        "    if type(text) is not str:\n",
        "      text = ''\n",
        "\n",
        "    text = text.split()\n",
        "    text = [x.strip().lower() for x in text]\n",
        "    text = [x.replace('\\n', ' ').replace('\\t', ' ') for x in text]\n",
        "    text = ' '.join(text)\n",
        "    text = re.sub('([.,!?()])', r' \\1 ', text)\n",
        "    return text\n",
        "\n",
        "# Get the text from the dataframe and process it.\n",
        "def get_texts(df):\n",
        "    texts = df.apply(lambda x: clean_and_parse_text(x))\n",
        "    texts = texts.values.tolist()\n",
        "   \n",
        "    return texts"
      ],
      "metadata": {
        "id": "IaQOyDd9BPbM"
      },
      "execution_count": null,
      "outputs": []
    },
    {
      "cell_type": "code",
      "source": [
        "# Define the Data used.\n",
        "class TransformerDataset(Dataset):\n",
        "  def __init__(self, df, labels=None, set_type=None):\n",
        "    super(TransformerDataset, self).__init__()\n",
        "\n",
        "    self.texts = get_texts(df)\n",
        "    \n",
        "    self.set_type = set_type\n",
        "    if self.set_type != 'test':\n",
        "      self.labels = labels\n",
        "    \n",
        "    self.tokenizer = config.TOKENIZER\n",
        "    self.max_length = config.MAX_LENGTH\n",
        "\n",
        "  def __len__(self):\n",
        "      return len(self.texts)\n",
        "    \n",
        "  def __getitem__(self, index):\n",
        "    tokenized = self.tokenizer.encode_plus(\n",
        "        self.texts[index], \n",
        "        max_length=self.max_length,\n",
        "        pad_to_max_length=True,\n",
        "        truncation=True,\n",
        "        return_attention_mask=True,\n",
        "        return_token_type_ids=False,\n",
        "        return_tensors='pt'\n",
        "    )\n",
        "    input_ids = tokenized['input_ids'].squeeze()\n",
        "    attention_mask = tokenized['attention_mask'].squeeze()\n",
        "\n",
        "    # For training, we also need the labels.\n",
        "    if self.set_type != 'test':\n",
        "      return {\n",
        "          'input_ids': input_ids.long(),\n",
        "          'attention_mask': attention_mask.long(),\n",
        "          'labels': torch.Tensor(self.labels[index]),\n",
        "      }\n",
        "\n",
        "    return {\n",
        "        'input_ids': input_ids.long(),\n",
        "        'attention_mask': attention_mask.long(),\n",
        "    }"
      ],
      "metadata": {
        "id": "Md-T8atqQyaB"
      },
      "execution_count": null,
      "outputs": []
    },
    {
      "cell_type": "markdown",
      "source": [
        "# Model Configurations"
      ],
      "metadata": {
        "id": "fealktVZQIfU"
      }
    },
    {
      "cell_type": "code",
      "source": [
        "# Used parameters to train the models.\n",
        "class Config:\n",
        "  def __init__(self):\n",
        "    super(Config, self).__init__()\n",
        "\n",
        "    self.SEED = 42\n",
        "    self.MODEL_PATH = 'maurice/PolitBERT'\n",
        "    self.NUMBER_POLITICAL_PARTIES = 2\n",
        "    self.NUMBER_EMOTIONS = 3\n",
        "\n",
        "    # data\n",
        "    self.TOKENIZER = AutoTokenizer.from_pretrained(self.MODEL_PATH)\n",
        "    self.MAX_LENGTH = 320\n",
        "    self.BATCH_SIZE = 16\n",
        "    self.VALIDATION_SPLIT = 0.25\n",
        "\n",
        "     # model\n",
        "    self.DEVICE = torch.device('cuda' if torch.cuda.is_available() else 'cpu')\n",
        "    self.FULL_FINETUNING = True\n",
        "    self.LR = 3e-5\n",
        "    self.OPTIMIZER = 'AdamW'\n",
        "    self.CRITERION = 'BCEWithLogitsLoss'\n",
        "    self.N_VALIDATE_DUR_TRAIN = 3\n",
        "    self.N_WARMUP = 0\n",
        "    self.SAVE_BEST_ONLY = True\n",
        "    self.EPOCHS = 50\n",
        "\n",
        "config = Config()"
      ],
      "metadata": {
        "colab": {
          "base_uri": "https://localhost:8080/",
          "height": 389,
          "referenced_widgets": [
            "7fa7fe61228e4869b6c7eb84cab6f818",
            "eef80e05fdfd4a9c80bfe3bf2c10e46b",
            "a5ea87ab703c4222808f1b531f95bbaf",
            "8ca0043a6c0640878950e17195c53bd6",
            "4af01333758849dc91c48d6022af5393",
            "c4a0055479584ccea80c40743029d54d",
            "93e55affebba4d39b890a2fc894ffaeb",
            "ce8fb04e44da4992a94057a00dd037f4",
            "5709f15ac35746119ac059871d481f25",
            "0567788b38814cfa94683b9c4d6c6d7e",
            "b7950cd4c52044bfbda999bce582868b",
            "a8faec6d0ffa4d658cea9d1f62aa7548",
            "9f7828d7cc674464975bfceec57b90f4",
            "17aea3f593544d87893c0fc08c862d2d",
            "fe0bb823e7c1475393ff9f91ede33194",
            "83f2573c79e24d73a908b631b300284a",
            "330350d836d34ae8a00b0f20b0f0616d",
            "e625f791e5b648aeb5860f81519453f1",
            "fdef2a0c437b4ab2a70718198163b905",
            "47c65f7e60a14bcf985ffd2b76b3547a",
            "2f89f13d94214a9f8ed77823c757ef2e",
            "965e3eaf054741abae463ec3b70d93ad",
            "82c24e85a1364d6fa2a6e35ff7c07e85",
            "212156a57c544b11951606f858f496b4",
            "5991ba928c944db08b05dd7821c2ae87",
            "7133dd94b12144198553f3e22904fef4",
            "8cd14e615174412daaf368ac50741722",
            "efa6db1b7cb6483cb33fc5ef53e7bb1b",
            "77ca98484f0c4e3286e352aa6e109880",
            "aca0b68e42a648e98d9a75d615e06798",
            "e9dad80f60514b5490a9e8ca2c1cb12e",
            "8ddea4639e094ba5ad42dc1ef7a7815f",
            "cb1130acfa274e5d80227d66accc2695",
            "33e66e5e750d4838b1e845a171779f13",
            "ce0da5f8514d44e59e5d83d52ec6d39e",
            "aac92405e93b476bb9c55d6fb57e092e",
            "50268b3a229248638c21c822d32d4aa7",
            "9f8111ee96a04f2d9d4b2c9ffa3ac7d2",
            "38bb650d589d4f29978bc7734c96198f",
            "201471025227416e868b2ad302ce9e21",
            "b1571f5faad64851843bf154dceb915f",
            "1f7484d01b3e43b18c9e178c2cc95613",
            "bf49c81d635a4882aef34667aeb4672e",
            "ee3c6be294eb4c05bf5a8b0aa247c0af"
          ]
        },
        "id": "H8qJkJ2cQNJ0",
        "outputId": "d8be07ae-7532-4a47-fd22-89ae6623ed7c"
      },
      "execution_count": null,
      "outputs": [
        {
          "output_type": "display_data",
          "data": {
            "text/plain": [
              "Downloading:   0%|          | 0.00/174 [00:00<?, ?B/s]"
            ],
            "application/vnd.jupyter.widget-view+json": {
              "version_major": 2,
              "version_minor": 0,
              "model_id": "7fa7fe61228e4869b6c7eb84cab6f818"
            }
          },
          "metadata": {}
        },
        {
          "output_type": "display_data",
          "data": {
            "text/plain": [
              "Downloading:   0%|          | 0.00/508 [00:00<?, ?B/s]"
            ],
            "application/vnd.jupyter.widget-view+json": {
              "version_major": 2,
              "version_minor": 0,
              "model_id": "a8faec6d0ffa4d658cea9d1f62aa7548"
            }
          },
          "metadata": {}
        },
        {
          "output_type": "display_data",
          "data": {
            "text/plain": [
              "Downloading:   0%|          | 0.00/232k [00:00<?, ?B/s]"
            ],
            "application/vnd.jupyter.widget-view+json": {
              "version_major": 2,
              "version_minor": 0,
              "model_id": "82c24e85a1364d6fa2a6e35ff7c07e85"
            }
          },
          "metadata": {}
        },
        {
          "output_type": "display_data",
          "data": {
            "text/plain": [
              "Downloading:   0%|          | 0.00/112 [00:00<?, ?B/s]"
            ],
            "application/vnd.jupyter.widget-view+json": {
              "version_major": 2,
              "version_minor": 0,
              "model_id": "33e66e5e750d4838b1e845a171779f13"
            }
          },
          "metadata": {}
        }
      ]
    },
    {
      "cell_type": "markdown",
      "source": [
        "# Define the generic model"
      ],
      "metadata": {
        "id": "agDzBa8ObT_3"
      }
    },
    {
      "cell_type": "code",
      "source": [
        "# Define the layers of the model. \n",
        "class TransformerModel(nn.Module):\n",
        "  def __init__(self, transformer_model: AutoModel, classes: int):\n",
        "    super(TransformerModel, self).__init__()\n",
        "    self.transformer = transformer_model\n",
        "    self.output = nn.Linear(768, classes)\n",
        "\n",
        "  def forward(self, input_ids, attention_mask=None, token_type_ids=None):\n",
        "    _, o2 = self.transformer(\n",
        "      input_ids=input_ids,\n",
        "      attention_mask=attention_mask,\n",
        "      token_type_ids=token_type_ids,\n",
        "      return_dict=False\n",
        "    )\n",
        "    x = self.output(o2)\n",
        "\n",
        "    return x"
      ],
      "metadata": {
        "id": "4U9lT5z2cdRg"
      },
      "execution_count": null,
      "outputs": []
    },
    {
      "cell_type": "markdown",
      "source": [
        "# Generic functions for training the model"
      ],
      "metadata": {
        "id": "mOfnwMRMh1Z8"
      }
    },
    {
      "cell_type": "code",
      "source": [
        "device = config.DEVICE\n",
        "device"
      ],
      "metadata": {
        "colab": {
          "base_uri": "https://localhost:8080/"
        },
        "id": "Qp7Ij9fnhkGW",
        "outputId": "ffb344a7-210c-4325-fb77-2ad84d289426"
      },
      "execution_count": null,
      "outputs": [
        {
          "output_type": "execute_result",
          "data": {
            "text/plain": [
              "device(type='cpu')"
            ]
          },
          "metadata": {},
          "execution_count": 6
        }
      ]
    },
    {
      "cell_type": "code",
      "source": [
        "# Evaluate the current model\n",
        "def val(model, val_dataloader, criterion):\n",
        "    \n",
        "    val_loss = 0\n",
        "    true, pred = [], []\n",
        "    \n",
        "    # Set model.eval() every time during evaluation\n",
        "    model.eval()\n",
        "    \n",
        "    for step, batch in enumerate(val_dataloader):\n",
        "        # Unpack the batch contents and push them to the device (cuda or cpu).\n",
        "        b_input_ids = batch['input_ids'].to(device)\n",
        "        b_attention_mask = batch['attention_mask'].to(device)\n",
        "        b_labels = batch['labels'].to(device)\n",
        "\n",
        "        # Using torch.no_grad() during validation/inference is faster \n",
        "        # since it does not update gradients.\n",
        "        with torch.no_grad():\n",
        "            # Forward pass\n",
        "            logits = model(input_ids=b_input_ids, attention_mask=b_attention_mask)\n",
        "            \n",
        "            # Calculate loss\n",
        "            loss = criterion(logits, b_labels)\n",
        "            val_loss += loss.item()\n",
        "             \n",
        "            # Since we're using BCEWithLogitsLoss, to get the predictions \n",
        "            # sigmoid has to be applied on the logits first\n",
        "            logits = torch.sigmoid(logits)\n",
        "            \n",
        "            logits = np.round(logits.cpu().numpy())\n",
        "            \n",
        "            labels = b_labels.cpu().numpy()\n",
        "            \n",
        "            # The tensors are detached from the gpu and put back on \n",
        "            # the cpu, and then converted to numpy in order to \n",
        "            # use sklearn's metrics.\n",
        "            pred.extend(logits)\n",
        "            true.extend(labels)\n",
        "\n",
        "    avg_val_loss = val_loss / len(val_dataloader)\n",
        "    print('Eval Val loss:', avg_val_loss)\n",
        "    print('Eval Val accuracy:', accuracy_score(true, pred))\n",
        "    \n",
        "    \n",
        "    val_micro_f1_score = f1_score(true, pred, average='micro')\n",
        "    print('Eval Val micro f1 score:', val_micro_f1_score)\n",
        "    return val_micro_f1_score\n",
        "\n",
        "def train(model, train_dataloader, val_dataloader, criterion, optimizer, scheduler, epoch):\n",
        "    \n",
        "    # Validate config.N_VALIDATE_DUR_TRAIN times during the training loop\n",
        "    nv = config.N_VALIDATE_DUR_TRAIN\n",
        "    temp = len(train_dataloader) // nv\n",
        "    \n",
        "    if temp > 100:\n",
        "      temp = temp - (temp % 100)\n",
        "    validate_at_steps = [temp * x for x in range(1, nv + 1)]\n",
        "    \n",
        "    train_loss = 0\n",
        "    for step, batch in enumerate(tqdm(train_dataloader, \n",
        "                                      desc='Epoch ' + str(epoch))):\n",
        "        # Set model.eval() every time during training\n",
        "        model.train()\n",
        "        \n",
        "        # Unpack the batch contents and push them to the device (cuda or cpu).\n",
        "        b_input_ids = batch['input_ids'].to(device)\n",
        "        b_attention_mask = batch['attention_mask'].to(device)\n",
        "        b_labels = batch['labels'].to(device)\n",
        "\n",
        "        # Clear accumulated gradients\n",
        "        optimizer.zero_grad()\n",
        "\n",
        "        # Forward pass\n",
        "        logits = model(input_ids=b_input_ids, attention_mask=b_attention_mask)\n",
        "        \n",
        "        # Calculate loss\n",
        "        loss = criterion(logits, b_labels)\n",
        "        train_loss += loss.item()\n",
        "\n",
        "        # Backward pass\n",
        "        loss.backward()\n",
        "\n",
        "        # Update weights\n",
        "        optimizer.step()\n",
        "        \n",
        "        # Update scheduler\n",
        "        scheduler.step()\n",
        "\n",
        "        if step in validate_at_steps:\n",
        "            print(f'-- Step: {step}')\n",
        "            _ = val(model, val_dataloader, criterion)\n",
        "    \n",
        "    avg_train_loss = train_loss / len(train_dataloader)\n",
        "    print('Training loss:', avg_train_loss)\n"
      ],
      "metadata": {
        "id": "_58dBizZhe1J"
      },
      "execution_count": null,
      "outputs": []
    },
    {
      "cell_type": "code",
      "source": [
        "def run(model, train_dataloader, val_dataloader, model_name):\n",
        "    # Setting a seed ensures reproducible results.\n",
        "    # Seed may affect the performance too.\n",
        "    torch.manual_seed(config.SEED)\n",
        "\n",
        "    criterion = nn.BCEWithLogitsLoss()\n",
        "    \n",
        "    # Define the parameters to be optmized \n",
        "    # and add regularization\n",
        "    if config.FULL_FINETUNING:\n",
        "        param_optimizer = list(model.named_parameters())\n",
        "        no_decay = [\"bias\", \"LayerNorm.bias\", \"LayerNorm.weight\"]\n",
        "        optimizer_parameters = [\n",
        "            {\n",
        "                \"params\": [\n",
        "                    p for n, p in param_optimizer if not any(nd in n for nd in no_decay)\n",
        "                ],\n",
        "                \"weight_decay\": 0.001,\n",
        "            },\n",
        "            {\n",
        "                \"params\": [\n",
        "                    p for n, p in param_optimizer if any(nd in n for nd in no_decay)\n",
        "                ],\n",
        "                \"weight_decay\": 0.0,\n",
        "            },\n",
        "        ]\n",
        "        optimizer = optim.AdamW(optimizer_parameters, lr=config.LR)\n",
        "    \n",
        "    num_training_steps = len(train_dataloader) * config.EPOCHS\n",
        "    scheduler = get_linear_schedule_with_warmup(\n",
        "        optimizer,\n",
        "        num_warmup_steps=0,\n",
        "        num_training_steps=num_training_steps\n",
        "    )\n",
        "    \n",
        "    max_val_micro_f1_score = float('-inf')\n",
        "    for epoch in range(config.EPOCHS):\n",
        "        train(model, train_dataloader, val_dataloader, criterion, optimizer, scheduler, epoch)\n",
        "        val_micro_f1_score = val(model, val_dataloader, criterion)\n",
        "        print(\"Epoch \" + str(epoch) + \"/\" + str(config.EPOCHS) + \": F1 Score \" + str(val_micro_f1_score))\n",
        "        if config.SAVE_BEST_ONLY:\n",
        "            if val_micro_f1_score > max_val_micro_f1_score:\n",
        "                best_model = copy.deepcopy(model)\n",
        "                best_val_micro_f1_score = val_micro_f1_score\n",
        "\n",
        "                torch.save(best_model.state_dict(), model_name + '.pt')\n",
        "\n",
        "                print(f'--- Best Model. Val loss: {max_val_micro_f1_score} -> {val_micro_f1_score}')\n",
        "                max_val_micro_f1_score = val_micro_f1_score\n",
        "\n",
        "    return best_model, best_val_micro_f1_score\n"
      ],
      "metadata": {
        "id": "C58U9iPLiCfi"
      },
      "execution_count": null,
      "outputs": []
    },
    {
      "cell_type": "markdown",
      "source": [
        "# Sentiment Analysis"
      ],
      "metadata": {
        "id": "MqiXRG40gos1"
      }
    },
    {
      "cell_type": "markdown",
      "source": [
        "## Get the training data"
      ],
      "metadata": {
        "id": "RGa_leBwjPW0"
      }
    },
    {
      "cell_type": "code",
      "source": [
        "df = pd.read_csv(\"Reddit_Data.csv\")\n",
        "X_sent = df['clean_comment']\n",
        "y_sent = pd.DataFrame(df['category'])"
      ],
      "metadata": {
        "id": "A4mJ6CGDjRps"
      },
      "execution_count": null,
      "outputs": []
    },
    {
      "cell_type": "markdown",
      "source": [
        "## Pre-process the training data"
      ],
      "metadata": {
        "id": "iIomnikdjaEw"
      }
    },
    {
      "cell_type": "code",
      "source": [
        "# Create a column for each sentiment. \n",
        "# Each snetiment will be mapped for an individual node in the final layer.\n",
        "y_sent['-1'] = int(y_sent['category'] == -1)\n",
        "y_sent['0'] = int(y_sent['category'] == 0)\n",
        "y_sent['1'] = int(y_sent['category'] == 1)\n",
        "y_sent = y_sent.drop('category', axis = 1)"
      ],
      "metadata": {
        "id": "YkE5tbpAjOjz"
      },
      "execution_count": null,
      "outputs": []
    },
    {
      "cell_type": "markdown",
      "source": [
        "## Split dataset into train and test"
      ],
      "metadata": {
        "id": "uYvyQLYkjq8b"
      }
    },
    {
      "cell_type": "code",
      "source": [
        "X_train_sent, X_test_sent, y_train_sent, y_test_sent = train_test_split(X_sent, y_sent, test_size=0.2, random_state=42)"
      ],
      "metadata": {
        "id": "FWj12uJAjtjI"
      },
      "execution_count": null,
      "outputs": []
    },
    {
      "cell_type": "markdown",
      "source": [
        "## Train the model"
      ],
      "metadata": {
        "id": "UPjhEtrMj0k7"
      }
    },
    {
      "cell_type": "code",
      "source": [
        "transformer_weights = AutoModel.from_pretrained(\n",
        "  config.MODEL_PATH\n",
        ")\n",
        "sentiment_analysis = TransformerModel(transformer_weights, config.NUMBER_EMOTIONS)"
      ],
      "metadata": {
        "id": "RStO__IkgrJh"
      },
      "execution_count": null,
      "outputs": []
    },
    {
      "cell_type": "code",
      "source": [
        "# Run the model on GPU\n",
        "sentiment_analysis.to(device);"
      ],
      "metadata": {
        "id": "UKF80i2YjtqX"
      },
      "execution_count": null,
      "outputs": []
    },
    {
      "cell_type": "code",
      "execution_count": null,
      "metadata": {
        "colab": {
          "base_uri": "https://localhost:8080/",
          "height": 1000,
          "referenced_widgets": [
            "22dfb1d8f7ef4466a77f54f8f38d2cc9",
            "3d64e1e0fe3141caae1e80a3cb643d3b",
            "7cb63aa595f64034b14fb4927422ff6e",
            "b486e8c7b0674d69a168300605e3a658",
            "409d78f3b63b42168a1d50b2bfa4640e",
            "6833a7c23c27471ebaa011f082642170",
            "e5f59d6a10d24e4d8a446fce64a03ef7",
            "6996d56957b346198f2869ae93a5f791",
            "1ad72a678b8d47a68fd1cdb44df5c40d",
            "63f683c3fc7a494b975b00292079219f",
            "66e3c27614a847a593ff585bf147922f",
            "a0c8c818e6ca48cc89faf9abd1c38d2a",
            "b58046bb88f34bef9f54b663dce57b44",
            "8db16d17c513499fabe24ded8971f37e",
            "d5ed63ba6c4c4487b56647d9171cd712",
            "f4e35d60729f4a2b8f09e1483d3f19e1",
            "95873e81b4d147f1b084d5bf4db10ae0",
            "78f8e0f4ebe349b7b764f503b8c38db7",
            "552d2e20df134215af2575d4d59e80cd",
            "8ce470b368a04cefb501a52dc5359499",
            "aea32e95b3d54d4b8be380c8f130e4fa",
            "4b2db8848a354e8394240f15cf56b8f0",
            "72099dc3a5734858bd059f0706bedda8",
            "a5233240c32e43f09b088c9afe74ca15",
            "b2c906b2cf804434a29a7a1945edbdb0",
            "478116386c664f28867541d08231e2f1",
            "e2a2a71d2fd44ae9a6f7d5f70495af67",
            "e7ee0d01fa374dafac133dcf3f68ce84",
            "32807cf6247a45bf9dd51218f8ddcf5a",
            "17cb42d23e8b4c8d87dbb113e2cf229f",
            "7044d5fd67c847c5937bfb1db77c5711",
            "b134e8555cc6407db97d6ca9172e07ab",
            "b1271f7714824e60817652a9ce12479e",
            "78b72b59325d46d1bbe4b4538b1413ce",
            "c072d3d8ffb442af843d63368ecc3749",
            "1c6cb3d78fe84cd1a5f2f2858f4aa166",
            "f9d15ae5ac94431883ea916ae7df2327",
            "ffce979329cc4ff3ab9e9eb6a6b93360",
            "42949ee1e02e44e29c66411b7f9c4eb1",
            "d21c7e0fe5404b058d46bb38d13d6aea",
            "f82f8efdce2a4d1d9cc14f24d6b691a1",
            "86e194e0059744e6890f7b4ce0fa8adc",
            "db7572a551c24346adddbfa83527fe4c",
            "7b1be5314b254f20948b5017a282b4aa",
            "2ffd7394bf5d417584f59a4da689841c",
            "43067b34bfac43c0ad4f1bf6ff6029a7",
            "4642d36697a34a818289ff2b3c372be0",
            "b61f926e1afe4946a2c1b680fb2ccfb5",
            "81d991c42dbf4e6f977124ef237ddc8c",
            "26e83afb3fa14e45ae375c2a1cd83636",
            "0efb11f2a71f4ef2a7e13555950df2c2",
            "f3070c30a880498e93a00744392c7de8",
            "d1bc2db3d20f4d8ea04896b361914711",
            "d471c356831f47f888c580653c83bc7c",
            "17ecbdfefc324b74a0049a26d5c0e077",
            "1d9cabfbf05845edb0fa449332735433",
            "3533a9349b264399bbe75c415ead24df",
            "54aa366bf89d4ed5abaf355e7e3861d7",
            "6c00194a67eb4f6a91a639fef41b10f5",
            "d769aa61f8cb404ebbe2be0647dc3926",
            "67aaa63274554f62bcf861d2ef8a0857",
            "c5f4ccf4e4204b54a822db783ef07480",
            "e8d6d2e9edc347be8a2444ffa70cc023",
            "049162e0b05c4314afa0a92321b674e1",
            "c902a5a6aba449149524acafda5e79b1",
            "7a84627e44e340949e5f040e82101ddb",
            "72671dd83c1c4e34945ee6fed2d8ea99",
            "7accb31ea2624626ab632f0f88eeb437",
            "3de7577819f1437e9ee31e3f3ce21cca",
            "31cbf0cfe68a4e46ae02208125031343",
            "b8d099716406423bb8e4dd4595ffb82a",
            "760e1a98470740779c06c904059a02fa",
            "0771e87b8f604f9b98c1dd5324f8fdd9",
            "f1182ac3dafa4931b132aadc68023fa4",
            "d52f3fc5c9ae4733accb96272664fa05",
            "2086a300a0d64a1f883d390e236d6a61",
            "b57c879bcfb94822bf5decda7c9282c3",
            "1a29acb0b770492094f985091b1e0b5e",
            "67c5bd845c844d168abf1fb48502ddb5",
            "53dcb0c1c74442efa32840a2a5052e44"
          ]
        },
        "id": "h35AIpLG2gd1",
        "outputId": "8e0edbe3-b565-43f3-a7c9-371675f78681"
      },
      "outputs": [
        {
          "name": "stderr",
          "output_type": "stream",
          "text": [
            "/usr/local/lib/python3.7/dist-packages/ipykernel_launcher.py:1: DeprecationWarning: `np.float` is a deprecated alias for the builtin `float`. To silence this warning, use `float` by itself. Doing this will not modify any behavior and is safe. If you specifically wanted the numpy scalar type, use `np.float64` here.\n",
            "Deprecated in NumPy 1.20; for more details and guidance: https://numpy.org/devdocs/release/1.20.0-notes.html#deprecations\n",
            "  \"\"\"Entry point for launching an IPython kernel.\n",
            "/usr/local/lib/python3.7/dist-packages/ipykernel_launcher.py:2: DeprecationWarning: `np.float` is a deprecated alias for the builtin `float`. To silence this warning, use `float` by itself. Doing this will not modify any behavior and is safe. If you specifically wanted the numpy scalar type, use `np.float64` here.\n",
            "Deprecated in NumPy 1.20; for more details and guidance: https://numpy.org/devdocs/release/1.20.0-notes.html#deprecations\n",
            "  \n"
          ]
        },
        {
          "data": {
            "application/vnd.jupyter.widget-view+json": {
              "model_id": "22dfb1d8f7ef4466a77f54f8f38d2cc9",
              "version_major": 2,
              "version_minor": 0
            },
            "text/plain": [
              "Epoch 0:   0%|          | 0/1863 [00:00<?, ?it/s]"
            ]
          },
          "metadata": {},
          "output_type": "display_data"
        },
        {
          "name": "stderr",
          "output_type": "stream",
          "text": [
            "/usr/local/lib/python3.7/dist-packages/transformers/tokenization_utils_base.py:2310: FutureWarning: The `pad_to_max_length` argument is deprecated and will be removed in a future version, use `padding=True` or `padding='longest'` to pad to the longest sequence in the batch, or use `padding='max_length'` to pad to a max length. In this case, you can give a specific length with `max_length` (e.g. `max_length=45`) or leave max_length to None to pad to the maximal input size of the model (e.g. 512 for Bert).\n",
            "  FutureWarning,\n"
          ]
        },
        {
          "name": "stdout",
          "output_type": "stream",
          "text": [
            "-- Step: 600\n",
            "Eval Val loss: 0.25957285150757675\n",
            "Eval Val accuracy: 0.8276510067114093\n",
            "Eval Val micro f1 score: 0.8487958401751506\n"
          ]
        },
        {
          "name": "stderr",
          "output_type": "stream",
          "text": [
            "/usr/local/lib/python3.7/dist-packages/transformers/tokenization_utils_base.py:2310: FutureWarning: The `pad_to_max_length` argument is deprecated and will be removed in a future version, use `padding=True` or `padding='longest'` to pad to the longest sequence in the batch, or use `padding='max_length'` to pad to a max length. In this case, you can give a specific length with `max_length` (e.g. `max_length=45`) or leave max_length to None to pad to the maximal input size of the model (e.g. 512 for Bert).\n",
            "  FutureWarning,\n"
          ]
        },
        {
          "name": "stdout",
          "output_type": "stream",
          "text": [
            "-- Step: 1200\n",
            "Eval Val loss: 0.18081660813536063\n",
            "Eval Val accuracy: 0.8981208053691275\n",
            "Eval Val micro f1 score: 0.9037656903765691\n"
          ]
        },
        {
          "name": "stderr",
          "output_type": "stream",
          "text": [
            "/usr/local/lib/python3.7/dist-packages/transformers/tokenization_utils_base.py:2310: FutureWarning: The `pad_to_max_length` argument is deprecated and will be removed in a future version, use `padding=True` or `padding='longest'` to pad to the longest sequence in the batch, or use `padding='max_length'` to pad to a max length. In this case, you can give a specific length with `max_length` (e.g. `max_length=45`) or leave max_length to None to pad to the maximal input size of the model (e.g. 512 for Bert).\n",
            "  FutureWarning,\n"
          ]
        },
        {
          "name": "stdout",
          "output_type": "stream",
          "text": [
            "-- Step: 1800\n",
            "Eval Val loss: 0.14386240484057067\n",
            "Eval Val accuracy: 0.9178523489932886\n",
            "Eval Val micro f1 score: 0.9239773950484391\n"
          ]
        },
        {
          "name": "stderr",
          "output_type": "stream",
          "text": [
            "/usr/local/lib/python3.7/dist-packages/transformers/tokenization_utils_base.py:2310: FutureWarning: The `pad_to_max_length` argument is deprecated and will be removed in a future version, use `padding=True` or `padding='longest'` to pad to the longest sequence in the batch, or use `padding='max_length'` to pad to a max length. In this case, you can give a specific length with `max_length` (e.g. `max_length=45`) or leave max_length to None to pad to the maximal input size of the model (e.g. 512 for Bert).\n",
            "  FutureWarning,\n"
          ]
        },
        {
          "name": "stdout",
          "output_type": "stream",
          "text": [
            "Training loss: 0.25981179659389325\n",
            "Eval Val loss: 0.14748089009887927\n",
            "Eval Val accuracy: 0.9118120805369128\n",
            "Eval Val micro f1 score: 0.9203825946382863\n",
            "Epoch 0/50: F1 Score 0.9203825946382863\n",
            "--- Best Model. Val loss: -inf -> 0.9203825946382863\n"
          ]
        },
        {
          "data": {
            "application/vnd.jupyter.widget-view+json": {
              "model_id": "a0c8c818e6ca48cc89faf9abd1c38d2a",
              "version_major": 2,
              "version_minor": 0
            },
            "text/plain": [
              "Epoch 1:   0%|          | 0/1863 [00:00<?, ?it/s]"
            ]
          },
          "metadata": {},
          "output_type": "display_data"
        },
        {
          "name": "stderr",
          "output_type": "stream",
          "text": [
            "/usr/local/lib/python3.7/dist-packages/transformers/tokenization_utils_base.py:2310: FutureWarning: The `pad_to_max_length` argument is deprecated and will be removed in a future version, use `padding=True` or `padding='longest'` to pad to the longest sequence in the batch, or use `padding='max_length'` to pad to a max length. In this case, you can give a specific length with `max_length` (e.g. `max_length=45`) or leave max_length to None to pad to the maximal input size of the model (e.g. 512 for Bert).\n",
            "  FutureWarning,\n"
          ]
        },
        {
          "name": "stdout",
          "output_type": "stream",
          "text": [
            "-- Step: 600\n",
            "Eval Val loss: 0.13027490015829166\n",
            "Eval Val accuracy: 0.9284563758389262\n",
            "Eval Val micro f1 score: 0.933144628656153\n"
          ]
        },
        {
          "name": "stderr",
          "output_type": "stream",
          "text": [
            "/usr/local/lib/python3.7/dist-packages/transformers/tokenization_utils_base.py:2310: FutureWarning: The `pad_to_max_length` argument is deprecated and will be removed in a future version, use `padding=True` or `padding='longest'` to pad to the longest sequence in the batch, or use `padding='max_length'` to pad to a max length. In this case, you can give a specific length with `max_length` (e.g. `max_length=45`) or leave max_length to None to pad to the maximal input size of the model (e.g. 512 for Bert).\n",
            "  FutureWarning,\n"
          ]
        },
        {
          "name": "stdout",
          "output_type": "stream",
          "text": [
            "-- Step: 1200\n",
            "Eval Val loss: 0.1305654987666852\n",
            "Eval Val accuracy: 0.9256375838926174\n",
            "Eval Val micro f1 score: 0.9312340196474229\n"
          ]
        },
        {
          "name": "stderr",
          "output_type": "stream",
          "text": [
            "/usr/local/lib/python3.7/dist-packages/transformers/tokenization_utils_base.py:2310: FutureWarning: The `pad_to_max_length` argument is deprecated and will be removed in a future version, use `padding=True` or `padding='longest'` to pad to the longest sequence in the batch, or use `padding='max_length'` to pad to a max length. In this case, you can give a specific length with `max_length` (e.g. `max_length=45`) or leave max_length to None to pad to the maximal input size of the model (e.g. 512 for Bert).\n",
            "  FutureWarning,\n"
          ]
        },
        {
          "name": "stdout",
          "output_type": "stream",
          "text": [
            "-- Step: 1800\n",
            "Eval Val loss: 0.11681494832512535\n",
            "Eval Val accuracy: 0.9414765100671141\n",
            "Eval Val micro f1 score: 0.9442019740817833\n"
          ]
        },
        {
          "name": "stderr",
          "output_type": "stream",
          "text": [
            "/usr/local/lib/python3.7/dist-packages/transformers/tokenization_utils_base.py:2310: FutureWarning: The `pad_to_max_length` argument is deprecated and will be removed in a future version, use `padding=True` or `padding='longest'` to pad to the longest sequence in the batch, or use `padding='max_length'` to pad to a max length. In this case, you can give a specific length with `max_length` (e.g. `max_length=45`) or leave max_length to None to pad to the maximal input size of the model (e.g. 512 for Bert).\n",
            "  FutureWarning,\n"
          ]
        },
        {
          "name": "stdout",
          "output_type": "stream",
          "text": [
            "Training loss: 0.10067012763151752\n",
            "Eval Val loss: 0.13876793341553278\n",
            "Eval Val accuracy: 0.933020134228188\n",
            "Eval Val micro f1 score: 0.9359586049324643\n",
            "Epoch 1/50: F1 Score 0.9359586049324643\n",
            "--- Best Model. Val loss: 0.9203825946382863 -> 0.9359586049324643\n"
          ]
        },
        {
          "data": {
            "application/vnd.jupyter.widget-view+json": {
              "model_id": "72099dc3a5734858bd059f0706bedda8",
              "version_major": 2,
              "version_minor": 0
            },
            "text/plain": [
              "Epoch 2:   0%|          | 0/1863 [00:00<?, ?it/s]"
            ]
          },
          "metadata": {},
          "output_type": "display_data"
        },
        {
          "name": "stderr",
          "output_type": "stream",
          "text": [
            "/usr/local/lib/python3.7/dist-packages/transformers/tokenization_utils_base.py:2310: FutureWarning: The `pad_to_max_length` argument is deprecated and will be removed in a future version, use `padding=True` or `padding='longest'` to pad to the longest sequence in the batch, or use `padding='max_length'` to pad to a max length. In this case, you can give a specific length with `max_length` (e.g. `max_length=45`) or leave max_length to None to pad to the maximal input size of the model (e.g. 512 for Bert).\n",
            "  FutureWarning,\n"
          ]
        },
        {
          "name": "stdout",
          "output_type": "stream",
          "text": [
            "-- Step: 600\n",
            "Eval Val loss: 0.12654743053652587\n",
            "Eval Val accuracy: 0.9394630872483222\n",
            "Eval Val micro f1 score: 0.9429877638832863\n"
          ]
        },
        {
          "name": "stderr",
          "output_type": "stream",
          "text": [
            "/usr/local/lib/python3.7/dist-packages/transformers/tokenization_utils_base.py:2310: FutureWarning: The `pad_to_max_length` argument is deprecated and will be removed in a future version, use `padding=True` or `padding='longest'` to pad to the longest sequence in the batch, or use `padding='max_length'` to pad to a max length. In this case, you can give a specific length with `max_length` (e.g. `max_length=45`) or leave max_length to None to pad to the maximal input size of the model (e.g. 512 for Bert).\n",
            "  FutureWarning,\n"
          ]
        },
        {
          "name": "stdout",
          "output_type": "stream",
          "text": [
            "-- Step: 1200\n",
            "Eval Val loss: 0.12908332972975184\n",
            "Eval Val accuracy: 0.9350335570469799\n",
            "Eval Val micro f1 score: 0.9380198551113497\n"
          ]
        },
        {
          "name": "stderr",
          "output_type": "stream",
          "text": [
            "/usr/local/lib/python3.7/dist-packages/transformers/tokenization_utils_base.py:2310: FutureWarning: The `pad_to_max_length` argument is deprecated and will be removed in a future version, use `padding=True` or `padding='longest'` to pad to the longest sequence in the batch, or use `padding='max_length'` to pad to a max length. In this case, you can give a specific length with `max_length` (e.g. `max_length=45`) or leave max_length to None to pad to the maximal input size of the model (e.g. 512 for Bert).\n",
            "  FutureWarning,\n"
          ]
        },
        {
          "name": "stdout",
          "output_type": "stream",
          "text": [
            "-- Step: 1800\n",
            "Eval Val loss: 0.13774068814816248\n",
            "Eval Val accuracy: 0.936510067114094\n",
            "Eval Val micro f1 score: 0.93906858139847\n"
          ]
        },
        {
          "name": "stderr",
          "output_type": "stream",
          "text": [
            "/usr/local/lib/python3.7/dist-packages/transformers/tokenization_utils_base.py:2310: FutureWarning: The `pad_to_max_length` argument is deprecated and will be removed in a future version, use `padding=True` or `padding='longest'` to pad to the longest sequence in the batch, or use `padding='max_length'` to pad to a max length. In this case, you can give a specific length with `max_length` (e.g. `max_length=45`) or leave max_length to None to pad to the maximal input size of the model (e.g. 512 for Bert).\n",
            "  FutureWarning,\n"
          ]
        },
        {
          "name": "stdout",
          "output_type": "stream",
          "text": [
            "Training loss: 0.06113789031985433\n",
            "Eval Val loss: 0.13144704160833123\n",
            "Eval Val accuracy: 0.9395973154362416\n",
            "Eval Val micro f1 score: 0.9425811644754494\n",
            "Epoch 2/50: F1 Score 0.9425811644754494\n",
            "--- Best Model. Val loss: 0.9359586049324643 -> 0.9425811644754494\n"
          ]
        },
        {
          "data": {
            "application/vnd.jupyter.widget-view+json": {
              "model_id": "78b72b59325d46d1bbe4b4538b1413ce",
              "version_major": 2,
              "version_minor": 0
            },
            "text/plain": [
              "Epoch 3:   0%|          | 0/1863 [00:00<?, ?it/s]"
            ]
          },
          "metadata": {},
          "output_type": "display_data"
        },
        {
          "name": "stderr",
          "output_type": "stream",
          "text": [
            "/usr/local/lib/python3.7/dist-packages/transformers/tokenization_utils_base.py:2310: FutureWarning: The `pad_to_max_length` argument is deprecated and will be removed in a future version, use `padding=True` or `padding='longest'` to pad to the longest sequence in the batch, or use `padding='max_length'` to pad to a max length. In this case, you can give a specific length with `max_length` (e.g. `max_length=45`) or leave max_length to None to pad to the maximal input size of the model (e.g. 512 for Bert).\n",
            "  FutureWarning,\n"
          ]
        },
        {
          "name": "stdout",
          "output_type": "stream",
          "text": [
            "-- Step: 600\n",
            "Eval Val loss: 0.14087343183266152\n",
            "Eval Val accuracy: 0.9404026845637584\n",
            "Eval Val micro f1 score: 0.9434595756110664\n"
          ]
        },
        {
          "name": "stderr",
          "output_type": "stream",
          "text": [
            "/usr/local/lib/python3.7/dist-packages/transformers/tokenization_utils_base.py:2310: FutureWarning: The `pad_to_max_length` argument is deprecated and will be removed in a future version, use `padding=True` or `padding='longest'` to pad to the longest sequence in the batch, or use `padding='max_length'` to pad to a max length. In this case, you can give a specific length with `max_length` (e.g. `max_length=45`) or leave max_length to None to pad to the maximal input size of the model (e.g. 512 for Bert).\n",
            "  FutureWarning,\n"
          ]
        },
        {
          "name": "stdout",
          "output_type": "stream",
          "text": [
            "-- Step: 1200\n",
            "Eval Val loss: 0.14586633916713435\n",
            "Eval Val accuracy: 0.9363758389261745\n",
            "Eval Val micro f1 score: 0.9394285714285715\n"
          ]
        },
        {
          "name": "stderr",
          "output_type": "stream",
          "text": [
            "/usr/local/lib/python3.7/dist-packages/transformers/tokenization_utils_base.py:2310: FutureWarning: The `pad_to_max_length` argument is deprecated and will be removed in a future version, use `padding=True` or `padding='longest'` to pad to the longest sequence in the batch, or use `padding='max_length'` to pad to a max length. In this case, you can give a specific length with `max_length` (e.g. `max_length=45`) or leave max_length to None to pad to the maximal input size of the model (e.g. 512 for Bert).\n",
            "  FutureWarning,\n"
          ]
        },
        {
          "name": "stdout",
          "output_type": "stream",
          "text": [
            "-- Step: 1800\n",
            "Eval Val loss: 0.14429452188428923\n",
            "Eval Val accuracy: 0.9350335570469799\n",
            "Eval Val micro f1 score: 0.9394750937332619\n"
          ]
        },
        {
          "name": "stderr",
          "output_type": "stream",
          "text": [
            "/usr/local/lib/python3.7/dist-packages/transformers/tokenization_utils_base.py:2310: FutureWarning: The `pad_to_max_length` argument is deprecated and will be removed in a future version, use `padding=True` or `padding='longest'` to pad to the longest sequence in the batch, or use `padding='max_length'` to pad to a max length. In this case, you can give a specific length with `max_length` (e.g. `max_length=45`) or leave max_length to None to pad to the maximal input size of the model (e.g. 512 for Bert).\n",
            "  FutureWarning,\n"
          ]
        },
        {
          "name": "stdout",
          "output_type": "stream",
          "text": [
            "Training loss: 0.04270804004866922\n",
            "Eval Val loss: 0.14233154535009784\n",
            "Eval Val accuracy: 0.9428187919463087\n",
            "Eval Val micro f1 score: 0.9455325999463375\n",
            "Epoch 3/50: F1 Score 0.9455325999463375\n",
            "--- Best Model. Val loss: 0.9425811644754494 -> 0.9455325999463375\n"
          ]
        },
        {
          "data": {
            "application/vnd.jupyter.widget-view+json": {
              "model_id": "2ffd7394bf5d417584f59a4da689841c",
              "version_major": 2,
              "version_minor": 0
            },
            "text/plain": [
              "Epoch 4:   0%|          | 0/1863 [00:00<?, ?it/s]"
            ]
          },
          "metadata": {},
          "output_type": "display_data"
        },
        {
          "name": "stderr",
          "output_type": "stream",
          "text": [
            "/usr/local/lib/python3.7/dist-packages/transformers/tokenization_utils_base.py:2310: FutureWarning: The `pad_to_max_length` argument is deprecated and will be removed in a future version, use `padding=True` or `padding='longest'` to pad to the longest sequence in the batch, or use `padding='max_length'` to pad to a max length. In this case, you can give a specific length with `max_length` (e.g. `max_length=45`) or leave max_length to None to pad to the maximal input size of the model (e.g. 512 for Bert).\n",
            "  FutureWarning,\n"
          ]
        },
        {
          "name": "stdout",
          "output_type": "stream",
          "text": [
            "-- Step: 600\n",
            "Eval Val loss: 0.1480240217034551\n",
            "Eval Val accuracy: 0.9373154362416107\n",
            "Eval Val micro f1 score: 0.9407332660612178\n"
          ]
        },
        {
          "name": "stderr",
          "output_type": "stream",
          "text": [
            "/usr/local/lib/python3.7/dist-packages/transformers/tokenization_utils_base.py:2310: FutureWarning: The `pad_to_max_length` argument is deprecated and will be removed in a future version, use `padding=True` or `padding='longest'` to pad to the longest sequence in the batch, or use `padding='max_length'` to pad to a max length. In this case, you can give a specific length with `max_length` (e.g. `max_length=45`) or leave max_length to None to pad to the maximal input size of the model (e.g. 512 for Bert).\n",
            "  FutureWarning,\n"
          ]
        },
        {
          "name": "stdout",
          "output_type": "stream",
          "text": [
            "-- Step: 1200\n",
            "Eval Val loss: 0.14401367281814897\n",
            "Eval Val accuracy: 0.9393288590604026\n",
            "Eval Val micro f1 score: 0.9431123648330983\n"
          ]
        },
        {
          "name": "stderr",
          "output_type": "stream",
          "text": [
            "/usr/local/lib/python3.7/dist-packages/transformers/tokenization_utils_base.py:2310: FutureWarning: The `pad_to_max_length` argument is deprecated and will be removed in a future version, use `padding=True` or `padding='longest'` to pad to the longest sequence in the batch, or use `padding='max_length'` to pad to a max length. In this case, you can give a specific length with `max_length` (e.g. `max_length=45`) or leave max_length to None to pad to the maximal input size of the model (e.g. 512 for Bert).\n",
            "  FutureWarning,\n"
          ]
        },
        {
          "name": "stdout",
          "output_type": "stream",
          "text": [
            "-- Step: 1800\n",
            "Eval Val loss: 0.17118132765436858\n",
            "Eval Val accuracy: 0.9302013422818792\n",
            "Eval Val micro f1 score: 0.9331274338659863\n"
          ]
        },
        {
          "name": "stderr",
          "output_type": "stream",
          "text": [
            "/usr/local/lib/python3.7/dist-packages/transformers/tokenization_utils_base.py:2310: FutureWarning: The `pad_to_max_length` argument is deprecated and will be removed in a future version, use `padding=True` or `padding='longest'` to pad to the longest sequence in the batch, or use `padding='max_length'` to pad to a max length. In this case, you can give a specific length with `max_length` (e.g. `max_length=45`) or leave max_length to None to pad to the maximal input size of the model (e.g. 512 for Bert).\n",
            "  FutureWarning,\n"
          ]
        },
        {
          "name": "stdout",
          "output_type": "stream",
          "text": [
            "Training loss: 0.033255181854729\n",
            "Eval Val loss: 0.12615013666537914\n",
            "Eval Val accuracy: 0.9408053691275168\n",
            "Eval Val micro f1 score: 0.945755192579149\n",
            "Epoch 4/50: F1 Score 0.945755192579149\n",
            "--- Best Model. Val loss: 0.9455325999463375 -> 0.945755192579149\n"
          ]
        },
        {
          "data": {
            "application/vnd.jupyter.widget-view+json": {
              "model_id": "1d9cabfbf05845edb0fa449332735433",
              "version_major": 2,
              "version_minor": 0
            },
            "text/plain": [
              "Epoch 5:   0%|          | 0/1863 [00:00<?, ?it/s]"
            ]
          },
          "metadata": {},
          "output_type": "display_data"
        },
        {
          "name": "stderr",
          "output_type": "stream",
          "text": [
            "/usr/local/lib/python3.7/dist-packages/transformers/tokenization_utils_base.py:2310: FutureWarning: The `pad_to_max_length` argument is deprecated and will be removed in a future version, use `padding=True` or `padding='longest'` to pad to the longest sequence in the batch, or use `padding='max_length'` to pad to a max length. In this case, you can give a specific length with `max_length` (e.g. `max_length=45`) or leave max_length to None to pad to the maximal input size of the model (e.g. 512 for Bert).\n",
            "  FutureWarning,\n"
          ]
        },
        {
          "name": "stdout",
          "output_type": "stream",
          "text": [
            "-- Step: 600\n",
            "Eval Val loss: 0.15993051683977885\n",
            "Eval Val accuracy: 0.9306040268456376\n",
            "Eval Val micro f1 score: 0.9340231120666488\n"
          ]
        },
        {
          "name": "stderr",
          "output_type": "stream",
          "text": [
            "/usr/local/lib/python3.7/dist-packages/transformers/tokenization_utils_base.py:2310: FutureWarning: The `pad_to_max_length` argument is deprecated and will be removed in a future version, use `padding=True` or `padding='longest'` to pad to the longest sequence in the batch, or use `padding='max_length'` to pad to a max length. In this case, you can give a specific length with `max_length` (e.g. `max_length=45`) or leave max_length to None to pad to the maximal input size of the model (e.g. 512 for Bert).\n",
            "  FutureWarning,\n"
          ]
        },
        {
          "name": "stdout",
          "output_type": "stream",
          "text": [
            "-- Step: 1200\n",
            "Eval Val loss: 0.13013128434680601\n",
            "Eval Val accuracy: 0.941744966442953\n",
            "Eval Val micro f1 score: 0.9452642876308023\n"
          ]
        },
        {
          "name": "stderr",
          "output_type": "stream",
          "text": [
            "/usr/local/lib/python3.7/dist-packages/transformers/tokenization_utils_base.py:2310: FutureWarning: The `pad_to_max_length` argument is deprecated and will be removed in a future version, use `padding=True` or `padding='longest'` to pad to the longest sequence in the batch, or use `padding='max_length'` to pad to a max length. In this case, you can give a specific length with `max_length` (e.g. `max_length=45`) or leave max_length to None to pad to the maximal input size of the model (e.g. 512 for Bert).\n",
            "  FutureWarning,\n"
          ]
        },
        {
          "name": "stdout",
          "output_type": "stream",
          "text": [
            "-- Step: 1800\n",
            "Eval Val loss: 0.15846892555974737\n",
            "Eval Val accuracy: 0.9332885906040268\n",
            "Eval Val micro f1 score: 0.9374454075119264\n"
          ]
        },
        {
          "name": "stderr",
          "output_type": "stream",
          "text": [
            "/usr/local/lib/python3.7/dist-packages/transformers/tokenization_utils_base.py:2310: FutureWarning: The `pad_to_max_length` argument is deprecated and will be removed in a future version, use `padding=True` or `padding='longest'` to pad to the longest sequence in the batch, or use `padding='max_length'` to pad to a max length. In this case, you can give a specific length with `max_length` (e.g. `max_length=45`) or leave max_length to None to pad to the maximal input size of the model (e.g. 512 for Bert).\n",
            "  FutureWarning,\n"
          ]
        },
        {
          "name": "stdout",
          "output_type": "stream",
          "text": [
            "Training loss: 0.025612791469056956\n",
            "Eval Val loss: 0.16185120900914518\n",
            "Eval Val accuracy: 0.9361073825503355\n",
            "Eval Val micro f1 score: 0.9394000402657541\n",
            "Epoch 5/50: F1 Score 0.9394000402657541\n"
          ]
        },
        {
          "data": {
            "application/vnd.jupyter.widget-view+json": {
              "model_id": "72671dd83c1c4e34945ee6fed2d8ea99",
              "version_major": 2,
              "version_minor": 0
            },
            "text/plain": [
              "Epoch 6:   0%|          | 0/1863 [00:00<?, ?it/s]"
            ]
          },
          "metadata": {},
          "output_type": "display_data"
        },
        {
          "name": "stderr",
          "output_type": "stream",
          "text": [
            "/usr/local/lib/python3.7/dist-packages/transformers/tokenization_utils_base.py:2310: FutureWarning: The `pad_to_max_length` argument is deprecated and will be removed in a future version, use `padding=True` or `padding='longest'` to pad to the longest sequence in the batch, or use `padding='max_length'` to pad to a max length. In this case, you can give a specific length with `max_length` (e.g. `max_length=45`) or leave max_length to None to pad to the maximal input size of the model (e.g. 512 for Bert).\n",
            "  FutureWarning,\n"
          ]
        },
        {
          "name": "stdout",
          "output_type": "stream",
          "text": [
            "-- Step: 600\n",
            "Eval Val loss: 0.19050000638120443\n",
            "Eval Val accuracy: 0.934496644295302\n",
            "Eval Val micro f1 score: 0.9364844903988183\n"
          ]
        },
        {
          "name": "stderr",
          "output_type": "stream",
          "text": [
            "/usr/local/lib/python3.7/dist-packages/transformers/tokenization_utils_base.py:2310: FutureWarning: The `pad_to_max_length` argument is deprecated and will be removed in a future version, use `padding=True` or `padding='longest'` to pad to the longest sequence in the batch, or use `padding='max_length'` to pad to a max length. In this case, you can give a specific length with `max_length` (e.g. `max_length=45`) or leave max_length to None to pad to the maximal input size of the model (e.g. 512 for Bert).\n",
            "  FutureWarning,\n"
          ]
        },
        {
          "name": "stdout",
          "output_type": "stream",
          "text": [
            "-- Step: 1200\n",
            "Eval Val loss: 0.1642497205304116\n",
            "Eval Val accuracy: 0.9375838926174497\n",
            "Eval Val micro f1 score: 0.9403786759769034\n"
          ]
        },
        {
          "name": "stderr",
          "output_type": "stream",
          "text": [
            "/usr/local/lib/python3.7/dist-packages/transformers/tokenization_utils_base.py:2310: FutureWarning: The `pad_to_max_length` argument is deprecated and will be removed in a future version, use `padding=True` or `padding='longest'` to pad to the longest sequence in the batch, or use `padding='max_length'` to pad to a max length. In this case, you can give a specific length with `max_length` (e.g. `max_length=45`) or leave max_length to None to pad to the maximal input size of the model (e.g. 512 for Bert).\n",
            "  FutureWarning,\n"
          ]
        },
        {
          "name": "stdout",
          "output_type": "stream",
          "text": [
            "-- Step: 1800\n",
            "Eval Val loss: 0.1570112535345534\n",
            "Eval Val accuracy: 0.9385234899328859\n",
            "Eval Val micro f1 score: 0.9421020778696791\n"
          ]
        },
        {
          "name": "stderr",
          "output_type": "stream",
          "text": [
            "/usr/local/lib/python3.7/dist-packages/transformers/tokenization_utils_base.py:2310: FutureWarning: The `pad_to_max_length` argument is deprecated and will be removed in a future version, use `padding=True` or `padding='longest'` to pad to the longest sequence in the batch, or use `padding='max_length'` to pad to a max length. In this case, you can give a specific length with `max_length` (e.g. `max_length=45`) or leave max_length to None to pad to the maximal input size of the model (e.g. 512 for Bert).\n",
            "  FutureWarning,\n"
          ]
        },
        {
          "name": "stdout",
          "output_type": "stream",
          "text": [
            "Training loss: 0.021349093339662655\n",
            "Eval Val loss: 0.1866218883180971\n",
            "Eval Val accuracy: 0.9280536912751678\n",
            "Eval Val micro f1 score: 0.9311039484286866\n",
            "Epoch 6/50: F1 Score 0.9311039484286866\n"
          ]
        },
        {
          "data": {
            "application/vnd.jupyter.widget-view+json": {
              "model_id": "7accb31ea2624626ab632f0f88eeb437",
              "version_major": 2,
              "version_minor": 0
            },
            "text/plain": [
              "Epoch 7:   0%|          | 0/1863 [00:00<?, ?it/s]"
            ]
          },
          "metadata": {},
          "output_type": "display_data"
        },
        {
          "name": "stderr",
          "output_type": "stream",
          "text": [
            "/usr/local/lib/python3.7/dist-packages/transformers/tokenization_utils_base.py:2310: FutureWarning: The `pad_to_max_length` argument is deprecated and will be removed in a future version, use `padding=True` or `padding='longest'` to pad to the longest sequence in the batch, or use `padding='max_length'` to pad to a max length. In this case, you can give a specific length with `max_length` (e.g. `max_length=45`) or leave max_length to None to pad to the maximal input size of the model (e.g. 512 for Bert).\n",
            "  FutureWarning,\n"
          ]
        },
        {
          "name": "stdout",
          "output_type": "stream",
          "text": [
            "-- Step: 600\n",
            "Eval Val loss: 0.21442883589083644\n",
            "Eval Val accuracy: 0.9343624161073826\n",
            "Eval Val micro f1 score: 0.9357588776263678\n"
          ]
        },
        {
          "name": "stderr",
          "output_type": "stream",
          "text": [
            "/usr/local/lib/python3.7/dist-packages/transformers/tokenization_utils_base.py:2310: FutureWarning: The `pad_to_max_length` argument is deprecated and will be removed in a future version, use `padding=True` or `padding='longest'` to pad to the longest sequence in the batch, or use `padding='max_length'` to pad to a max length. In this case, you can give a specific length with `max_length` (e.g. `max_length=45`) or leave max_length to None to pad to the maximal input size of the model (e.g. 512 for Bert).\n",
            "  FutureWarning,\n"
          ]
        },
        {
          "name": "stdout",
          "output_type": "stream",
          "text": [
            "-- Step: 1200\n",
            "Eval Val loss: 0.16983743382862904\n",
            "Eval Val accuracy: 0.9385234899328859\n",
            "Eval Val micro f1 score: 0.9410500872834698\n"
          ]
        },
        {
          "name": "stderr",
          "output_type": "stream",
          "text": [
            "/usr/local/lib/python3.7/dist-packages/transformers/tokenization_utils_base.py:2310: FutureWarning: The `pad_to_max_length` argument is deprecated and will be removed in a future version, use `padding=True` or `padding='longest'` to pad to the longest sequence in the batch, or use `padding='max_length'` to pad to a max length. In this case, you can give a specific length with `max_length` (e.g. `max_length=45`) or leave max_length to None to pad to the maximal input size of the model (e.g. 512 for Bert).\n",
            "  FutureWarning,\n"
          ]
        },
        {
          "name": "stdout",
          "output_type": "stream",
          "text": [
            "-- Step: 1800\n",
            "Eval Val loss: 0.18036202749271393\n",
            "Eval Val accuracy: 0.9339597315436242\n",
            "Eval Val micro f1 score: 0.9359903381642514\n"
          ]
        },
        {
          "name": "stderr",
          "output_type": "stream",
          "text": [
            "/usr/local/lib/python3.7/dist-packages/transformers/tokenization_utils_base.py:2310: FutureWarning: The `pad_to_max_length` argument is deprecated and will be removed in a future version, use `padding=True` or `padding='longest'` to pad to the longest sequence in the batch, or use `padding='max_length'` to pad to a max length. In this case, you can give a specific length with `max_length` (e.g. `max_length=45`) or leave max_length to None to pad to the maximal input size of the model (e.g. 512 for Bert).\n",
            "  FutureWarning,\n"
          ]
        },
        {
          "name": "stdout",
          "output_type": "stream",
          "text": [
            "Training loss: 0.017991524802422016\n",
            "Eval Val loss: 0.14725358019779783\n",
            "Eval Val accuracy: 0.9375838926174497\n",
            "Eval Val micro f1 score: 0.9409787577305727\n",
            "Epoch 7/50: F1 Score 0.9409787577305727\n"
          ]
        },
        {
          "data": {
            "application/vnd.jupyter.widget-view+json": {
              "model_id": "3de7577819f1437e9ee31e3f3ce21cca",
              "version_major": 2,
              "version_minor": 0
            },
            "text/plain": [
              "Epoch 8:   0%|          | 0/1863 [00:00<?, ?it/s]"
            ]
          },
          "metadata": {},
          "output_type": "display_data"
        },
        {
          "name": "stderr",
          "output_type": "stream",
          "text": [
            "/usr/local/lib/python3.7/dist-packages/transformers/tokenization_utils_base.py:2310: FutureWarning: The `pad_to_max_length` argument is deprecated and will be removed in a future version, use `padding=True` or `padding='longest'` to pad to the longest sequence in the batch, or use `padding='max_length'` to pad to a max length. In this case, you can give a specific length with `max_length` (e.g. `max_length=45`) or leave max_length to None to pad to the maximal input size of the model (e.g. 512 for Bert).\n",
            "  FutureWarning,\n"
          ]
        },
        {
          "name": "stdout",
          "output_type": "stream",
          "text": [
            "-- Step: 600\n",
            "Eval Val loss: 0.16450013944433498\n",
            "Eval Val accuracy: 0.9391946308724832\n",
            "Eval Val micro f1 score: 0.9412948674941294\n"
          ]
        },
        {
          "name": "stderr",
          "output_type": "stream",
          "text": [
            "/usr/local/lib/python3.7/dist-packages/transformers/tokenization_utils_base.py:2310: FutureWarning: The `pad_to_max_length` argument is deprecated and will be removed in a future version, use `padding=True` or `padding='longest'` to pad to the longest sequence in the batch, or use `padding='max_length'` to pad to a max length. In this case, you can give a specific length with `max_length` (e.g. `max_length=45`) or leave max_length to None to pad to the maximal input size of the model (e.g. 512 for Bert).\n",
            "  FutureWarning,\n"
          ]
        },
        {
          "name": "stdout",
          "output_type": "stream",
          "text": [
            "-- Step: 1200\n",
            "Eval Val loss: 0.18379264907242407\n",
            "Eval Val accuracy: 0.9363758389261745\n",
            "Eval Val micro f1 score: 0.9395342594456748\n"
          ]
        },
        {
          "name": "stderr",
          "output_type": "stream",
          "text": [
            "/usr/local/lib/python3.7/dist-packages/transformers/tokenization_utils_base.py:2310: FutureWarning: The `pad_to_max_length` argument is deprecated and will be removed in a future version, use `padding=True` or `padding='longest'` to pad to the longest sequence in the batch, or use `padding='max_length'` to pad to a max length. In this case, you can give a specific length with `max_length` (e.g. `max_length=45`) or leave max_length to None to pad to the maximal input size of the model (e.g. 512 for Bert).\n",
            "  FutureWarning,\n"
          ]
        },
        {
          "name": "stdout",
          "output_type": "stream",
          "text": [
            "-- Step: 1800\n",
            "Eval Val loss: 0.14738812655509778\n",
            "Eval Val accuracy: 0.9441610738255034\n",
            "Eval Val micro f1 score: 0.9457374740089877\n"
          ]
        },
        {
          "name": "stderr",
          "output_type": "stream",
          "text": [
            "/usr/local/lib/python3.7/dist-packages/transformers/tokenization_utils_base.py:2310: FutureWarning: The `pad_to_max_length` argument is deprecated and will be removed in a future version, use `padding=True` or `padding='longest'` to pad to the longest sequence in the batch, or use `padding='max_length'` to pad to a max length. In this case, you can give a specific length with `max_length` (e.g. `max_length=45`) or leave max_length to None to pad to the maximal input size of the model (e.g. 512 for Bert).\n",
            "  FutureWarning,\n"
          ]
        },
        {
          "name": "stdout",
          "output_type": "stream",
          "text": [
            "Training loss: 0.012949184823148373\n",
            "Eval Val loss: 0.151411576942134\n",
            "Eval Val accuracy: 0.9465771812080537\n",
            "Eval Val micro f1 score: 0.9481590771913353\n",
            "Epoch 8/50: F1 Score 0.9481590771913353\n",
            "--- Best Model. Val loss: 0.945755192579149 -> 0.9481590771913353\n"
          ]
        },
        {
          "data": {
            "application/vnd.jupyter.widget-view+json": {
              "model_id": "53dcb0c1c74442efa32840a2a5052e44",
              "version_major": 2,
              "version_minor": 0
            },
            "text/plain": [
              "Epoch 9:   0%|          | 0/1863 [00:00<?, ?it/s]"
            ]
          },
          "metadata": {},
          "output_type": "display_data"
        },
        {
          "name": "stderr",
          "output_type": "stream",
          "text": [
            "/usr/local/lib/python3.7/dist-packages/transformers/tokenization_utils_base.py:2310: FutureWarning: The `pad_to_max_length` argument is deprecated and will be removed in a future version, use `padding=True` or `padding='longest'` to pad to the longest sequence in the batch, or use `padding='max_length'` to pad to a max length. In this case, you can give a specific length with `max_length` (e.g. `max_length=45`) or leave max_length to None to pad to the maximal input size of the model (e.g. 512 for Bert).\n",
            "  FutureWarning,\n"
          ]
        }
      ],
      "source": [
        "train_data_sent = TransformerDataset(X_train_sent, np.vstack(y_train_sent.values).astype(np.float))\n",
        "val_data_sent = TransformerDataset(X_test_sent, np.vstack(y_test_sent.values).astype(np.float))\n",
        "\n",
        "train_dataloader_sent = DataLoader(train_data_sent, batch_size=config.BATCH_SIZE)\n",
        "val_dataloader_sent = DataLoader(val_data_sent, batch_size=config.BATCH_SIZE)\n",
        "\n",
        "best_model, best_val_micro_f1_score = run(sentiment_analysis, train_dataloader_sent, val_dataloader_sent, 'sentiment_model')"
      ]
    },
    {
      "cell_type": "markdown",
      "source": [
        "# Political Analysis"
      ],
      "metadata": {
        "id": "BoTFJxhvk-SP"
      }
    },
    {
      "cell_type": "markdown",
      "source": [
        "## Get the training data"
      ],
      "metadata": {
        "id": "zcWoPwznk-SP"
      }
    },
    {
      "cell_type": "code",
      "source": [
        "df = pd.read_csv('./ExtractedTweets.csv')\n",
        "X_pol = df['Tweet']\n",
        "y_pol = pd.DataFrame(df['Party'])"
      ],
      "metadata": {
        "id": "IwVLn9ORk-SQ"
      },
      "execution_count": null,
      "outputs": []
    },
    {
      "cell_type": "markdown",
      "source": [
        "## Pre-process the training data"
      ],
      "metadata": {
        "id": "gBjyrlBnk-SQ"
      }
    },
    {
      "cell_type": "code",
      "source": [
        "# Create a column for each sentiment. \n",
        "# Each party will be mapped for an individual node in the final layer.\n",
        "y_pol['Democrat'] = int(y_pol['Party'] == 'Democrat')\n",
        "y_pol['Republican'] = int(y_pol['Party'] == 'Republican')\n",
        "y_pol = y_pol.drop('Party', axis = 1)"
      ],
      "metadata": {
        "id": "W94xEPqRk-SQ"
      },
      "execution_count": null,
      "outputs": []
    },
    {
      "cell_type": "markdown",
      "source": [
        "## Split dataset into train and test"
      ],
      "metadata": {
        "id": "eap0n-6Zk-SR"
      }
    },
    {
      "cell_type": "code",
      "source": [
        "X_train_pol, X_test_pol, y_train_pol, y_test_pol = train_test_split(X_pol, y_pol, test_size=0.2, random_state=42)"
      ],
      "metadata": {
        "id": "AM8rywEzk-SR"
      },
      "execution_count": null,
      "outputs": []
    },
    {
      "cell_type": "markdown",
      "source": [
        "## Train the model"
      ],
      "metadata": {
        "id": "u-KQH8msk-SR"
      }
    },
    {
      "cell_type": "code",
      "source": [
        "transformer_weights = AutoModel.from_pretrained(\n",
        "  config.MODEL_PATH\n",
        ")\n",
        "political_model = TransformerModel(transformer_weights, config.NUMBER_POLITICAL_PARTIES)"
      ],
      "metadata": {
        "id": "6BofQ8dck-SS"
      },
      "execution_count": null,
      "outputs": []
    },
    {
      "cell_type": "code",
      "source": [
        "# Run the model on GPU\n",
        "political_model.to(device);"
      ],
      "metadata": {
        "id": "EMC3asXTk-SS"
      },
      "execution_count": null,
      "outputs": []
    },
    {
      "cell_type": "code",
      "execution_count": null,
      "metadata": {
        "colab": {
          "background_save": true,
          "base_uri": "https://localhost:8080/",
          "height": 1000,
          "referenced_widgets": [
            "bc4458cfa8a54bf59a274d88144e53f1",
            "698a915789aa4da4a580fc7b2ca97d6d",
            "0fdeabad393b49d4a9809e6a2321221b",
            "f262bcab81a246e782b0c99ad9e97e64",
            "d91f2397d1a74ba98dee6de726e84aec",
            "e25c8acb4fe5474389e4ec63e0ee838a",
            "a11ea84257ea4f9b8161dfd27c9f485a",
            "4d136f32e87f45b284e56f54d78754f0",
            "b0cb50f355e5424bbbedbdfbe6ebb5bb",
            "555e9b8beefe44789c7396ebca93cf99",
            "f5dd4872aeca4887a1882c8cbdedaced",
            "56b16e5dbaf84bb28303ff762917c432",
            "454cf990719f4603aad8a85f7e039f97",
            "880f586d5d8242718b564ea1e7b9be47",
            "b65f93ec7ecb477d8533c5c34444242e",
            "f6562bcb485b4b699d9ebc0f586a6ffd",
            "2c76887ffc7f4324a3b8916409c08161",
            "17e42a972f66420194bbba3c60f1c7fe",
            "9dac6af30ef642adbd0d564535c942e1",
            "2077c3855d0149409356d97349c0b18e",
            "10642db925d249c58e0d7cc6d1014dce",
            "544f989db6b14308a2b1f108cdd4da1a",
            "e6014136171446b2a126d6bc00e9f6ed",
            "a930bf3ad5024a7b80e647d170cadd7d",
            "1adf44fd61574fc79a9039c2907647d8",
            "f708ca9761004872a28a543bb0a9e602",
            "544f4e52ed1f4724b28ed392d1b7e226",
            "3d80c36e465e48a0a431aa6565ceca02",
            "87facebdff504db68bbea0f9301582aa",
            "190dbf856fe54df7bcdcf796983504eb",
            "807471614dc84682826b7a7de485c5be",
            "c1bd1bac5eaf4539b71c0e2dee35c073",
            "ee2f00430fed4652aefa7457b4ca183c",
            "c46c186a47864260a05df2d192baf8ba",
            "bbc29894c1b4417f9332973ad4485a9e",
            "08178325d5594a3cbfbc7fc03bfdb804",
            "767706889ec24f339ae7a781343faa85",
            "91d09edf33364ad190115eb33fae786f",
            "a2f138105ea149e999bf144c81bb01b8",
            "bfcf369621124d7d8c2d0250959aa352",
            "31504fc000da466fabd4313bb80ccc8b",
            "a04f67c9554348bbb18b50bd5f198767",
            "060f69b93d314793b841b34ec2ec3328",
            "fa9daa5188f1480ea697615101d5efa3",
            "26633c6d00614dda9d1d118ddbbc2c89",
            "f7194e4b32eb496da51295e165d5f755",
            "6794ed8d44d543ba872c874cbf8c9261",
            "8776080f61ed499298f2f0f64bf2ac0f",
            "e5a25188e3f14f51ab69aa76ed2bc267",
            "e5674148502b4a86b6447c27c4eb1997",
            "c83aceb7c22d4c289f5d0f1d4b7d048b",
            "00903b4f488047bb87f873099283cc46",
            "7734ca91174e454d805c16b661a11b78",
            "2297d9527b1b4529adddec78dbe43c34",
            "9d5b278828b943ea9062b48534a580e5",
            "c1307dae44e94fae8a5e4f73d1de6f53",
            "bdb292af59ea41f8bf3aed533b62286a",
            "77d1833f5e894f2ebca515cbee3127de",
            "c059c4831e8748138103ad1cb937a471",
            "4264d697b6bd4de9b05f18c56dab22b1",
            "76b37993bdbe4c4f92a74c8bca21e212",
            "712441bbba3a4fbd89dcf949e2267b54",
            "eb5916bb848a4850a717c95daedba266",
            "7fdb98e1641a4e8fb8249451f25e6e25",
            "8d4d7c3ea7954aebaaab3e267054d18b",
            "da4f4aeccd58406facf478ffac1ec8fd"
          ]
        },
        "outputId": "6b2ee9d5-c255-433e-cc24-10eb57d25be0",
        "id": "cCxYLkTE2htG"
      },
      "outputs": [
        {
          "name": "stderr",
          "output_type": "stream",
          "text": [
            "/usr/local/lib/python3.7/dist-packages/ipykernel_launcher.py:1: DeprecationWarning: `np.float` is a deprecated alias for the builtin `float`. To silence this warning, use `float` by itself. Doing this will not modify any behavior and is safe. If you specifically wanted the numpy scalar type, use `np.float64` here.\n",
            "Deprecated in NumPy 1.20; for more details and guidance: https://numpy.org/devdocs/release/1.20.0-notes.html#deprecations\n",
            "  \"\"\"Entry point for launching an IPython kernel.\n",
            "/usr/local/lib/python3.7/dist-packages/ipykernel_launcher.py:2: DeprecationWarning: `np.float` is a deprecated alias for the builtin `float`. To silence this warning, use `float` by itself. Doing this will not modify any behavior and is safe. If you specifically wanted the numpy scalar type, use `np.float64` here.\n",
            "Deprecated in NumPy 1.20; for more details and guidance: https://numpy.org/devdocs/release/1.20.0-notes.html#deprecations\n",
            "  \n"
          ]
        },
        {
          "data": {
            "application/vnd.jupyter.widget-view+json": {
              "model_id": "bc4458cfa8a54bf59a274d88144e53f1",
              "version_major": 2,
              "version_minor": 0
            },
            "text/plain": [
              "Epoch 0:   0%|          | 0/4323 [00:00<?, ?it/s]"
            ]
          },
          "metadata": {},
          "output_type": "display_data"
        },
        {
          "name": "stderr",
          "output_type": "stream",
          "text": [
            "/usr/local/lib/python3.7/dist-packages/transformers/tokenization_utils_base.py:2310: FutureWarning: The `pad_to_max_length` argument is deprecated and will be removed in a future version, use `padding=True` or `padding='longest'` to pad to the longest sequence in the batch, or use `padding='max_length'` to pad to a max length. In this case, you can give a specific length with `max_length` (e.g. `max_length=45`) or leave max_length to None to pad to the maximal input size of the model (e.g. 512 for Bert).\n",
            "  FutureWarning,\n"
          ]
        },
        {
          "name": "stdout",
          "output_type": "stream",
          "text": [
            "-- Step: 1400\n",
            "Eval Val loss: 0.4768966235130832\n",
            "Eval Val accuracy: 0.7527180198935924\n",
            "Eval Val micro f1 score: 0.7562626554816315\n"
          ]
        },
        {
          "name": "stderr",
          "output_type": "stream",
          "text": [
            "/usr/local/lib/python3.7/dist-packages/transformers/tokenization_utils_base.py:2310: FutureWarning: The `pad_to_max_length` argument is deprecated and will be removed in a future version, use `padding=True` or `padding='longest'` to pad to the longest sequence in the batch, or use `padding='max_length'` to pad to a max length. In this case, you can give a specific length with `max_length` (e.g. `max_length=45`) or leave max_length to None to pad to the maximal input size of the model (e.g. 512 for Bert).\n",
            "  FutureWarning,\n"
          ]
        },
        {
          "name": "stdout",
          "output_type": "stream",
          "text": [
            "-- Step: 2800\n",
            "Eval Val loss: 0.4347767555029937\n",
            "Eval Val accuracy: 0.7878787878787878\n",
            "Eval Val micro f1 score: 0.78968517822555\n"
          ]
        },
        {
          "name": "stderr",
          "output_type": "stream",
          "text": [
            "/usr/local/lib/python3.7/dist-packages/transformers/tokenization_utils_base.py:2310: FutureWarning: The `pad_to_max_length` argument is deprecated and will be removed in a future version, use `padding=True` or `padding='longest'` to pad to the longest sequence in the batch, or use `padding='max_length'` to pad to a max length. In this case, you can give a specific length with `max_length` (e.g. `max_length=45`) or leave max_length to None to pad to the maximal input size of the model (e.g. 512 for Bert).\n",
            "  FutureWarning,\n"
          ]
        },
        {
          "name": "stdout",
          "output_type": "stream",
          "text": [
            "-- Step: 4200\n",
            "Eval Val loss: 0.40093467222607654\n",
            "Eval Val accuracy: 0.8074253990284525\n",
            "Eval Val micro f1 score: 0.8086041401642188\n"
          ]
        },
        {
          "name": "stderr",
          "output_type": "stream",
          "text": [
            "/usr/local/lib/python3.7/dist-packages/transformers/tokenization_utils_base.py:2310: FutureWarning: The `pad_to_max_length` argument is deprecated and will be removed in a future version, use `padding=True` or `padding='longest'` to pad to the longest sequence in the batch, or use `padding='max_length'` to pad to a max length. In this case, you can give a specific length with `max_length` (e.g. `max_length=45`) or leave max_length to None to pad to the maximal input size of the model (e.g. 512 for Bert).\n",
            "  FutureWarning,\n"
          ]
        },
        {
          "name": "stdout",
          "output_type": "stream",
          "text": [
            "Training loss: 0.4795091863710407\n",
            "Eval Val loss: 0.40278075822903864\n",
            "Eval Val accuracy: 0.8079458709229702\n",
            "Eval Val micro f1 score: 0.809215470890906\n",
            "Epoch 0/50: F1 Score 0.809215470890906\n",
            "--- Best Model. Val loss: -inf -> 0.809215470890906\n"
          ]
        },
        {
          "data": {
            "application/vnd.jupyter.widget-view+json": {
              "model_id": "56b16e5dbaf84bb28303ff762917c432",
              "version_major": 2,
              "version_minor": 0
            },
            "text/plain": [
              "Epoch 1:   0%|          | 0/4323 [00:00<?, ?it/s]"
            ]
          },
          "metadata": {},
          "output_type": "display_data"
        },
        {
          "name": "stderr",
          "output_type": "stream",
          "text": [
            "/usr/local/lib/python3.7/dist-packages/transformers/tokenization_utils_base.py:2310: FutureWarning: The `pad_to_max_length` argument is deprecated and will be removed in a future version, use `padding=True` or `padding='longest'` to pad to the longest sequence in the batch, or use `padding='max_length'` to pad to a max length. In this case, you can give a specific length with `max_length` (e.g. `max_length=45`) or leave max_length to None to pad to the maximal input size of the model (e.g. 512 for Bert).\n",
            "  FutureWarning,\n"
          ]
        },
        {
          "name": "stdout",
          "output_type": "stream",
          "text": [
            "-- Step: 1400\n",
            "Eval Val loss: 0.4239306390512938\n",
            "Eval Val accuracy: 0.8056904927133934\n",
            "Eval Val micro f1 score: 0.80661481974038\n"
          ]
        },
        {
          "name": "stderr",
          "output_type": "stream",
          "text": [
            "/usr/local/lib/python3.7/dist-packages/transformers/tokenization_utils_base.py:2310: FutureWarning: The `pad_to_max_length` argument is deprecated and will be removed in a future version, use `padding=True` or `padding='longest'` to pad to the longest sequence in the batch, or use `padding='max_length'` to pad to a max length. In this case, you can give a specific length with `max_length` (e.g. `max_length=45`) or leave max_length to None to pad to the maximal input size of the model (e.g. 512 for Bert).\n",
            "  FutureWarning,\n"
          ]
        },
        {
          "name": "stdout",
          "output_type": "stream",
          "text": [
            "-- Step: 2800\n",
            "Eval Val loss: 0.43602336941081876\n",
            "Eval Val accuracy: 0.8088711542910016\n",
            "Eval Val micro f1 score: 0.8092869947377551\n"
          ]
        },
        {
          "name": "stderr",
          "output_type": "stream",
          "text": [
            "/usr/local/lib/python3.7/dist-packages/transformers/tokenization_utils_base.py:2310: FutureWarning: The `pad_to_max_length` argument is deprecated and will be removed in a future version, use `padding=True` or `padding='longest'` to pad to the longest sequence in the batch, or use `padding='max_length'` to pad to a max length. In this case, you can give a specific length with `max_length` (e.g. `max_length=45`) or leave max_length to None to pad to the maximal input size of the model (e.g. 512 for Bert).\n",
            "  FutureWarning,\n"
          ]
        },
        {
          "name": "stdout",
          "output_type": "stream",
          "text": [
            "-- Step: 4200\n",
            "Eval Val loss: 0.41410983115724126\n",
            "Eval Val accuracy: 0.8138445523941708\n",
            "Eval Val micro f1 score: 0.814379916705229\n"
          ]
        },
        {
          "name": "stderr",
          "output_type": "stream",
          "text": [
            "/usr/local/lib/python3.7/dist-packages/transformers/tokenization_utils_base.py:2310: FutureWarning: The `pad_to_max_length` argument is deprecated and will be removed in a future version, use `padding=True` or `padding='longest'` to pad to the longest sequence in the batch, or use `padding='max_length'` to pad to a max length. In this case, you can give a specific length with `max_length` (e.g. `max_length=45`) or leave max_length to None to pad to the maximal input size of the model (e.g. 512 for Bert).\n",
            "  FutureWarning,\n"
          ]
        },
        {
          "name": "stdout",
          "output_type": "stream",
          "text": [
            "Training loss: 0.31205980414311396\n",
            "Eval Val loss: 0.42216208715002146\n",
            "Eval Val accuracy: 0.8185866296553319\n",
            "Eval Val micro f1 score: 0.8189705031810296\n",
            "Epoch 1/50: F1 Score 0.8189705031810296\n",
            "--- Best Model. Val loss: 0.809215470890906 -> 0.8189705031810296\n"
          ]
        },
        {
          "data": {
            "application/vnd.jupyter.widget-view+json": {
              "model_id": "e6014136171446b2a126d6bc00e9f6ed",
              "version_major": 2,
              "version_minor": 0
            },
            "text/plain": [
              "Epoch 2:   0%|          | 0/4323 [00:00<?, ?it/s]"
            ]
          },
          "metadata": {},
          "output_type": "display_data"
        },
        {
          "name": "stderr",
          "output_type": "stream",
          "text": [
            "/usr/local/lib/python3.7/dist-packages/transformers/tokenization_utils_base.py:2310: FutureWarning: The `pad_to_max_length` argument is deprecated and will be removed in a future version, use `padding=True` or `padding='longest'` to pad to the longest sequence in the batch, or use `padding='max_length'` to pad to a max length. In this case, you can give a specific length with `max_length` (e.g. `max_length=45`) or leave max_length to None to pad to the maximal input size of the model (e.g. 512 for Bert).\n",
            "  FutureWarning,\n"
          ]
        },
        {
          "name": "stdout",
          "output_type": "stream",
          "text": [
            "-- Step: 1400\n",
            "Eval Val loss: 0.49539794254045205\n",
            "Eval Val accuracy: 0.813324080499653\n",
            "Eval Val micro f1 score: 0.8135230493377292\n"
          ]
        },
        {
          "name": "stderr",
          "output_type": "stream",
          "text": [
            "/usr/local/lib/python3.7/dist-packages/transformers/tokenization_utils_base.py:2310: FutureWarning: The `pad_to_max_length` argument is deprecated and will be removed in a future version, use `padding=True` or `padding='longest'` to pad to the longest sequence in the batch, or use `padding='max_length'` to pad to a max length. In this case, you can give a specific length with `max_length` (e.g. `max_length=45`) or leave max_length to None to pad to the maximal input size of the model (e.g. 512 for Bert).\n",
            "  FutureWarning,\n"
          ]
        },
        {
          "name": "stdout",
          "output_type": "stream",
          "text": [
            "-- Step: 2800\n",
            "Eval Val loss: 0.5189736401860384\n",
            "Eval Val accuracy: 0.8141915336571826\n",
            "Eval Val micro f1 score: 0.8144013880855986\n"
          ]
        },
        {
          "name": "stderr",
          "output_type": "stream",
          "text": [
            "/usr/local/lib/python3.7/dist-packages/transformers/tokenization_utils_base.py:2310: FutureWarning: The `pad_to_max_length` argument is deprecated and will be removed in a future version, use `padding=True` or `padding='longest'` to pad to the longest sequence in the batch, or use `padding='max_length'` to pad to a max length. In this case, you can give a specific length with `max_length` (e.g. `max_length=45`) or leave max_length to None to pad to the maximal input size of the model (e.g. 512 for Bert).\n",
            "  FutureWarning,\n"
          ]
        },
        {
          "name": "stdout",
          "output_type": "stream",
          "text": [
            "-- Step: 4200\n",
            "Eval Val loss: 0.5120922061679307\n",
            "Eval Val accuracy: 0.820205875549387\n",
            "Eval Val micro f1 score: 0.8206447882029781\n"
          ]
        },
        {
          "name": "stderr",
          "output_type": "stream",
          "text": [
            "/usr/local/lib/python3.7/dist-packages/transformers/tokenization_utils_base.py:2310: FutureWarning: The `pad_to_max_length` argument is deprecated and will be removed in a future version, use `padding=True` or `padding='longest'` to pad to the longest sequence in the batch, or use `padding='max_length'` to pad to a max length. In this case, you can give a specific length with `max_length` (e.g. `max_length=45`) or leave max_length to None to pad to the maximal input size of the model (e.g. 512 for Bert).\n",
            "  FutureWarning,\n"
          ]
        },
        {
          "name": "stdout",
          "output_type": "stream",
          "text": [
            "Training loss: 0.1995547988671545\n",
            "Eval Val loss: 0.5203604416018843\n",
            "Eval Val accuracy: 0.8140180430256766\n",
            "Eval Val micro f1 score: 0.8143691791519638\n",
            "Epoch 2/50: F1 Score 0.8143691791519638\n"
          ]
        },
        {
          "data": {
            "application/vnd.jupyter.widget-view+json": {
              "model_id": "c46c186a47864260a05df2d192baf8ba",
              "version_major": 2,
              "version_minor": 0
            },
            "text/plain": [
              "Epoch 3:   0%|          | 0/4323 [00:00<?, ?it/s]"
            ]
          },
          "metadata": {},
          "output_type": "display_data"
        },
        {
          "name": "stderr",
          "output_type": "stream",
          "text": [
            "/usr/local/lib/python3.7/dist-packages/transformers/tokenization_utils_base.py:2310: FutureWarning: The `pad_to_max_length` argument is deprecated and will be removed in a future version, use `padding=True` or `padding='longest'` to pad to the longest sequence in the batch, or use `padding='max_length'` to pad to a max length. In this case, you can give a specific length with `max_length` (e.g. `max_length=45`) or leave max_length to None to pad to the maximal input size of the model (e.g. 512 for Bert).\n",
            "  FutureWarning,\n"
          ]
        },
        {
          "name": "stdout",
          "output_type": "stream",
          "text": [
            "-- Step: 1400\n",
            "Eval Val loss: 0.6085045073133145\n",
            "Eval Val accuracy: 0.8177770067083044\n",
            "Eval Val micro f1 score: 0.8179163172657086\n"
          ]
        },
        {
          "name": "stderr",
          "output_type": "stream",
          "text": [
            "/usr/local/lib/python3.7/dist-packages/transformers/tokenization_utils_base.py:2310: FutureWarning: The `pad_to_max_length` argument is deprecated and will be removed in a future version, use `padding=True` or `padding='longest'` to pad to the longest sequence in the batch, or use `padding='max_length'` to pad to a max length. In this case, you can give a specific length with `max_length` (e.g. `max_length=45`) or leave max_length to None to pad to the maximal input size of the model (e.g. 512 for Bert).\n",
            "  FutureWarning,\n"
          ]
        },
        {
          "name": "stdout",
          "output_type": "stream",
          "text": [
            "-- Step: 2800\n",
            "Eval Val loss: 0.5556214685947268\n",
            "Eval Val accuracy: 0.8126879481841314\n",
            "Eval Val micro f1 score: 0.8130349294471432\n"
          ]
        },
        {
          "name": "stderr",
          "output_type": "stream",
          "text": [
            "/usr/local/lib/python3.7/dist-packages/transformers/tokenization_utils_base.py:2310: FutureWarning: The `pad_to_max_length` argument is deprecated and will be removed in a future version, use `padding=True` or `padding='longest'` to pad to the longest sequence in the batch, or use `padding='max_length'` to pad to a max length. In this case, you can give a specific length with `max_length` (e.g. `max_length=45`) or leave max_length to None to pad to the maximal input size of the model (e.g. 512 for Bert).\n",
            "  FutureWarning,\n"
          ]
        },
        {
          "name": "stdout",
          "output_type": "stream",
          "text": [
            "-- Step: 4200\n",
            "Eval Val loss: 0.5490245447570766\n",
            "Eval Val accuracy: 0.8191071015498497\n",
            "Eval Val micro f1 score: 0.8192227619708535\n"
          ]
        },
        {
          "name": "stderr",
          "output_type": "stream",
          "text": [
            "/usr/local/lib/python3.7/dist-packages/transformers/tokenization_utils_base.py:2310: FutureWarning: The `pad_to_max_length` argument is deprecated and will be removed in a future version, use `padding=True` or `padding='longest'` to pad to the longest sequence in the batch, or use `padding='max_length'` to pad to a max length. In this case, you can give a specific length with `max_length` (e.g. `max_length=45`) or leave max_length to None to pad to the maximal input size of the model (e.g. 512 for Bert).\n",
            "  FutureWarning,\n"
          ]
        },
        {
          "name": "stdout",
          "output_type": "stream",
          "text": [
            "Training loss: 0.13566115780088514\n",
            "Eval Val loss: 0.5328339909114612\n",
            "Eval Val accuracy: 0.8170830441822808\n",
            "Eval Val micro f1 score: 0.8172329044383403\n",
            "Epoch 3/50: F1 Score 0.8172329044383403\n"
          ]
        },
        {
          "data": {
            "application/vnd.jupyter.widget-view+json": {
              "model_id": "26633c6d00614dda9d1d118ddbbc2c89",
              "version_major": 2,
              "version_minor": 0
            },
            "text/plain": [
              "Epoch 4:   0%|          | 0/4323 [00:00<?, ?it/s]"
            ]
          },
          "metadata": {},
          "output_type": "display_data"
        },
        {
          "name": "stderr",
          "output_type": "stream",
          "text": [
            "/usr/local/lib/python3.7/dist-packages/transformers/tokenization_utils_base.py:2310: FutureWarning: The `pad_to_max_length` argument is deprecated and will be removed in a future version, use `padding=True` or `padding='longest'` to pad to the longest sequence in the batch, or use `padding='max_length'` to pad to a max length. In this case, you can give a specific length with `max_length` (e.g. `max_length=45`) or leave max_length to None to pad to the maximal input size of the model (e.g. 512 for Bert).\n",
            "  FutureWarning,\n"
          ]
        },
        {
          "name": "stdout",
          "output_type": "stream",
          "text": [
            "-- Step: 1400\n",
            "Eval Val loss: 0.6636190922852436\n",
            "Eval Val accuracy: 0.8206685172334027\n",
            "Eval Val micro f1 score: 0.8208079114015556\n"
          ]
        },
        {
          "name": "stderr",
          "output_type": "stream",
          "text": [
            "/usr/local/lib/python3.7/dist-packages/transformers/tokenization_utils_base.py:2310: FutureWarning: The `pad_to_max_length` argument is deprecated and will be removed in a future version, use `padding=True` or `padding='longest'` to pad to the longest sequence in the batch, or use `padding='max_length'` to pad to a max length. In this case, you can give a specific length with `max_length` (e.g. `max_length=45`) or leave max_length to None to pad to the maximal input size of the model (e.g. 512 for Bert).\n",
            "  FutureWarning,\n"
          ]
        },
        {
          "name": "stdout",
          "output_type": "stream",
          "text": [
            "-- Step: 2800\n",
            "Eval Val loss: 0.6492259981038323\n",
            "Eval Val accuracy: 0.816736062919269\n",
            "Eval Val micro f1 score: 0.8168729038973054\n"
          ]
        },
        {
          "name": "stderr",
          "output_type": "stream",
          "text": [
            "/usr/local/lib/python3.7/dist-packages/transformers/tokenization_utils_base.py:2310: FutureWarning: The `pad_to_max_length` argument is deprecated and will be removed in a future version, use `padding=True` or `padding='longest'` to pad to the longest sequence in the batch, or use `padding='max_length'` to pad to a max length. In this case, you can give a specific length with `max_length` (e.g. `max_length=45`) or leave max_length to None to pad to the maximal input size of the model (e.g. 512 for Bert).\n",
            "  FutureWarning,\n"
          ]
        },
        {
          "name": "stdout",
          "output_type": "stream",
          "text": [
            "-- Step: 4200\n",
            "Eval Val loss: 0.6993811901957727\n",
            "Eval Val accuracy: 0.813439740920657\n",
            "Eval Val micro f1 score: 0.8136151999768646\n"
          ]
        },
        {
          "name": "stderr",
          "output_type": "stream",
          "text": [
            "/usr/local/lib/python3.7/dist-packages/transformers/tokenization_utils_base.py:2310: FutureWarning: The `pad_to_max_length` argument is deprecated and will be removed in a future version, use `padding=True` or `padding='longest'` to pad to the longest sequence in the batch, or use `padding='max_length'` to pad to a max length. In this case, you can give a specific length with `max_length` (e.g. `max_length=45`) or leave max_length to None to pad to the maximal input size of the model (e.g. 512 for Bert).\n",
            "  FutureWarning,\n"
          ]
        },
        {
          "name": "stdout",
          "output_type": "stream",
          "text": [
            "Training loss: 0.09404740448985223\n",
            "Eval Val loss: 0.6203218648739153\n",
            "Eval Val accuracy: 0.814943326393708\n",
            "Eval Val micro f1 score: 0.8150140250426535\n",
            "Epoch 4/50: F1 Score 0.8150140250426535\n"
          ]
        },
        {
          "data": {
            "application/vnd.jupyter.widget-view+json": {
              "model_id": "c1307dae44e94fae8a5e4f73d1de6f53",
              "version_major": 2,
              "version_minor": 0
            },
            "text/plain": [
              "Epoch 5:   0%|          | 0/4323 [00:00<?, ?it/s]"
            ]
          },
          "metadata": {},
          "output_type": "display_data"
        },
        {
          "name": "stderr",
          "output_type": "stream",
          "text": [
            "/usr/local/lib/python3.7/dist-packages/transformers/tokenization_utils_base.py:2310: FutureWarning: The `pad_to_max_length` argument is deprecated and will be removed in a future version, use `padding=True` or `padding='longest'` to pad to the longest sequence in the batch, or use `padding='max_length'` to pad to a max length. In this case, you can give a specific length with `max_length` (e.g. `max_length=45`) or leave max_length to None to pad to the maximal input size of the model (e.g. 512 for Bert).\n",
            "  FutureWarning,\n"
          ]
        },
        {
          "name": "stdout",
          "output_type": "stream",
          "text": [
            "-- Step: 1400\n",
            "Eval Val loss: 0.708330737668323\n",
            "Eval Val accuracy: 0.8170252139717789\n",
            "Eval Val micro f1 score: 0.8170488390249545\n"
          ]
        },
        {
          "name": "stderr",
          "output_type": "stream",
          "text": [
            "/usr/local/lib/python3.7/dist-packages/transformers/tokenization_utils_base.py:2310: FutureWarning: The `pad_to_max_length` argument is deprecated and will be removed in a future version, use `padding=True` or `padding='longest'` to pad to the longest sequence in the batch, or use `padding='max_length'` to pad to a max length. In this case, you can give a specific length with `max_length` (e.g. `max_length=45`) or leave max_length to None to pad to the maximal input size of the model (e.g. 512 for Bert).\n",
            "  FutureWarning,\n"
          ]
        },
        {
          "name": "stdout",
          "output_type": "stream",
          "text": [
            "-- Step: 2800\n",
            "Eval Val loss: 0.6623085879653547\n",
            "Eval Val accuracy: 0.8157529493407356\n",
            "Eval Val micro f1 score: 0.8159157943438783\n"
          ]
        },
        {
          "name": "stderr",
          "output_type": "stream",
          "text": [
            "/usr/local/lib/python3.7/dist-packages/transformers/tokenization_utils_base.py:2310: FutureWarning: The `pad_to_max_length` argument is deprecated and will be removed in a future version, use `padding=True` or `padding='longest'` to pad to the longest sequence in the batch, or use `padding='max_length'` to pad to a max length. In this case, you can give a specific length with `max_length` (e.g. `max_length=45`) or leave max_length to None to pad to the maximal input size of the model (e.g. 512 for Bert).\n",
            "  FutureWarning,\n"
          ]
        }
      ],
      "source": [
        "train_data_pol = TransformerDataset(X_train_pol, np.vstack(y_train_pol.values).astype(np.float))\n",
        "val_data_pol = TransformerDataset(X_test_pol, np.vstack(y_test_pol.values).astype(np.float))\n",
        "\n",
        "train_dataloader_pol = DataLoader(train_data_pol, batch_size=config.BATCH_SIZE)\n",
        "val_dataloader_pol = DataLoader(val_data_pol, batch_size=config.BATCH_SIZE)\n",
        "\n",
        "best_model, best_val_micro_f1_score = run(political_model, train_dataloader_pol, val_dataloader_pol, 'political_model')"
      ]
    },
    {
      "cell_type": "markdown",
      "source": [
        "**Comment**: For both models, the test accuracy and F1-score are quite high (sentiment analysis has an accuracy of 0.94 and for political classification ~0.82)"
      ],
      "metadata": {
        "id": "GZCdJ5ZJmdwK"
      }
    },
    {
      "cell_type": "markdown",
      "source": [
        "# Predictions\n",
        "\n",
        "We applied the found models in order to compute the political orientations and sentiment of each video, based on the title and textual description."
      ],
      "metadata": {
        "id": "2O1nhov3hrjk"
      }
    },
    {
      "cell_type": "markdown",
      "source": [
        "## Prediction Functions"
      ],
      "metadata": {
        "id": "498etXDvkPcv"
      }
    },
    {
      "cell_type": "code",
      "source": [
        "# Use the model to predict the probabilities for each label\n",
        "# for all texts in the test_text.\n",
        "def predict(model, test_text):\n",
        "    val_loss = 0\n",
        "    test_pred = []\n",
        "\n",
        "    test_data = TransformerDataset(test_text, None, set_type='test')\n",
        "    test_dataloader = DataLoader(test_data, batch_size=config.BATCH_SIZE)\n",
        "    \n",
        "    model.eval()\n",
        "    for step, batch in enumerate(test_dataloader):\n",
        "        b_input_ids = batch['input_ids'].to(device)\n",
        "        b_attention_mask = batch['attention_mask'].to(device)\n",
        "\n",
        "        with torch.no_grad():\n",
        "            logits = model(input_ids=b_input_ids, attention_mask=b_attention_mask)\n",
        "            logits = torch.sigmoid(logits)\n",
        "            logits = logits.cpu().numpy()\n",
        "            test_pred.extend(logits)\n",
        "\n",
        "    test_pred = np.array(test_pred)\n",
        "    return test_pred"
      ],
      "metadata": {
        "id": "J-by2mDzj5Vr"
      },
      "execution_count": null,
      "outputs": []
    },
    {
      "cell_type": "markdown",
      "source": [
        "## Apply predictions on the dataset"
      ],
      "metadata": {
        "id": "7SCiVRZqkZDy"
      }
    },
    {
      "cell_type": "code",
      "source": [
        "def compute_dataset(files, model, file_location, output_file_name, new_columns):\n",
        "  chunksize = 25000\n",
        "  nr = 0\n",
        "\n",
        "  # New dataframe will contain the columns:\n",
        "  #     \"display_id\",\n",
        "  #     \"channel_id\",\n",
        "  #     \"upload_date\", \n",
        "  #     \"like_count\", \n",
        "  #     \"dislike_count\", \n",
        "  #     \"view_count\n",
        "  # together with the newly computed columns, \n",
        "  # corresponding to the probability for a specific label\n",
        "\n",
        "  all_columns = [\n",
        "      \"display_id\",\n",
        "      \"channel_id\",\n",
        "      \"upload_date\", \n",
        "      \"like_count\", \n",
        "      \"dislike_count\", \n",
        "      \"view_count\"\n",
        "  ]\n",
        "  all_columns.extend(new_columns)\n",
        "\n",
        "  for filename in files:\n",
        "    new_dataframe_name = file_location  + output_file_name + str(nr) + '.csv'\n",
        "    nr += 1\n",
        "    \n",
        "    df = pd.DataFrame(columns=all_columns)\n",
        "    df.to_csv(new_dataframe_name)\n",
        "\n",
        "    # Since tge files don't fit into memeory, process them by chunks.\n",
        "    for chunk in pd.read_csv(filename,chunksize=chunksize):\n",
        "        data = pd.DataFrame(chunk)        \n",
        "       \n",
        "        data[\"Text\"] = data.title.astype(str) + data.description.astype(str)\n",
        "        \n",
        "        test_pred = predict(model, data[\"Text\"])\n",
        "        \n",
        "        # Add the value to the columns coresponding to each label.\n",
        "        for index, column_name in enumerate(new_columns):\n",
        "          data[column_name] = [p[index] for p in test_pred]\n",
        "  \n",
        " \n",
        "        data[all_columns].to_csv(new_dataframe_name, mode='a', index=False, header=False)\n",
        "\n",
        "  return df"
      ],
      "metadata": {
        "id": "nVR7_2FHkcIt"
      },
      "execution_count": null,
      "outputs": []
    },
    {
      "cell_type": "code",
      "source": [
        "files = [\n",
        "    \"./drive/MyDrive/data/yt_videos_data_news_politics_chunk_3.csv\",\n",
        "    \"./drive/MyDrive/data/yt_videos_data_news_politics_chunk_1.csv\",\n",
        "    \"./drive/MyDrive/data/yt_videos_data_news_politics_chunk_2.csv\",\n",
        "    \"./drive/MyDrive/data/yt_videos_data_news_politics_chunk_3.csv\",\n",
        "    \"./drive/MyDrive/data/yt_videos_data_news_politics_chunk_4.csv\",\n",
        "    \"./drive/MyDrive/data/yt_videos_data_news_politics_chunk_5.csv\",\n",
        "    \"./drive/MyDrive/data/yt_videos_data_news_politics_chunk_6.csv\",\n",
        "    \"./drive/MyDrive/data/yt_videos_data_news_politics_chunk_7.csv\",\n",
        "    \"./drive/MyDrive/data/yt_videos_data_news_politics_chunk_8.csv\",         \n",
        "    \"./drive/MyDrive/data/yt_videos_data_news_politics_chunk_9.csv\",\n",
        "    \"./drive/MyDrive/data/yt_videos_data_news_politics_chunk_10.csv\"\n",
        "]"
      ],
      "metadata": {
        "id": "NN-_5hSjnXf8"
      },
      "execution_count": null,
      "outputs": []
    },
    {
      "cell_type": "markdown",
      "source": [
        "# Compute Political Scores"
      ],
      "metadata": {
        "id": "VEgQpGjFgfSz"
      }
    },
    {
      "cell_type": "code",
      "source": [
        "file_location = \"./drive/MyDrive/data/\"\n",
        "model_path = \"./drive/MyDrive/data/political_model.pt\"\n",
        "output_file_name = \"yt_videos_data_news_politics_political_orient\""
      ],
      "metadata": {
        "id": "cY5RuxTPofJS"
      },
      "execution_count": null,
      "outputs": []
    },
    {
      "cell_type": "code",
      "source": [
        "\n",
        "best_model = TransformerModel(transformer_weights, config.NUMBER_POLITICAL_PARTIES)\n",
        "best_model.to(device);\n",
        "best_model.load_state_dict(torch.load(model_path))"
      ],
      "metadata": {
        "id": "v6fdEBuwnmsQ"
      },
      "execution_count": null,
      "outputs": []
    },
    {
      "cell_type": "code",
      "source": [
        "df = compute_dataset(files, best_model, file_location, output_file_name, [\"democrat\", \"republican\"])"
      ],
      "metadata": {
        "id": "hZrOr-G_oZ6o"
      },
      "execution_count": null,
      "outputs": []
    },
    {
      "cell_type": "markdown",
      "source": [
        "# Compute Sentiment Scores"
      ],
      "metadata": {
        "id": "Jw_D_IyHo7i6"
      }
    },
    {
      "cell_type": "code",
      "source": [
        "file_location = \"./drive/MyDrive/data/\"\n",
        "model_path = \"./drive/MyDrive/data/sentiment_model.pt\"\n",
        "output_file_name = \"yt_videos_data_news_politics_sentiment\""
      ],
      "metadata": {
        "id": "EL2StoTAo7i8"
      },
      "execution_count": null,
      "outputs": []
    },
    {
      "cell_type": "code",
      "source": [
        "\n",
        "best_model = TransformerModel(transformer_weights, config.NUMBER_EMOTIONS)\n",
        "best_model.to(device);\n",
        "best_model.load_state_dict(torch.load(model_path))"
      ],
      "metadata": {
        "id": "XCX85R1Ko7i8"
      },
      "execution_count": null,
      "outputs": []
    },
    {
      "cell_type": "code",
      "source": [
        "df = compute_dataset(files, best_model, file_location, output_file_name, [\"negative_sentiment_score\", \"neutral_sentiment_score\", \"positive_sentiment_score\"])"
      ],
      "metadata": {
        "id": "DICJi1Tyo7i9"
      },
      "execution_count": null,
      "outputs": []
    }
  ]
}